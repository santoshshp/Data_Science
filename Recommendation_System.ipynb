{
 "cells": [
  {
   "cell_type": "code",
   "execution_count": null,
   "metadata": {},
   "outputs": [],
   "source": [
    "!pip install plotly"
   ]
  },
  {
   "cell_type": "code",
   "execution_count": null,
   "metadata": {},
   "outputs": [],
   "source": [
    "!pip install --upgrade nbformat\n"
   ]
  },
  {
   "cell_type": "code",
   "execution_count": 2,
   "metadata": {},
   "outputs": [],
   "source": [
    "import pandas as pd\n",
    "import numpy as np\n",
    "import matplotlib.pyplot as plt\n",
    "import seaborn as sns\n",
    "import plotly.express as px "
   ]
  },
  {
   "cell_type": "code",
   "execution_count": 3,
   "metadata": {},
   "outputs": [
    {
     "data": {
      "text/html": [
       "<div>\n",
       "<style scoped>\n",
       "    .dataframe tbody tr th:only-of-type {\n",
       "        vertical-align: middle;\n",
       "    }\n",
       "\n",
       "    .dataframe tbody tr th {\n",
       "        vertical-align: top;\n",
       "    }\n",
       "\n",
       "    .dataframe thead th {\n",
       "        text-align: right;\n",
       "    }\n",
       "</style>\n",
       "<table border=\"1\" class=\"dataframe\">\n",
       "  <thead>\n",
       "    <tr style=\"text-align: right;\">\n",
       "      <th></th>\n",
       "      <th>anime_id</th>\n",
       "      <th>name</th>\n",
       "      <th>genre</th>\n",
       "      <th>type</th>\n",
       "      <th>episodes</th>\n",
       "      <th>rating</th>\n",
       "      <th>members</th>\n",
       "    </tr>\n",
       "  </thead>\n",
       "  <tbody>\n",
       "    <tr>\n",
       "      <th>0</th>\n",
       "      <td>32281</td>\n",
       "      <td>Kimi no Na wa.</td>\n",
       "      <td>Drama, Romance, School, Supernatural</td>\n",
       "      <td>Movie</td>\n",
       "      <td>1</td>\n",
       "      <td>9.37</td>\n",
       "      <td>200630</td>\n",
       "    </tr>\n",
       "    <tr>\n",
       "      <th>1</th>\n",
       "      <td>5114</td>\n",
       "      <td>Fullmetal Alchemist: Brotherhood</td>\n",
       "      <td>Action, Adventure, Drama, Fantasy, Magic, Mili...</td>\n",
       "      <td>TV</td>\n",
       "      <td>64</td>\n",
       "      <td>9.26</td>\n",
       "      <td>793665</td>\n",
       "    </tr>\n",
       "    <tr>\n",
       "      <th>2</th>\n",
       "      <td>28977</td>\n",
       "      <td>Gintama°</td>\n",
       "      <td>Action, Comedy, Historical, Parody, Samurai, S...</td>\n",
       "      <td>TV</td>\n",
       "      <td>51</td>\n",
       "      <td>9.25</td>\n",
       "      <td>114262</td>\n",
       "    </tr>\n",
       "    <tr>\n",
       "      <th>3</th>\n",
       "      <td>9253</td>\n",
       "      <td>Steins;Gate</td>\n",
       "      <td>Sci-Fi, Thriller</td>\n",
       "      <td>TV</td>\n",
       "      <td>24</td>\n",
       "      <td>9.17</td>\n",
       "      <td>673572</td>\n",
       "    </tr>\n",
       "    <tr>\n",
       "      <th>4</th>\n",
       "      <td>9969</td>\n",
       "      <td>Gintama&amp;#039;</td>\n",
       "      <td>Action, Comedy, Historical, Parody, Samurai, S...</td>\n",
       "      <td>TV</td>\n",
       "      <td>51</td>\n",
       "      <td>9.16</td>\n",
       "      <td>151266</td>\n",
       "    </tr>\n",
       "    <tr>\n",
       "      <th>...</th>\n",
       "      <td>...</td>\n",
       "      <td>...</td>\n",
       "      <td>...</td>\n",
       "      <td>...</td>\n",
       "      <td>...</td>\n",
       "      <td>...</td>\n",
       "      <td>...</td>\n",
       "    </tr>\n",
       "    <tr>\n",
       "      <th>12289</th>\n",
       "      <td>9316</td>\n",
       "      <td>Toushindai My Lover: Minami tai Mecha-Minami</td>\n",
       "      <td>Hentai</td>\n",
       "      <td>OVA</td>\n",
       "      <td>1</td>\n",
       "      <td>4.15</td>\n",
       "      <td>211</td>\n",
       "    </tr>\n",
       "    <tr>\n",
       "      <th>12290</th>\n",
       "      <td>5543</td>\n",
       "      <td>Under World</td>\n",
       "      <td>Hentai</td>\n",
       "      <td>OVA</td>\n",
       "      <td>1</td>\n",
       "      <td>4.28</td>\n",
       "      <td>183</td>\n",
       "    </tr>\n",
       "    <tr>\n",
       "      <th>12291</th>\n",
       "      <td>5621</td>\n",
       "      <td>Violence Gekiga David no Hoshi</td>\n",
       "      <td>Hentai</td>\n",
       "      <td>OVA</td>\n",
       "      <td>4</td>\n",
       "      <td>4.88</td>\n",
       "      <td>219</td>\n",
       "    </tr>\n",
       "    <tr>\n",
       "      <th>12292</th>\n",
       "      <td>6133</td>\n",
       "      <td>Violence Gekiga Shin David no Hoshi: Inma Dens...</td>\n",
       "      <td>Hentai</td>\n",
       "      <td>OVA</td>\n",
       "      <td>1</td>\n",
       "      <td>4.98</td>\n",
       "      <td>175</td>\n",
       "    </tr>\n",
       "    <tr>\n",
       "      <th>12293</th>\n",
       "      <td>26081</td>\n",
       "      <td>Yasuji no Pornorama: Yacchimae!!</td>\n",
       "      <td>Hentai</td>\n",
       "      <td>Movie</td>\n",
       "      <td>1</td>\n",
       "      <td>5.46</td>\n",
       "      <td>142</td>\n",
       "    </tr>\n",
       "  </tbody>\n",
       "</table>\n",
       "<p>12294 rows × 7 columns</p>\n",
       "</div>"
      ],
      "text/plain": [
       "       anime_id                                               name  \\\n",
       "0         32281                                     Kimi no Na wa.   \n",
       "1          5114                   Fullmetal Alchemist: Brotherhood   \n",
       "2         28977                                           Gintama°   \n",
       "3          9253                                        Steins;Gate   \n",
       "4          9969                                      Gintama&#039;   \n",
       "...         ...                                                ...   \n",
       "12289      9316       Toushindai My Lover: Minami tai Mecha-Minami   \n",
       "12290      5543                                        Under World   \n",
       "12291      5621                     Violence Gekiga David no Hoshi   \n",
       "12292      6133  Violence Gekiga Shin David no Hoshi: Inma Dens...   \n",
       "12293     26081                   Yasuji no Pornorama: Yacchimae!!   \n",
       "\n",
       "                                                   genre   type episodes  \\\n",
       "0                   Drama, Romance, School, Supernatural  Movie        1   \n",
       "1      Action, Adventure, Drama, Fantasy, Magic, Mili...     TV       64   \n",
       "2      Action, Comedy, Historical, Parody, Samurai, S...     TV       51   \n",
       "3                                       Sci-Fi, Thriller     TV       24   \n",
       "4      Action, Comedy, Historical, Parody, Samurai, S...     TV       51   \n",
       "...                                                  ...    ...      ...   \n",
       "12289                                             Hentai    OVA        1   \n",
       "12290                                             Hentai    OVA        1   \n",
       "12291                                             Hentai    OVA        4   \n",
       "12292                                             Hentai    OVA        1   \n",
       "12293                                             Hentai  Movie        1   \n",
       "\n",
       "       rating  members  \n",
       "0        9.37   200630  \n",
       "1        9.26   793665  \n",
       "2        9.25   114262  \n",
       "3        9.17   673572  \n",
       "4        9.16   151266  \n",
       "...       ...      ...  \n",
       "12289    4.15      211  \n",
       "12290    4.28      183  \n",
       "12291    4.88      219  \n",
       "12292    4.98      175  \n",
       "12293    5.46      142  \n",
       "\n",
       "[12294 rows x 7 columns]"
      ]
     },
     "execution_count": 3,
     "metadata": {},
     "output_type": "execute_result"
    }
   ],
   "source": [
    "df = pd.read_csv(\"anime.csv\")\n",
    "df"
   ]
  },
  {
   "cell_type": "code",
   "execution_count": 4,
   "metadata": {},
   "outputs": [
    {
     "data": {
      "text/html": [
       "<div>\n",
       "<style scoped>\n",
       "    .dataframe tbody tr th:only-of-type {\n",
       "        vertical-align: middle;\n",
       "    }\n",
       "\n",
       "    .dataframe tbody tr th {\n",
       "        vertical-align: top;\n",
       "    }\n",
       "\n",
       "    .dataframe thead th {\n",
       "        text-align: right;\n",
       "    }\n",
       "</style>\n",
       "<table border=\"1\" class=\"dataframe\">\n",
       "  <thead>\n",
       "    <tr style=\"text-align: right;\">\n",
       "      <th></th>\n",
       "      <th>anime_id</th>\n",
       "      <th>name</th>\n",
       "      <th>genre</th>\n",
       "      <th>type</th>\n",
       "      <th>episodes</th>\n",
       "      <th>rating</th>\n",
       "      <th>members</th>\n",
       "    </tr>\n",
       "  </thead>\n",
       "  <tbody>\n",
       "    <tr>\n",
       "      <th>0</th>\n",
       "      <td>32281</td>\n",
       "      <td>Kimi no Na wa.</td>\n",
       "      <td>Drama, Romance, School, Supernatural</td>\n",
       "      <td>Movie</td>\n",
       "      <td>1</td>\n",
       "      <td>9.37</td>\n",
       "      <td>200630</td>\n",
       "    </tr>\n",
       "    <tr>\n",
       "      <th>1</th>\n",
       "      <td>5114</td>\n",
       "      <td>Fullmetal Alchemist: Brotherhood</td>\n",
       "      <td>Action, Adventure, Drama, Fantasy, Magic, Mili...</td>\n",
       "      <td>TV</td>\n",
       "      <td>64</td>\n",
       "      <td>9.26</td>\n",
       "      <td>793665</td>\n",
       "    </tr>\n",
       "    <tr>\n",
       "      <th>2</th>\n",
       "      <td>28977</td>\n",
       "      <td>Gintama°</td>\n",
       "      <td>Action, Comedy, Historical, Parody, Samurai, S...</td>\n",
       "      <td>TV</td>\n",
       "      <td>51</td>\n",
       "      <td>9.25</td>\n",
       "      <td>114262</td>\n",
       "    </tr>\n",
       "    <tr>\n",
       "      <th>3</th>\n",
       "      <td>9253</td>\n",
       "      <td>Steins;Gate</td>\n",
       "      <td>Sci-Fi, Thriller</td>\n",
       "      <td>TV</td>\n",
       "      <td>24</td>\n",
       "      <td>9.17</td>\n",
       "      <td>673572</td>\n",
       "    </tr>\n",
       "    <tr>\n",
       "      <th>4</th>\n",
       "      <td>9969</td>\n",
       "      <td>Gintama&amp;#039;</td>\n",
       "      <td>Action, Comedy, Historical, Parody, Samurai, S...</td>\n",
       "      <td>TV</td>\n",
       "      <td>51</td>\n",
       "      <td>9.16</td>\n",
       "      <td>151266</td>\n",
       "    </tr>\n",
       "  </tbody>\n",
       "</table>\n",
       "</div>"
      ],
      "text/plain": [
       "   anime_id                              name  \\\n",
       "0     32281                    Kimi no Na wa.   \n",
       "1      5114  Fullmetal Alchemist: Brotherhood   \n",
       "2     28977                          Gintama°   \n",
       "3      9253                       Steins;Gate   \n",
       "4      9969                     Gintama&#039;   \n",
       "\n",
       "                                               genre   type episodes  rating  \\\n",
       "0               Drama, Romance, School, Supernatural  Movie        1    9.37   \n",
       "1  Action, Adventure, Drama, Fantasy, Magic, Mili...     TV       64    9.26   \n",
       "2  Action, Comedy, Historical, Parody, Samurai, S...     TV       51    9.25   \n",
       "3                                   Sci-Fi, Thriller     TV       24    9.17   \n",
       "4  Action, Comedy, Historical, Parody, Samurai, S...     TV       51    9.16   \n",
       "\n",
       "   members  \n",
       "0   200630  \n",
       "1   793665  \n",
       "2   114262  \n",
       "3   673572  \n",
       "4   151266  "
      ]
     },
     "execution_count": 4,
     "metadata": {},
     "output_type": "execute_result"
    }
   ],
   "source": [
    "df.head()"
   ]
  },
  {
   "cell_type": "code",
   "execution_count": 5,
   "metadata": {},
   "outputs": [
    {
     "data": {
      "text/plain": [
       "(12294, 7)"
      ]
     },
     "execution_count": 5,
     "metadata": {},
     "output_type": "execute_result"
    }
   ],
   "source": [
    "df.shape"
   ]
  },
  {
   "cell_type": "code",
   "execution_count": 6,
   "metadata": {},
   "outputs": [
    {
     "name": "stdout",
     "output_type": "stream",
     "text": [
      "<class 'pandas.core.frame.DataFrame'>\n",
      "RangeIndex: 12294 entries, 0 to 12293\n",
      "Data columns (total 7 columns):\n",
      " #   Column    Non-Null Count  Dtype  \n",
      "---  ------    --------------  -----  \n",
      " 0   anime_id  12294 non-null  int64  \n",
      " 1   name      12294 non-null  object \n",
      " 2   genre     12232 non-null  object \n",
      " 3   type      12269 non-null  object \n",
      " 4   episodes  12294 non-null  object \n",
      " 5   rating    12064 non-null  float64\n",
      " 6   members   12294 non-null  int64  \n",
      "dtypes: float64(1), int64(2), object(4)\n",
      "memory usage: 672.5+ KB\n"
     ]
    }
   ],
   "source": [
    "df.info()"
   ]
  },
  {
   "cell_type": "code",
   "execution_count": 7,
   "metadata": {},
   "outputs": [
    {
     "data": {
      "text/plain": [
       "anime_id      0\n",
       "name          0\n",
       "genre        62\n",
       "type         25\n",
       "episodes      0\n",
       "rating      230\n",
       "members       0\n",
       "dtype: int64"
      ]
     },
     "execution_count": 7,
     "metadata": {},
     "output_type": "execute_result"
    }
   ],
   "source": [
    "df.isnull().sum()"
   ]
  },
  {
   "cell_type": "code",
   "execution_count": 8,
   "metadata": {},
   "outputs": [],
   "source": [
    "df = df.dropna()"
   ]
  },
  {
   "cell_type": "code",
   "execution_count": 9,
   "metadata": {},
   "outputs": [
    {
     "data": {
      "text/plain": [
       "anime_id    0\n",
       "name        0\n",
       "genre       0\n",
       "type        0\n",
       "episodes    0\n",
       "rating      0\n",
       "members     0\n",
       "dtype: int64"
      ]
     },
     "execution_count": 9,
     "metadata": {},
     "output_type": "execute_result"
    }
   ],
   "source": [
    "df.isnull().sum()"
   ]
  },
  {
   "cell_type": "code",
   "execution_count": 10,
   "metadata": {},
   "outputs": [
    {
     "data": {
      "text/plain": [
       "np.int64(0)"
      ]
     },
     "execution_count": 10,
     "metadata": {},
     "output_type": "execute_result"
    }
   ],
   "source": [
    "df.duplicated().sum()"
   ]
  },
  {
   "cell_type": "code",
   "execution_count": 11,
   "metadata": {},
   "outputs": [
    {
     "data": {
      "text/plain": [
       "(12017, 7)"
      ]
     },
     "execution_count": 11,
     "metadata": {},
     "output_type": "execute_result"
    }
   ],
   "source": [
    "df.shape"
   ]
  },
  {
   "cell_type": "code",
   "execution_count": 12,
   "metadata": {},
   "outputs": [
    {
     "data": {
      "text/plain": [
       "Index(['anime_id', 'name', 'genre', 'type', 'episodes', 'rating', 'members'], dtype='object')"
      ]
     },
     "execution_count": 12,
     "metadata": {},
     "output_type": "execute_result"
    }
   ],
   "source": [
    "df.columns"
   ]
  },
  {
   "cell_type": "code",
   "execution_count": 13,
   "metadata": {},
   "outputs": [
    {
     "data": {
      "text/html": [
       "<div>\n",
       "<style scoped>\n",
       "    .dataframe tbody tr th:only-of-type {\n",
       "        vertical-align: middle;\n",
       "    }\n",
       "\n",
       "    .dataframe tbody tr th {\n",
       "        vertical-align: top;\n",
       "    }\n",
       "\n",
       "    .dataframe thead th {\n",
       "        text-align: right;\n",
       "    }\n",
       "</style>\n",
       "<table border=\"1\" class=\"dataframe\">\n",
       "  <thead>\n",
       "    <tr style=\"text-align: right;\">\n",
       "      <th></th>\n",
       "      <th>anime_id</th>\n",
       "      <th>rating</th>\n",
       "      <th>members</th>\n",
       "    </tr>\n",
       "  </thead>\n",
       "  <tbody>\n",
       "    <tr>\n",
       "      <th>count</th>\n",
       "      <td>12017.000000</td>\n",
       "      <td>12017.000000</td>\n",
       "      <td>1.201700e+04</td>\n",
       "    </tr>\n",
       "    <tr>\n",
       "      <th>mean</th>\n",
       "      <td>13638.001165</td>\n",
       "      <td>6.478264</td>\n",
       "      <td>1.834888e+04</td>\n",
       "    </tr>\n",
       "    <tr>\n",
       "      <th>std</th>\n",
       "      <td>11231.076675</td>\n",
       "      <td>1.023857</td>\n",
       "      <td>5.537250e+04</td>\n",
       "    </tr>\n",
       "    <tr>\n",
       "      <th>min</th>\n",
       "      <td>1.000000</td>\n",
       "      <td>1.670000</td>\n",
       "      <td>1.200000e+01</td>\n",
       "    </tr>\n",
       "    <tr>\n",
       "      <th>25%</th>\n",
       "      <td>3391.000000</td>\n",
       "      <td>5.890000</td>\n",
       "      <td>2.250000e+02</td>\n",
       "    </tr>\n",
       "    <tr>\n",
       "      <th>50%</th>\n",
       "      <td>9959.000000</td>\n",
       "      <td>6.570000</td>\n",
       "      <td>1.552000e+03</td>\n",
       "    </tr>\n",
       "    <tr>\n",
       "      <th>75%</th>\n",
       "      <td>23729.000000</td>\n",
       "      <td>7.180000</td>\n",
       "      <td>9.588000e+03</td>\n",
       "    </tr>\n",
       "    <tr>\n",
       "      <th>max</th>\n",
       "      <td>34519.000000</td>\n",
       "      <td>10.000000</td>\n",
       "      <td>1.013917e+06</td>\n",
       "    </tr>\n",
       "  </tbody>\n",
       "</table>\n",
       "</div>"
      ],
      "text/plain": [
       "           anime_id        rating       members\n",
       "count  12017.000000  12017.000000  1.201700e+04\n",
       "mean   13638.001165      6.478264  1.834888e+04\n",
       "std    11231.076675      1.023857  5.537250e+04\n",
       "min        1.000000      1.670000  1.200000e+01\n",
       "25%     3391.000000      5.890000  2.250000e+02\n",
       "50%     9959.000000      6.570000  1.552000e+03\n",
       "75%    23729.000000      7.180000  9.588000e+03\n",
       "max    34519.000000     10.000000  1.013917e+06"
      ]
     },
     "execution_count": 13,
     "metadata": {},
     "output_type": "execute_result"
    }
   ],
   "source": [
    "df.describe()"
   ]
  },
  {
   "cell_type": "code",
   "execution_count": 14,
   "metadata": {},
   "outputs": [
    {
     "data": {
      "text/plain": [
       "anime_id    12017\n",
       "name        12015\n",
       "genre        3229\n",
       "type            6\n",
       "episodes      187\n",
       "rating        598\n",
       "members      6596\n",
       "dtype: int64"
      ]
     },
     "execution_count": 14,
     "metadata": {},
     "output_type": "execute_result"
    }
   ],
   "source": [
    "df.nunique()"
   ]
  },
  {
   "cell_type": "code",
   "execution_count": 15,
   "metadata": {},
   "outputs": [
    {
     "data": {
      "text/plain": [
       "genre\n",
       "Hentai                                 816\n",
       "Comedy                                 521\n",
       "Music                                  297\n",
       "Kids                                   197\n",
       "Comedy, Slice of Life                  174\n",
       "                                      ... \n",
       "Action, Hentai, Mecha, Sci-Fi, Yaoi      1\n",
       "Adventure, Fantasy, Hentai               1\n",
       "Hentai, Horror, Yaoi                     1\n",
       "Hentai, Space                            1\n",
       "Drama, Hentai, Mystery, Romance          1\n",
       "Name: count, Length: 3229, dtype: int64"
      ]
     },
     "execution_count": 15,
     "metadata": {},
     "output_type": "execute_result"
    }
   ],
   "source": [
    "df['genre'].value_counts()"
   ]
  },
  {
   "cell_type": "code",
   "execution_count": 16,
   "metadata": {},
   "outputs": [
    {
     "data": {
      "application/vnd.plotly.v1+json": {
       "config": {
        "plotlyServerURL": "https://plot.ly"
       },
       "data": [
        {
         "bingroup": "x",
         "hovertemplate": "rating=%{x}<br>count=%{y}<extra></extra>",
         "legendgroup": "",
         "marker": {
          "color": "#636efa",
          "pattern": {
           "shape": ""
          }
         },
         "name": "",
         "nbinsx": 20,
         "orientation": "v",
         "showlegend": false,
         "type": "histogram",
         "x": {
          "bdata": "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",
          "dtype": "f8"
         },
         "xaxis": "x",
         "yaxis": "y"
        }
       ],
       "layout": {
        "barmode": "relative",
        "legend": {
         "tracegroupgap": 0
        },
        "template": {
         "data": {
          "bar": [
           {
            "error_x": {
             "color": "#2a3f5f"
            },
            "error_y": {
             "color": "#2a3f5f"
            },
            "marker": {
             "line": {
              "color": "#E5ECF6",
              "width": 0.5
             },
             "pattern": {
              "fillmode": "overlay",
              "size": 10,
              "solidity": 0.2
             }
            },
            "type": "bar"
           }
          ],
          "barpolar": [
           {
            "marker": {
             "line": {
              "color": "#E5ECF6",
              "width": 0.5
             },
             "pattern": {
              "fillmode": "overlay",
              "size": 10,
              "solidity": 0.2
             }
            },
            "type": "barpolar"
           }
          ],
          "carpet": [
           {
            "aaxis": {
             "endlinecolor": "#2a3f5f",
             "gridcolor": "white",
             "linecolor": "white",
             "minorgridcolor": "white",
             "startlinecolor": "#2a3f5f"
            },
            "baxis": {
             "endlinecolor": "#2a3f5f",
             "gridcolor": "white",
             "linecolor": "white",
             "minorgridcolor": "white",
             "startlinecolor": "#2a3f5f"
            },
            "type": "carpet"
           }
          ],
          "choropleth": [
           {
            "colorbar": {
             "outlinewidth": 0,
             "ticks": ""
            },
            "type": "choropleth"
           }
          ],
          "contour": [
           {
            "colorbar": {
             "outlinewidth": 0,
             "ticks": ""
            },
            "colorscale": [
             [
              0,
              "#0d0887"
             ],
             [
              0.1111111111111111,
              "#46039f"
             ],
             [
              0.2222222222222222,
              "#7201a8"
             ],
             [
              0.3333333333333333,
              "#9c179e"
             ],
             [
              0.4444444444444444,
              "#bd3786"
             ],
             [
              0.5555555555555556,
              "#d8576b"
             ],
             [
              0.6666666666666666,
              "#ed7953"
             ],
             [
              0.7777777777777778,
              "#fb9f3a"
             ],
             [
              0.8888888888888888,
              "#fdca26"
             ],
             [
              1,
              "#f0f921"
             ]
            ],
            "type": "contour"
           }
          ],
          "contourcarpet": [
           {
            "colorbar": {
             "outlinewidth": 0,
             "ticks": ""
            },
            "type": "contourcarpet"
           }
          ],
          "heatmap": [
           {
            "colorbar": {
             "outlinewidth": 0,
             "ticks": ""
            },
            "colorscale": [
             [
              0,
              "#0d0887"
             ],
             [
              0.1111111111111111,
              "#46039f"
             ],
             [
              0.2222222222222222,
              "#7201a8"
             ],
             [
              0.3333333333333333,
              "#9c179e"
             ],
             [
              0.4444444444444444,
              "#bd3786"
             ],
             [
              0.5555555555555556,
              "#d8576b"
             ],
             [
              0.6666666666666666,
              "#ed7953"
             ],
             [
              0.7777777777777778,
              "#fb9f3a"
             ],
             [
              0.8888888888888888,
              "#fdca26"
             ],
             [
              1,
              "#f0f921"
             ]
            ],
            "type": "heatmap"
           }
          ],
          "histogram": [
           {
            "marker": {
             "pattern": {
              "fillmode": "overlay",
              "size": 10,
              "solidity": 0.2
             }
            },
            "type": "histogram"
           }
          ],
          "histogram2d": [
           {
            "colorbar": {
             "outlinewidth": 0,
             "ticks": ""
            },
            "colorscale": [
             [
              0,
              "#0d0887"
             ],
             [
              0.1111111111111111,
              "#46039f"
             ],
             [
              0.2222222222222222,
              "#7201a8"
             ],
             [
              0.3333333333333333,
              "#9c179e"
             ],
             [
              0.4444444444444444,
              "#bd3786"
             ],
             [
              0.5555555555555556,
              "#d8576b"
             ],
             [
              0.6666666666666666,
              "#ed7953"
             ],
             [
              0.7777777777777778,
              "#fb9f3a"
             ],
             [
              0.8888888888888888,
              "#fdca26"
             ],
             [
              1,
              "#f0f921"
             ]
            ],
            "type": "histogram2d"
           }
          ],
          "histogram2dcontour": [
           {
            "colorbar": {
             "outlinewidth": 0,
             "ticks": ""
            },
            "colorscale": [
             [
              0,
              "#0d0887"
             ],
             [
              0.1111111111111111,
              "#46039f"
             ],
             [
              0.2222222222222222,
              "#7201a8"
             ],
             [
              0.3333333333333333,
              "#9c179e"
             ],
             [
              0.4444444444444444,
              "#bd3786"
             ],
             [
              0.5555555555555556,
              "#d8576b"
             ],
             [
              0.6666666666666666,
              "#ed7953"
             ],
             [
              0.7777777777777778,
              "#fb9f3a"
             ],
             [
              0.8888888888888888,
              "#fdca26"
             ],
             [
              1,
              "#f0f921"
             ]
            ],
            "type": "histogram2dcontour"
           }
          ],
          "mesh3d": [
           {
            "colorbar": {
             "outlinewidth": 0,
             "ticks": ""
            },
            "type": "mesh3d"
           }
          ],
          "parcoords": [
           {
            "line": {
             "colorbar": {
              "outlinewidth": 0,
              "ticks": ""
             }
            },
            "type": "parcoords"
           }
          ],
          "pie": [
           {
            "automargin": true,
            "type": "pie"
           }
          ],
          "scatter": [
           {
            "fillpattern": {
             "fillmode": "overlay",
             "size": 10,
             "solidity": 0.2
            },
            "type": "scatter"
           }
          ],
          "scatter3d": [
           {
            "line": {
             "colorbar": {
              "outlinewidth": 0,
              "ticks": ""
             }
            },
            "marker": {
             "colorbar": {
              "outlinewidth": 0,
              "ticks": ""
             }
            },
            "type": "scatter3d"
           }
          ],
          "scattercarpet": [
           {
            "marker": {
             "colorbar": {
              "outlinewidth": 0,
              "ticks": ""
             }
            },
            "type": "scattercarpet"
           }
          ],
          "scattergeo": [
           {
            "marker": {
             "colorbar": {
              "outlinewidth": 0,
              "ticks": ""
             }
            },
            "type": "scattergeo"
           }
          ],
          "scattergl": [
           {
            "marker": {
             "colorbar": {
              "outlinewidth": 0,
              "ticks": ""
             }
            },
            "type": "scattergl"
           }
          ],
          "scattermap": [
           {
            "marker": {
             "colorbar": {
              "outlinewidth": 0,
              "ticks": ""
             }
            },
            "type": "scattermap"
           }
          ],
          "scattermapbox": [
           {
            "marker": {
             "colorbar": {
              "outlinewidth": 0,
              "ticks": ""
             }
            },
            "type": "scattermapbox"
           }
          ],
          "scatterpolar": [
           {
            "marker": {
             "colorbar": {
              "outlinewidth": 0,
              "ticks": ""
             }
            },
            "type": "scatterpolar"
           }
          ],
          "scatterpolargl": [
           {
            "marker": {
             "colorbar": {
              "outlinewidth": 0,
              "ticks": ""
             }
            },
            "type": "scatterpolargl"
           }
          ],
          "scatterternary": [
           {
            "marker": {
             "colorbar": {
              "outlinewidth": 0,
              "ticks": ""
             }
            },
            "type": "scatterternary"
           }
          ],
          "surface": [
           {
            "colorbar": {
             "outlinewidth": 0,
             "ticks": ""
            },
            "colorscale": [
             [
              0,
              "#0d0887"
             ],
             [
              0.1111111111111111,
              "#46039f"
             ],
             [
              0.2222222222222222,
              "#7201a8"
             ],
             [
              0.3333333333333333,
              "#9c179e"
             ],
             [
              0.4444444444444444,
              "#bd3786"
             ],
             [
              0.5555555555555556,
              "#d8576b"
             ],
             [
              0.6666666666666666,
              "#ed7953"
             ],
             [
              0.7777777777777778,
              "#fb9f3a"
             ],
             [
              0.8888888888888888,
              "#fdca26"
             ],
             [
              1,
              "#f0f921"
             ]
            ],
            "type": "surface"
           }
          ],
          "table": [
           {
            "cells": {
             "fill": {
              "color": "#EBF0F8"
             },
             "line": {
              "color": "white"
             }
            },
            "header": {
             "fill": {
              "color": "#C8D4E3"
             },
             "line": {
              "color": "white"
             }
            },
            "type": "table"
           }
          ]
         },
         "layout": {
          "annotationdefaults": {
           "arrowcolor": "#2a3f5f",
           "arrowhead": 0,
           "arrowwidth": 1
          },
          "autotypenumbers": "strict",
          "coloraxis": {
           "colorbar": {
            "outlinewidth": 0,
            "ticks": ""
           }
          },
          "colorscale": {
           "diverging": [
            [
             0,
             "#8e0152"
            ],
            [
             0.1,
             "#c51b7d"
            ],
            [
             0.2,
             "#de77ae"
            ],
            [
             0.3,
             "#f1b6da"
            ],
            [
             0.4,
             "#fde0ef"
            ],
            [
             0.5,
             "#f7f7f7"
            ],
            [
             0.6,
             "#e6f5d0"
            ],
            [
             0.7,
             "#b8e186"
            ],
            [
             0.8,
             "#7fbc41"
            ],
            [
             0.9,
             "#4d9221"
            ],
            [
             1,
             "#276419"
            ]
           ],
           "sequential": [
            [
             0,
             "#0d0887"
            ],
            [
             0.1111111111111111,
             "#46039f"
            ],
            [
             0.2222222222222222,
             "#7201a8"
            ],
            [
             0.3333333333333333,
             "#9c179e"
            ],
            [
             0.4444444444444444,
             "#bd3786"
            ],
            [
             0.5555555555555556,
             "#d8576b"
            ],
            [
             0.6666666666666666,
             "#ed7953"
            ],
            [
             0.7777777777777778,
             "#fb9f3a"
            ],
            [
             0.8888888888888888,
             "#fdca26"
            ],
            [
             1,
             "#f0f921"
            ]
           ],
           "sequentialminus": [
            [
             0,
             "#0d0887"
            ],
            [
             0.1111111111111111,
             "#46039f"
            ],
            [
             0.2222222222222222,
             "#7201a8"
            ],
            [
             0.3333333333333333,
             "#9c179e"
            ],
            [
             0.4444444444444444,
             "#bd3786"
            ],
            [
             0.5555555555555556,
             "#d8576b"
            ],
            [
             0.6666666666666666,
             "#ed7953"
            ],
            [
             0.7777777777777778,
             "#fb9f3a"
            ],
            [
             0.8888888888888888,
             "#fdca26"
            ],
            [
             1,
             "#f0f921"
            ]
           ]
          },
          "colorway": [
           "#636efa",
           "#EF553B",
           "#00cc96",
           "#ab63fa",
           "#FFA15A",
           "#19d3f3",
           "#FF6692",
           "#B6E880",
           "#FF97FF",
           "#FECB52"
          ],
          "font": {
           "color": "#2a3f5f"
          },
          "geo": {
           "bgcolor": "white",
           "lakecolor": "white",
           "landcolor": "#E5ECF6",
           "showlakes": true,
           "showland": true,
           "subunitcolor": "white"
          },
          "hoverlabel": {
           "align": "left"
          },
          "hovermode": "closest",
          "mapbox": {
           "style": "light"
          },
          "paper_bgcolor": "white",
          "plot_bgcolor": "#E5ECF6",
          "polar": {
           "angularaxis": {
            "gridcolor": "white",
            "linecolor": "white",
            "ticks": ""
           },
           "bgcolor": "#E5ECF6",
           "radialaxis": {
            "gridcolor": "white",
            "linecolor": "white",
            "ticks": ""
           }
          },
          "scene": {
           "xaxis": {
            "backgroundcolor": "#E5ECF6",
            "gridcolor": "white",
            "gridwidth": 2,
            "linecolor": "white",
            "showbackground": true,
            "ticks": "",
            "zerolinecolor": "white"
           },
           "yaxis": {
            "backgroundcolor": "#E5ECF6",
            "gridcolor": "white",
            "gridwidth": 2,
            "linecolor": "white",
            "showbackground": true,
            "ticks": "",
            "zerolinecolor": "white"
           },
           "zaxis": {
            "backgroundcolor": "#E5ECF6",
            "gridcolor": "white",
            "gridwidth": 2,
            "linecolor": "white",
            "showbackground": true,
            "ticks": "",
            "zerolinecolor": "white"
           }
          },
          "shapedefaults": {
           "line": {
            "color": "#2a3f5f"
           }
          },
          "ternary": {
           "aaxis": {
            "gridcolor": "white",
            "linecolor": "white",
            "ticks": ""
           },
           "baxis": {
            "gridcolor": "white",
            "linecolor": "white",
            "ticks": ""
           },
           "bgcolor": "#E5ECF6",
           "caxis": {
            "gridcolor": "white",
            "linecolor": "white",
            "ticks": ""
           }
          },
          "title": {
           "x": 0.05
          },
          "xaxis": {
           "automargin": true,
           "gridcolor": "white",
           "linecolor": "white",
           "ticks": "",
           "title": {
            "standoff": 15
           },
           "zerolinecolor": "white",
           "zerolinewidth": 2
          },
          "yaxis": {
           "automargin": true,
           "gridcolor": "white",
           "linecolor": "white",
           "ticks": "",
           "title": {
            "standoff": 15
           },
           "zerolinecolor": "white",
           "zerolinewidth": 2
          }
         }
        },
        "title": {
         "text": "Distribution of Ratings"
        },
        "xaxis": {
         "anchor": "y",
         "domain": [
          0,
          1
         ],
         "title": {
          "text": "Rating"
         }
        },
        "yaxis": {
         "anchor": "x",
         "domain": [
          0,
          1
         ],
         "title": {
          "text": "Frequency"
         }
        }
       }
      }
     },
     "metadata": {},
     "output_type": "display_data"
    }
   ],
   "source": [
    "fig = px.histogram(df, x='rating', nbins=20, title='Distribution of Ratings')\n",
    "fig.update_layout(xaxis_title='Rating', yaxis_title='Frequency')\n",
    "fig.show()"
   ]
  },
  {
   "cell_type": "code",
   "execution_count": 17,
   "metadata": {},
   "outputs": [
    {
     "data": {
      "application/vnd.plotly.v1+json": {
       "config": {
        "plotlyServerURL": "https://plot.ly"
       },
       "data": [
        {
         "hovertemplate": "Count=%{x}<br>Genre=%{y}<extra></extra>",
         "legendgroup": "",
         "marker": {
          "color": "#636efa",
          "pattern": {
           "shape": ""
          }
         },
         "name": "",
         "orientation": "h",
         "showlegend": false,
         "textposition": "auto",
         "type": "bar",
         "x": {
          "bdata": "MAMJAikBxQCuAIkAgABwAG4AaQA=",
          "dtype": "i2"
         },
         "xaxis": "x",
         "y": [
          "Hentai",
          "Comedy",
          "Music",
          "Kids",
          "Comedy, Slice of Life",
          "Dementia",
          "Fantasy, Kids",
          "Comedy, Kids",
          "Fantasy",
          "Drama, Kids"
         ],
         "yaxis": "y"
        }
       ],
       "layout": {
        "barmode": "relative",
        "legend": {
         "tracegroupgap": 0
        },
        "template": {
         "data": {
          "bar": [
           {
            "error_x": {
             "color": "#2a3f5f"
            },
            "error_y": {
             "color": "#2a3f5f"
            },
            "marker": {
             "line": {
              "color": "#E5ECF6",
              "width": 0.5
             },
             "pattern": {
              "fillmode": "overlay",
              "size": 10,
              "solidity": 0.2
             }
            },
            "type": "bar"
           }
          ],
          "barpolar": [
           {
            "marker": {
             "line": {
              "color": "#E5ECF6",
              "width": 0.5
             },
             "pattern": {
              "fillmode": "overlay",
              "size": 10,
              "solidity": 0.2
             }
            },
            "type": "barpolar"
           }
          ],
          "carpet": [
           {
            "aaxis": {
             "endlinecolor": "#2a3f5f",
             "gridcolor": "white",
             "linecolor": "white",
             "minorgridcolor": "white",
             "startlinecolor": "#2a3f5f"
            },
            "baxis": {
             "endlinecolor": "#2a3f5f",
             "gridcolor": "white",
             "linecolor": "white",
             "minorgridcolor": "white",
             "startlinecolor": "#2a3f5f"
            },
            "type": "carpet"
           }
          ],
          "choropleth": [
           {
            "colorbar": {
             "outlinewidth": 0,
             "ticks": ""
            },
            "type": "choropleth"
           }
          ],
          "contour": [
           {
            "colorbar": {
             "outlinewidth": 0,
             "ticks": ""
            },
            "colorscale": [
             [
              0,
              "#0d0887"
             ],
             [
              0.1111111111111111,
              "#46039f"
             ],
             [
              0.2222222222222222,
              "#7201a8"
             ],
             [
              0.3333333333333333,
              "#9c179e"
             ],
             [
              0.4444444444444444,
              "#bd3786"
             ],
             [
              0.5555555555555556,
              "#d8576b"
             ],
             [
              0.6666666666666666,
              "#ed7953"
             ],
             [
              0.7777777777777778,
              "#fb9f3a"
             ],
             [
              0.8888888888888888,
              "#fdca26"
             ],
             [
              1,
              "#f0f921"
             ]
            ],
            "type": "contour"
           }
          ],
          "contourcarpet": [
           {
            "colorbar": {
             "outlinewidth": 0,
             "ticks": ""
            },
            "type": "contourcarpet"
           }
          ],
          "heatmap": [
           {
            "colorbar": {
             "outlinewidth": 0,
             "ticks": ""
            },
            "colorscale": [
             [
              0,
              "#0d0887"
             ],
             [
              0.1111111111111111,
              "#46039f"
             ],
             [
              0.2222222222222222,
              "#7201a8"
             ],
             [
              0.3333333333333333,
              "#9c179e"
             ],
             [
              0.4444444444444444,
              "#bd3786"
             ],
             [
              0.5555555555555556,
              "#d8576b"
             ],
             [
              0.6666666666666666,
              "#ed7953"
             ],
             [
              0.7777777777777778,
              "#fb9f3a"
             ],
             [
              0.8888888888888888,
              "#fdca26"
             ],
             [
              1,
              "#f0f921"
             ]
            ],
            "type": "heatmap"
           }
          ],
          "histogram": [
           {
            "marker": {
             "pattern": {
              "fillmode": "overlay",
              "size": 10,
              "solidity": 0.2
             }
            },
            "type": "histogram"
           }
          ],
          "histogram2d": [
           {
            "colorbar": {
             "outlinewidth": 0,
             "ticks": ""
            },
            "colorscale": [
             [
              0,
              "#0d0887"
             ],
             [
              0.1111111111111111,
              "#46039f"
             ],
             [
              0.2222222222222222,
              "#7201a8"
             ],
             [
              0.3333333333333333,
              "#9c179e"
             ],
             [
              0.4444444444444444,
              "#bd3786"
             ],
             [
              0.5555555555555556,
              "#d8576b"
             ],
             [
              0.6666666666666666,
              "#ed7953"
             ],
             [
              0.7777777777777778,
              "#fb9f3a"
             ],
             [
              0.8888888888888888,
              "#fdca26"
             ],
             [
              1,
              "#f0f921"
             ]
            ],
            "type": "histogram2d"
           }
          ],
          "histogram2dcontour": [
           {
            "colorbar": {
             "outlinewidth": 0,
             "ticks": ""
            },
            "colorscale": [
             [
              0,
              "#0d0887"
             ],
             [
              0.1111111111111111,
              "#46039f"
             ],
             [
              0.2222222222222222,
              "#7201a8"
             ],
             [
              0.3333333333333333,
              "#9c179e"
             ],
             [
              0.4444444444444444,
              "#bd3786"
             ],
             [
              0.5555555555555556,
              "#d8576b"
             ],
             [
              0.6666666666666666,
              "#ed7953"
             ],
             [
              0.7777777777777778,
              "#fb9f3a"
             ],
             [
              0.8888888888888888,
              "#fdca26"
             ],
             [
              1,
              "#f0f921"
             ]
            ],
            "type": "histogram2dcontour"
           }
          ],
          "mesh3d": [
           {
            "colorbar": {
             "outlinewidth": 0,
             "ticks": ""
            },
            "type": "mesh3d"
           }
          ],
          "parcoords": [
           {
            "line": {
             "colorbar": {
              "outlinewidth": 0,
              "ticks": ""
             }
            },
            "type": "parcoords"
           }
          ],
          "pie": [
           {
            "automargin": true,
            "type": "pie"
           }
          ],
          "scatter": [
           {
            "fillpattern": {
             "fillmode": "overlay",
             "size": 10,
             "solidity": 0.2
            },
            "type": "scatter"
           }
          ],
          "scatter3d": [
           {
            "line": {
             "colorbar": {
              "outlinewidth": 0,
              "ticks": ""
             }
            },
            "marker": {
             "colorbar": {
              "outlinewidth": 0,
              "ticks": ""
             }
            },
            "type": "scatter3d"
           }
          ],
          "scattercarpet": [
           {
            "marker": {
             "colorbar": {
              "outlinewidth": 0,
              "ticks": ""
             }
            },
            "type": "scattercarpet"
           }
          ],
          "scattergeo": [
           {
            "marker": {
             "colorbar": {
              "outlinewidth": 0,
              "ticks": ""
             }
            },
            "type": "scattergeo"
           }
          ],
          "scattergl": [
           {
            "marker": {
             "colorbar": {
              "outlinewidth": 0,
              "ticks": ""
             }
            },
            "type": "scattergl"
           }
          ],
          "scattermap": [
           {
            "marker": {
             "colorbar": {
              "outlinewidth": 0,
              "ticks": ""
             }
            },
            "type": "scattermap"
           }
          ],
          "scattermapbox": [
           {
            "marker": {
             "colorbar": {
              "outlinewidth": 0,
              "ticks": ""
             }
            },
            "type": "scattermapbox"
           }
          ],
          "scatterpolar": [
           {
            "marker": {
             "colorbar": {
              "outlinewidth": 0,
              "ticks": ""
             }
            },
            "type": "scatterpolar"
           }
          ],
          "scatterpolargl": [
           {
            "marker": {
             "colorbar": {
              "outlinewidth": 0,
              "ticks": ""
             }
            },
            "type": "scatterpolargl"
           }
          ],
          "scatterternary": [
           {
            "marker": {
             "colorbar": {
              "outlinewidth": 0,
              "ticks": ""
             }
            },
            "type": "scatterternary"
           }
          ],
          "surface": [
           {
            "colorbar": {
             "outlinewidth": 0,
             "ticks": ""
            },
            "colorscale": [
             [
              0,
              "#0d0887"
             ],
             [
              0.1111111111111111,
              "#46039f"
             ],
             [
              0.2222222222222222,
              "#7201a8"
             ],
             [
              0.3333333333333333,
              "#9c179e"
             ],
             [
              0.4444444444444444,
              "#bd3786"
             ],
             [
              0.5555555555555556,
              "#d8576b"
             ],
             [
              0.6666666666666666,
              "#ed7953"
             ],
             [
              0.7777777777777778,
              "#fb9f3a"
             ],
             [
              0.8888888888888888,
              "#fdca26"
             ],
             [
              1,
              "#f0f921"
             ]
            ],
            "type": "surface"
           }
          ],
          "table": [
           {
            "cells": {
             "fill": {
              "color": "#EBF0F8"
             },
             "line": {
              "color": "white"
             }
            },
            "header": {
             "fill": {
              "color": "#C8D4E3"
             },
             "line": {
              "color": "white"
             }
            },
            "type": "table"
           }
          ]
         },
         "layout": {
          "annotationdefaults": {
           "arrowcolor": "#2a3f5f",
           "arrowhead": 0,
           "arrowwidth": 1
          },
          "autotypenumbers": "strict",
          "coloraxis": {
           "colorbar": {
            "outlinewidth": 0,
            "ticks": ""
           }
          },
          "colorscale": {
           "diverging": [
            [
             0,
             "#8e0152"
            ],
            [
             0.1,
             "#c51b7d"
            ],
            [
             0.2,
             "#de77ae"
            ],
            [
             0.3,
             "#f1b6da"
            ],
            [
             0.4,
             "#fde0ef"
            ],
            [
             0.5,
             "#f7f7f7"
            ],
            [
             0.6,
             "#e6f5d0"
            ],
            [
             0.7,
             "#b8e186"
            ],
            [
             0.8,
             "#7fbc41"
            ],
            [
             0.9,
             "#4d9221"
            ],
            [
             1,
             "#276419"
            ]
           ],
           "sequential": [
            [
             0,
             "#0d0887"
            ],
            [
             0.1111111111111111,
             "#46039f"
            ],
            [
             0.2222222222222222,
             "#7201a8"
            ],
            [
             0.3333333333333333,
             "#9c179e"
            ],
            [
             0.4444444444444444,
             "#bd3786"
            ],
            [
             0.5555555555555556,
             "#d8576b"
            ],
            [
             0.6666666666666666,
             "#ed7953"
            ],
            [
             0.7777777777777778,
             "#fb9f3a"
            ],
            [
             0.8888888888888888,
             "#fdca26"
            ],
            [
             1,
             "#f0f921"
            ]
           ],
           "sequentialminus": [
            [
             0,
             "#0d0887"
            ],
            [
             0.1111111111111111,
             "#46039f"
            ],
            [
             0.2222222222222222,
             "#7201a8"
            ],
            [
             0.3333333333333333,
             "#9c179e"
            ],
            [
             0.4444444444444444,
             "#bd3786"
            ],
            [
             0.5555555555555556,
             "#d8576b"
            ],
            [
             0.6666666666666666,
             "#ed7953"
            ],
            [
             0.7777777777777778,
             "#fb9f3a"
            ],
            [
             0.8888888888888888,
             "#fdca26"
            ],
            [
             1,
             "#f0f921"
            ]
           ]
          },
          "colorway": [
           "#636efa",
           "#EF553B",
           "#00cc96",
           "#ab63fa",
           "#FFA15A",
           "#19d3f3",
           "#FF6692",
           "#B6E880",
           "#FF97FF",
           "#FECB52"
          ],
          "font": {
           "color": "#2a3f5f"
          },
          "geo": {
           "bgcolor": "white",
           "lakecolor": "white",
           "landcolor": "#E5ECF6",
           "showlakes": true,
           "showland": true,
           "subunitcolor": "white"
          },
          "hoverlabel": {
           "align": "left"
          },
          "hovermode": "closest",
          "mapbox": {
           "style": "light"
          },
          "paper_bgcolor": "white",
          "plot_bgcolor": "#E5ECF6",
          "polar": {
           "angularaxis": {
            "gridcolor": "white",
            "linecolor": "white",
            "ticks": ""
           },
           "bgcolor": "#E5ECF6",
           "radialaxis": {
            "gridcolor": "white",
            "linecolor": "white",
            "ticks": ""
           }
          },
          "scene": {
           "xaxis": {
            "backgroundcolor": "#E5ECF6",
            "gridcolor": "white",
            "gridwidth": 2,
            "linecolor": "white",
            "showbackground": true,
            "ticks": "",
            "zerolinecolor": "white"
           },
           "yaxis": {
            "backgroundcolor": "#E5ECF6",
            "gridcolor": "white",
            "gridwidth": 2,
            "linecolor": "white",
            "showbackground": true,
            "ticks": "",
            "zerolinecolor": "white"
           },
           "zaxis": {
            "backgroundcolor": "#E5ECF6",
            "gridcolor": "white",
            "gridwidth": 2,
            "linecolor": "white",
            "showbackground": true,
            "ticks": "",
            "zerolinecolor": "white"
           }
          },
          "shapedefaults": {
           "line": {
            "color": "#2a3f5f"
           }
          },
          "ternary": {
           "aaxis": {
            "gridcolor": "white",
            "linecolor": "white",
            "ticks": ""
           },
           "baxis": {
            "gridcolor": "white",
            "linecolor": "white",
            "ticks": ""
           },
           "bgcolor": "#E5ECF6",
           "caxis": {
            "gridcolor": "white",
            "linecolor": "white",
            "ticks": ""
           }
          },
          "title": {
           "x": 0.05
          },
          "xaxis": {
           "automargin": true,
           "gridcolor": "white",
           "linecolor": "white",
           "ticks": "",
           "title": {
            "standoff": 15
           },
           "zerolinecolor": "white",
           "zerolinewidth": 2
          },
          "yaxis": {
           "automargin": true,
           "gridcolor": "white",
           "linecolor": "white",
           "ticks": "",
           "title": {
            "standoff": 15
           },
           "zerolinecolor": "white",
           "zerolinewidth": 2
          }
         }
        },
        "title": {
         "text": "Top 10 Genres Distribution"
        },
        "xaxis": {
         "anchor": "y",
         "domain": [
          0,
          1
         ],
         "title": {
          "text": "Count"
         }
        },
        "yaxis": {
         "anchor": "x",
         "domain": [
          0,
          1
         ],
         "title": {
          "text": "Genre"
         }
        }
       }
      }
     },
     "metadata": {},
     "output_type": "display_data"
    }
   ],
   "source": [
    "top_genres = df['genre'].value_counts().index[:10]\n",
    "genre_counts = df['genre'].value_counts().head(10)\n",
    "\n",
    "fig = px.bar(x=genre_counts, y=top_genres, orientation='h',\n",
    "             labels={'x': 'Count', 'y': 'Genre'},\n",
    "             title='Top 10 Genres Distribution')\n",
    "fig.show()"
   ]
  },
  {
   "cell_type": "markdown",
   "metadata": {},
   "source": [
    "**2. Feature Extraction**"
   ]
  },
  {
   "cell_type": "code",
   "execution_count": 18,
   "metadata": {},
   "outputs": [],
   "source": [
    "genres = df['genre'].str.get_dummies(sep=', ')\n",
    "df_numerical = pd.concat([df.drop('genre', axis=1), genres], axis=1)"
   ]
  },
  {
   "cell_type": "code",
   "execution_count": 19,
   "metadata": {},
   "outputs": [
    {
     "data": {
      "text/html": [
       "<div>\n",
       "<style scoped>\n",
       "    .dataframe tbody tr th:only-of-type {\n",
       "        vertical-align: middle;\n",
       "    }\n",
       "\n",
       "    .dataframe tbody tr th {\n",
       "        vertical-align: top;\n",
       "    }\n",
       "\n",
       "    .dataframe thead th {\n",
       "        text-align: right;\n",
       "    }\n",
       "</style>\n",
       "<table border=\"1\" class=\"dataframe\">\n",
       "  <thead>\n",
       "    <tr style=\"text-align: right;\">\n",
       "      <th></th>\n",
       "      <th>anime_id</th>\n",
       "      <th>name</th>\n",
       "      <th>type</th>\n",
       "      <th>episodes</th>\n",
       "      <th>rating</th>\n",
       "      <th>members</th>\n",
       "      <th>Action</th>\n",
       "      <th>Adventure</th>\n",
       "      <th>Cars</th>\n",
       "      <th>Comedy</th>\n",
       "      <th>...</th>\n",
       "      <th>Shounen Ai</th>\n",
       "      <th>Slice of Life</th>\n",
       "      <th>Space</th>\n",
       "      <th>Sports</th>\n",
       "      <th>Super Power</th>\n",
       "      <th>Supernatural</th>\n",
       "      <th>Thriller</th>\n",
       "      <th>Vampire</th>\n",
       "      <th>Yaoi</th>\n",
       "      <th>Yuri</th>\n",
       "    </tr>\n",
       "  </thead>\n",
       "  <tbody>\n",
       "    <tr>\n",
       "      <th>0</th>\n",
       "      <td>32281</td>\n",
       "      <td>Kimi no Na wa.</td>\n",
       "      <td>Movie</td>\n",
       "      <td>1</td>\n",
       "      <td>2.824474</td>\n",
       "      <td>3.292044</td>\n",
       "      <td>0</td>\n",
       "      <td>0</td>\n",
       "      <td>0</td>\n",
       "      <td>0</td>\n",
       "      <td>...</td>\n",
       "      <td>0</td>\n",
       "      <td>0</td>\n",
       "      <td>0</td>\n",
       "      <td>0</td>\n",
       "      <td>0</td>\n",
       "      <td>1</td>\n",
       "      <td>0</td>\n",
       "      <td>0</td>\n",
       "      <td>0</td>\n",
       "      <td>0</td>\n",
       "    </tr>\n",
       "    <tr>\n",
       "      <th>1</th>\n",
       "      <td>5114</td>\n",
       "      <td>Fullmetal Alchemist: Brotherhood</td>\n",
       "      <td>TV</td>\n",
       "      <td>64</td>\n",
       "      <td>2.717032</td>\n",
       "      <td>14.002410</td>\n",
       "      <td>1</td>\n",
       "      <td>1</td>\n",
       "      <td>0</td>\n",
       "      <td>0</td>\n",
       "      <td>...</td>\n",
       "      <td>0</td>\n",
       "      <td>0</td>\n",
       "      <td>0</td>\n",
       "      <td>0</td>\n",
       "      <td>0</td>\n",
       "      <td>0</td>\n",
       "      <td>0</td>\n",
       "      <td>0</td>\n",
       "      <td>0</td>\n",
       "      <td>0</td>\n",
       "    </tr>\n",
       "    <tr>\n",
       "      <th>2</th>\n",
       "      <td>28977</td>\n",
       "      <td>Gintama°</td>\n",
       "      <td>TV</td>\n",
       "      <td>51</td>\n",
       "      <td>2.707265</td>\n",
       "      <td>1.732216</td>\n",
       "      <td>1</td>\n",
       "      <td>0</td>\n",
       "      <td>0</td>\n",
       "      <td>1</td>\n",
       "      <td>...</td>\n",
       "      <td>0</td>\n",
       "      <td>0</td>\n",
       "      <td>0</td>\n",
       "      <td>0</td>\n",
       "      <td>0</td>\n",
       "      <td>0</td>\n",
       "      <td>0</td>\n",
       "      <td>0</td>\n",
       "      <td>0</td>\n",
       "      <td>0</td>\n",
       "    </tr>\n",
       "    <tr>\n",
       "      <th>3</th>\n",
       "      <td>9253</td>\n",
       "      <td>Steins;Gate</td>\n",
       "      <td>TV</td>\n",
       "      <td>24</td>\n",
       "      <td>2.629126</td>\n",
       "      <td>11.833499</td>\n",
       "      <td>0</td>\n",
       "      <td>0</td>\n",
       "      <td>0</td>\n",
       "      <td>0</td>\n",
       "      <td>...</td>\n",
       "      <td>0</td>\n",
       "      <td>0</td>\n",
       "      <td>0</td>\n",
       "      <td>0</td>\n",
       "      <td>0</td>\n",
       "      <td>0</td>\n",
       "      <td>1</td>\n",
       "      <td>0</td>\n",
       "      <td>0</td>\n",
       "      <td>0</td>\n",
       "    </tr>\n",
       "    <tr>\n",
       "      <th>4</th>\n",
       "      <td>9969</td>\n",
       "      <td>Gintama&amp;#039;</td>\n",
       "      <td>TV</td>\n",
       "      <td>51</td>\n",
       "      <td>2.619358</td>\n",
       "      <td>2.400518</td>\n",
       "      <td>1</td>\n",
       "      <td>0</td>\n",
       "      <td>0</td>\n",
       "      <td>1</td>\n",
       "      <td>...</td>\n",
       "      <td>0</td>\n",
       "      <td>0</td>\n",
       "      <td>0</td>\n",
       "      <td>0</td>\n",
       "      <td>0</td>\n",
       "      <td>0</td>\n",
       "      <td>0</td>\n",
       "      <td>0</td>\n",
       "      <td>0</td>\n",
       "      <td>0</td>\n",
       "    </tr>\n",
       "  </tbody>\n",
       "</table>\n",
       "<p>5 rows × 49 columns</p>\n",
       "</div>"
      ],
      "text/plain": [
       "   anime_id                              name   type episodes    rating  \\\n",
       "0     32281                    Kimi no Na wa.  Movie        1  2.824474   \n",
       "1      5114  Fullmetal Alchemist: Brotherhood     TV       64  2.717032   \n",
       "2     28977                          Gintama°     TV       51  2.707265   \n",
       "3      9253                       Steins;Gate     TV       24  2.629126   \n",
       "4      9969                     Gintama&#039;     TV       51  2.619358   \n",
       "\n",
       "     members  Action  Adventure  Cars  Comedy  ...  Shounen Ai  Slice of Life  \\\n",
       "0   3.292044       0          0     0       0  ...           0              0   \n",
       "1  14.002410       1          1     0       0  ...           0              0   \n",
       "2   1.732216       1          0     0       1  ...           0              0   \n",
       "3  11.833499       0          0     0       0  ...           0              0   \n",
       "4   2.400518       1          0     0       1  ...           0              0   \n",
       "\n",
       "   Space  Sports  Super Power  Supernatural  Thriller  Vampire  Yaoi  Yuri  \n",
       "0      0       0            0             1         0        0     0     0  \n",
       "1      0       0            0             0         0        0     0     0  \n",
       "2      0       0            0             0         0        0     0     0  \n",
       "3      0       0            0             0         1        0     0     0  \n",
       "4      0       0            0             0         0        0     0     0  \n",
       "\n",
       "[5 rows x 49 columns]"
      ]
     },
     "execution_count": 19,
     "metadata": {},
     "output_type": "execute_result"
    }
   ],
   "source": [
    "from sklearn.preprocessing import StandardScaler\n",
    "\n",
    "scaler = StandardScaler()\n",
    "numerical_cols = ['rating', 'members']\n",
    "df_numerical[numerical_cols] = scaler.fit_transform(df_numerical[numerical_cols])\n",
    "\n",
    "df_numerical.head()"
   ]
  },
  {
   "cell_type": "code",
   "execution_count": 20,
   "metadata": {},
   "outputs": [],
   "source": [
    "import plotly.graph_objs as go\n",
    "import plotly.express as px"
   ]
  },
  {
   "cell_type": "code",
   "execution_count": 21,
   "metadata": {},
   "outputs": [
    {
     "data": {
      "application/vnd.plotly.v1+json": {
       "config": {
        "plotlyServerURL": "https://plot.ly"
       },
       "data": [
        {
         "hovertemplate": "Genres=%{x}<br>Count=%{y}<extra></extra>",
         "legendgroup": "",
         "marker": {
          "color": "#636efa",
          "pattern": {
           "shape": ""
          }
         },
         "name": "",
         "orientation": "v",
         "showlegend": false,
         "textposition": "auto",
         "type": "bar",
         "x": [
          "Hentai",
          "Comedy",
          "Music",
          "Kids",
          "Comedy, Slice of Life",
          "Dementia",
          "Fantasy, Kids",
          "Comedy, Kids",
          "Fantasy",
          "Drama, Kids"
         ],
         "xaxis": "x",
         "y": {
          "bdata": "MAMJAikBxQCuAIkAgABwAG4AaQA=",
          "dtype": "i2"
         },
         "yaxis": "y"
        }
       ],
       "layout": {
        "barmode": "relative",
        "legend": {
         "tracegroupgap": 0
        },
        "template": {
         "data": {
          "bar": [
           {
            "error_x": {
             "color": "#2a3f5f"
            },
            "error_y": {
             "color": "#2a3f5f"
            },
            "marker": {
             "line": {
              "color": "#E5ECF6",
              "width": 0.5
             },
             "pattern": {
              "fillmode": "overlay",
              "size": 10,
              "solidity": 0.2
             }
            },
            "type": "bar"
           }
          ],
          "barpolar": [
           {
            "marker": {
             "line": {
              "color": "#E5ECF6",
              "width": 0.5
             },
             "pattern": {
              "fillmode": "overlay",
              "size": 10,
              "solidity": 0.2
             }
            },
            "type": "barpolar"
           }
          ],
          "carpet": [
           {
            "aaxis": {
             "endlinecolor": "#2a3f5f",
             "gridcolor": "white",
             "linecolor": "white",
             "minorgridcolor": "white",
             "startlinecolor": "#2a3f5f"
            },
            "baxis": {
             "endlinecolor": "#2a3f5f",
             "gridcolor": "white",
             "linecolor": "white",
             "minorgridcolor": "white",
             "startlinecolor": "#2a3f5f"
            },
            "type": "carpet"
           }
          ],
          "choropleth": [
           {
            "colorbar": {
             "outlinewidth": 0,
             "ticks": ""
            },
            "type": "choropleth"
           }
          ],
          "contour": [
           {
            "colorbar": {
             "outlinewidth": 0,
             "ticks": ""
            },
            "colorscale": [
             [
              0,
              "#0d0887"
             ],
             [
              0.1111111111111111,
              "#46039f"
             ],
             [
              0.2222222222222222,
              "#7201a8"
             ],
             [
              0.3333333333333333,
              "#9c179e"
             ],
             [
              0.4444444444444444,
              "#bd3786"
             ],
             [
              0.5555555555555556,
              "#d8576b"
             ],
             [
              0.6666666666666666,
              "#ed7953"
             ],
             [
              0.7777777777777778,
              "#fb9f3a"
             ],
             [
              0.8888888888888888,
              "#fdca26"
             ],
             [
              1,
              "#f0f921"
             ]
            ],
            "type": "contour"
           }
          ],
          "contourcarpet": [
           {
            "colorbar": {
             "outlinewidth": 0,
             "ticks": ""
            },
            "type": "contourcarpet"
           }
          ],
          "heatmap": [
           {
            "colorbar": {
             "outlinewidth": 0,
             "ticks": ""
            },
            "colorscale": [
             [
              0,
              "#0d0887"
             ],
             [
              0.1111111111111111,
              "#46039f"
             ],
             [
              0.2222222222222222,
              "#7201a8"
             ],
             [
              0.3333333333333333,
              "#9c179e"
             ],
             [
              0.4444444444444444,
              "#bd3786"
             ],
             [
              0.5555555555555556,
              "#d8576b"
             ],
             [
              0.6666666666666666,
              "#ed7953"
             ],
             [
              0.7777777777777778,
              "#fb9f3a"
             ],
             [
              0.8888888888888888,
              "#fdca26"
             ],
             [
              1,
              "#f0f921"
             ]
            ],
            "type": "heatmap"
           }
          ],
          "histogram": [
           {
            "marker": {
             "pattern": {
              "fillmode": "overlay",
              "size": 10,
              "solidity": 0.2
             }
            },
            "type": "histogram"
           }
          ],
          "histogram2d": [
           {
            "colorbar": {
             "outlinewidth": 0,
             "ticks": ""
            },
            "colorscale": [
             [
              0,
              "#0d0887"
             ],
             [
              0.1111111111111111,
              "#46039f"
             ],
             [
              0.2222222222222222,
              "#7201a8"
             ],
             [
              0.3333333333333333,
              "#9c179e"
             ],
             [
              0.4444444444444444,
              "#bd3786"
             ],
             [
              0.5555555555555556,
              "#d8576b"
             ],
             [
              0.6666666666666666,
              "#ed7953"
             ],
             [
              0.7777777777777778,
              "#fb9f3a"
             ],
             [
              0.8888888888888888,
              "#fdca26"
             ],
             [
              1,
              "#f0f921"
             ]
            ],
            "type": "histogram2d"
           }
          ],
          "histogram2dcontour": [
           {
            "colorbar": {
             "outlinewidth": 0,
             "ticks": ""
            },
            "colorscale": [
             [
              0,
              "#0d0887"
             ],
             [
              0.1111111111111111,
              "#46039f"
             ],
             [
              0.2222222222222222,
              "#7201a8"
             ],
             [
              0.3333333333333333,
              "#9c179e"
             ],
             [
              0.4444444444444444,
              "#bd3786"
             ],
             [
              0.5555555555555556,
              "#d8576b"
             ],
             [
              0.6666666666666666,
              "#ed7953"
             ],
             [
              0.7777777777777778,
              "#fb9f3a"
             ],
             [
              0.8888888888888888,
              "#fdca26"
             ],
             [
              1,
              "#f0f921"
             ]
            ],
            "type": "histogram2dcontour"
           }
          ],
          "mesh3d": [
           {
            "colorbar": {
             "outlinewidth": 0,
             "ticks": ""
            },
            "type": "mesh3d"
           }
          ],
          "parcoords": [
           {
            "line": {
             "colorbar": {
              "outlinewidth": 0,
              "ticks": ""
             }
            },
            "type": "parcoords"
           }
          ],
          "pie": [
           {
            "automargin": true,
            "type": "pie"
           }
          ],
          "scatter": [
           {
            "fillpattern": {
             "fillmode": "overlay",
             "size": 10,
             "solidity": 0.2
            },
            "type": "scatter"
           }
          ],
          "scatter3d": [
           {
            "line": {
             "colorbar": {
              "outlinewidth": 0,
              "ticks": ""
             }
            },
            "marker": {
             "colorbar": {
              "outlinewidth": 0,
              "ticks": ""
             }
            },
            "type": "scatter3d"
           }
          ],
          "scattercarpet": [
           {
            "marker": {
             "colorbar": {
              "outlinewidth": 0,
              "ticks": ""
             }
            },
            "type": "scattercarpet"
           }
          ],
          "scattergeo": [
           {
            "marker": {
             "colorbar": {
              "outlinewidth": 0,
              "ticks": ""
             }
            },
            "type": "scattergeo"
           }
          ],
          "scattergl": [
           {
            "marker": {
             "colorbar": {
              "outlinewidth": 0,
              "ticks": ""
             }
            },
            "type": "scattergl"
           }
          ],
          "scattermap": [
           {
            "marker": {
             "colorbar": {
              "outlinewidth": 0,
              "ticks": ""
             }
            },
            "type": "scattermap"
           }
          ],
          "scattermapbox": [
           {
            "marker": {
             "colorbar": {
              "outlinewidth": 0,
              "ticks": ""
             }
            },
            "type": "scattermapbox"
           }
          ],
          "scatterpolar": [
           {
            "marker": {
             "colorbar": {
              "outlinewidth": 0,
              "ticks": ""
             }
            },
            "type": "scatterpolar"
           }
          ],
          "scatterpolargl": [
           {
            "marker": {
             "colorbar": {
              "outlinewidth": 0,
              "ticks": ""
             }
            },
            "type": "scatterpolargl"
           }
          ],
          "scatterternary": [
           {
            "marker": {
             "colorbar": {
              "outlinewidth": 0,
              "ticks": ""
             }
            },
            "type": "scatterternary"
           }
          ],
          "surface": [
           {
            "colorbar": {
             "outlinewidth": 0,
             "ticks": ""
            },
            "colorscale": [
             [
              0,
              "#0d0887"
             ],
             [
              0.1111111111111111,
              "#46039f"
             ],
             [
              0.2222222222222222,
              "#7201a8"
             ],
             [
              0.3333333333333333,
              "#9c179e"
             ],
             [
              0.4444444444444444,
              "#bd3786"
             ],
             [
              0.5555555555555556,
              "#d8576b"
             ],
             [
              0.6666666666666666,
              "#ed7953"
             ],
             [
              0.7777777777777778,
              "#fb9f3a"
             ],
             [
              0.8888888888888888,
              "#fdca26"
             ],
             [
              1,
              "#f0f921"
             ]
            ],
            "type": "surface"
           }
          ],
          "table": [
           {
            "cells": {
             "fill": {
              "color": "#EBF0F8"
             },
             "line": {
              "color": "white"
             }
            },
            "header": {
             "fill": {
              "color": "#C8D4E3"
             },
             "line": {
              "color": "white"
             }
            },
            "type": "table"
           }
          ]
         },
         "layout": {
          "annotationdefaults": {
           "arrowcolor": "#2a3f5f",
           "arrowhead": 0,
           "arrowwidth": 1
          },
          "autotypenumbers": "strict",
          "coloraxis": {
           "colorbar": {
            "outlinewidth": 0,
            "ticks": ""
           }
          },
          "colorscale": {
           "diverging": [
            [
             0,
             "#8e0152"
            ],
            [
             0.1,
             "#c51b7d"
            ],
            [
             0.2,
             "#de77ae"
            ],
            [
             0.3,
             "#f1b6da"
            ],
            [
             0.4,
             "#fde0ef"
            ],
            [
             0.5,
             "#f7f7f7"
            ],
            [
             0.6,
             "#e6f5d0"
            ],
            [
             0.7,
             "#b8e186"
            ],
            [
             0.8,
             "#7fbc41"
            ],
            [
             0.9,
             "#4d9221"
            ],
            [
             1,
             "#276419"
            ]
           ],
           "sequential": [
            [
             0,
             "#0d0887"
            ],
            [
             0.1111111111111111,
             "#46039f"
            ],
            [
             0.2222222222222222,
             "#7201a8"
            ],
            [
             0.3333333333333333,
             "#9c179e"
            ],
            [
             0.4444444444444444,
             "#bd3786"
            ],
            [
             0.5555555555555556,
             "#d8576b"
            ],
            [
             0.6666666666666666,
             "#ed7953"
            ],
            [
             0.7777777777777778,
             "#fb9f3a"
            ],
            [
             0.8888888888888888,
             "#fdca26"
            ],
            [
             1,
             "#f0f921"
            ]
           ],
           "sequentialminus": [
            [
             0,
             "#0d0887"
            ],
            [
             0.1111111111111111,
             "#46039f"
            ],
            [
             0.2222222222222222,
             "#7201a8"
            ],
            [
             0.3333333333333333,
             "#9c179e"
            ],
            [
             0.4444444444444444,
             "#bd3786"
            ],
            [
             0.5555555555555556,
             "#d8576b"
            ],
            [
             0.6666666666666666,
             "#ed7953"
            ],
            [
             0.7777777777777778,
             "#fb9f3a"
            ],
            [
             0.8888888888888888,
             "#fdca26"
            ],
            [
             1,
             "#f0f921"
            ]
           ]
          },
          "colorway": [
           "#636efa",
           "#EF553B",
           "#00cc96",
           "#ab63fa",
           "#FFA15A",
           "#19d3f3",
           "#FF6692",
           "#B6E880",
           "#FF97FF",
           "#FECB52"
          ],
          "font": {
           "color": "#2a3f5f"
          },
          "geo": {
           "bgcolor": "white",
           "lakecolor": "white",
           "landcolor": "#E5ECF6",
           "showlakes": true,
           "showland": true,
           "subunitcolor": "white"
          },
          "hoverlabel": {
           "align": "left"
          },
          "hovermode": "closest",
          "mapbox": {
           "style": "light"
          },
          "paper_bgcolor": "white",
          "plot_bgcolor": "#E5ECF6",
          "polar": {
           "angularaxis": {
            "gridcolor": "white",
            "linecolor": "white",
            "ticks": ""
           },
           "bgcolor": "#E5ECF6",
           "radialaxis": {
            "gridcolor": "white",
            "linecolor": "white",
            "ticks": ""
           }
          },
          "scene": {
           "xaxis": {
            "backgroundcolor": "#E5ECF6",
            "gridcolor": "white",
            "gridwidth": 2,
            "linecolor": "white",
            "showbackground": true,
            "ticks": "",
            "zerolinecolor": "white"
           },
           "yaxis": {
            "backgroundcolor": "#E5ECF6",
            "gridcolor": "white",
            "gridwidth": 2,
            "linecolor": "white",
            "showbackground": true,
            "ticks": "",
            "zerolinecolor": "white"
           },
           "zaxis": {
            "backgroundcolor": "#E5ECF6",
            "gridcolor": "white",
            "gridwidth": 2,
            "linecolor": "white",
            "showbackground": true,
            "ticks": "",
            "zerolinecolor": "white"
           }
          },
          "shapedefaults": {
           "line": {
            "color": "#2a3f5f"
           }
          },
          "ternary": {
           "aaxis": {
            "gridcolor": "white",
            "linecolor": "white",
            "ticks": ""
           },
           "baxis": {
            "gridcolor": "white",
            "linecolor": "white",
            "ticks": ""
           },
           "bgcolor": "#E5ECF6",
           "caxis": {
            "gridcolor": "white",
            "linecolor": "white",
            "ticks": ""
           }
          },
          "title": {
           "x": 0.05
          },
          "xaxis": {
           "automargin": true,
           "gridcolor": "white",
           "linecolor": "white",
           "ticks": "",
           "title": {
            "standoff": 15
           },
           "zerolinecolor": "white",
           "zerolinewidth": 2
          },
          "yaxis": {
           "automargin": true,
           "gridcolor": "white",
           "linecolor": "white",
           "ticks": "",
           "title": {
            "standoff": 15
           },
           "zerolinecolor": "white",
           "zerolinewidth": 2
          }
         }
        },
        "title": {
         "text": "Distribution of Genres"
        },
        "xaxis": {
         "anchor": "y",
         "categoryorder": "total descending",
         "domain": [
          0,
          1
         ],
         "title": {
          "text": "Genres"
         }
        },
        "yaxis": {
         "anchor": "x",
         "domain": [
          0,
          1
         ],
         "title": {
          "text": "Count"
         }
        }
       }
      }
     },
     "metadata": {},
     "output_type": "display_data"
    }
   ],
   "source": [
    "fig = px.bar(x=genre_counts.index, y=genre_counts.values,\n",
    "             labels={'x': 'Genres', 'y': 'Count'},\n",
    "             title='Distribution of Genres')\n",
    "fig.update_layout(xaxis={'categoryorder':'total descending'},\n",
    "                  xaxis_title='Genres', yaxis_title='Count')\n",
    "fig.show()"
   ]
  },
  {
   "cell_type": "code",
   "execution_count": 22,
   "metadata": {},
   "outputs": [],
   "source": [
    "fig = go.Figure()"
   ]
  },
  {
   "cell_type": "code",
   "execution_count": 23,
   "metadata": {},
   "outputs": [
    {
     "data": {
      "application/vnd.plotly.v1+json": {
       "config": {
        "plotlyServerURL": "https://plot.ly"
       },
       "data": [
        {
         "marker": {
          "color": "skyblue"
         },
         "name": "Rating",
         "type": "histogram",
         "x": {
          "bdata": "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",
          "dtype": "f8"
         }
        }
       ],
       "layout": {
        "template": {
         "data": {
          "bar": [
           {
            "error_x": {
             "color": "#2a3f5f"
            },
            "error_y": {
             "color": "#2a3f5f"
            },
            "marker": {
             "line": {
              "color": "#E5ECF6",
              "width": 0.5
             },
             "pattern": {
              "fillmode": "overlay",
              "size": 10,
              "solidity": 0.2
             }
            },
            "type": "bar"
           }
          ],
          "barpolar": [
           {
            "marker": {
             "line": {
              "color": "#E5ECF6",
              "width": 0.5
             },
             "pattern": {
              "fillmode": "overlay",
              "size": 10,
              "solidity": 0.2
             }
            },
            "type": "barpolar"
           }
          ],
          "carpet": [
           {
            "aaxis": {
             "endlinecolor": "#2a3f5f",
             "gridcolor": "white",
             "linecolor": "white",
             "minorgridcolor": "white",
             "startlinecolor": "#2a3f5f"
            },
            "baxis": {
             "endlinecolor": "#2a3f5f",
             "gridcolor": "white",
             "linecolor": "white",
             "minorgridcolor": "white",
             "startlinecolor": "#2a3f5f"
            },
            "type": "carpet"
           }
          ],
          "choropleth": [
           {
            "colorbar": {
             "outlinewidth": 0,
             "ticks": ""
            },
            "type": "choropleth"
           }
          ],
          "contour": [
           {
            "colorbar": {
             "outlinewidth": 0,
             "ticks": ""
            },
            "colorscale": [
             [
              0,
              "#0d0887"
             ],
             [
              0.1111111111111111,
              "#46039f"
             ],
             [
              0.2222222222222222,
              "#7201a8"
             ],
             [
              0.3333333333333333,
              "#9c179e"
             ],
             [
              0.4444444444444444,
              "#bd3786"
             ],
             [
              0.5555555555555556,
              "#d8576b"
             ],
             [
              0.6666666666666666,
              "#ed7953"
             ],
             [
              0.7777777777777778,
              "#fb9f3a"
             ],
             [
              0.8888888888888888,
              "#fdca26"
             ],
             [
              1,
              "#f0f921"
             ]
            ],
            "type": "contour"
           }
          ],
          "contourcarpet": [
           {
            "colorbar": {
             "outlinewidth": 0,
             "ticks": ""
            },
            "type": "contourcarpet"
           }
          ],
          "heatmap": [
           {
            "colorbar": {
             "outlinewidth": 0,
             "ticks": ""
            },
            "colorscale": [
             [
              0,
              "#0d0887"
             ],
             [
              0.1111111111111111,
              "#46039f"
             ],
             [
              0.2222222222222222,
              "#7201a8"
             ],
             [
              0.3333333333333333,
              "#9c179e"
             ],
             [
              0.4444444444444444,
              "#bd3786"
             ],
             [
              0.5555555555555556,
              "#d8576b"
             ],
             [
              0.6666666666666666,
              "#ed7953"
             ],
             [
              0.7777777777777778,
              "#fb9f3a"
             ],
             [
              0.8888888888888888,
              "#fdca26"
             ],
             [
              1,
              "#f0f921"
             ]
            ],
            "type": "heatmap"
           }
          ],
          "histogram": [
           {
            "marker": {
             "pattern": {
              "fillmode": "overlay",
              "size": 10,
              "solidity": 0.2
             }
            },
            "type": "histogram"
           }
          ],
          "histogram2d": [
           {
            "colorbar": {
             "outlinewidth": 0,
             "ticks": ""
            },
            "colorscale": [
             [
              0,
              "#0d0887"
             ],
             [
              0.1111111111111111,
              "#46039f"
             ],
             [
              0.2222222222222222,
              "#7201a8"
             ],
             [
              0.3333333333333333,
              "#9c179e"
             ],
             [
              0.4444444444444444,
              "#bd3786"
             ],
             [
              0.5555555555555556,
              "#d8576b"
             ],
             [
              0.6666666666666666,
              "#ed7953"
             ],
             [
              0.7777777777777778,
              "#fb9f3a"
             ],
             [
              0.8888888888888888,
              "#fdca26"
             ],
             [
              1,
              "#f0f921"
             ]
            ],
            "type": "histogram2d"
           }
          ],
          "histogram2dcontour": [
           {
            "colorbar": {
             "outlinewidth": 0,
             "ticks": ""
            },
            "colorscale": [
             [
              0,
              "#0d0887"
             ],
             [
              0.1111111111111111,
              "#46039f"
             ],
             [
              0.2222222222222222,
              "#7201a8"
             ],
             [
              0.3333333333333333,
              "#9c179e"
             ],
             [
              0.4444444444444444,
              "#bd3786"
             ],
             [
              0.5555555555555556,
              "#d8576b"
             ],
             [
              0.6666666666666666,
              "#ed7953"
             ],
             [
              0.7777777777777778,
              "#fb9f3a"
             ],
             [
              0.8888888888888888,
              "#fdca26"
             ],
             [
              1,
              "#f0f921"
             ]
            ],
            "type": "histogram2dcontour"
           }
          ],
          "mesh3d": [
           {
            "colorbar": {
             "outlinewidth": 0,
             "ticks": ""
            },
            "type": "mesh3d"
           }
          ],
          "parcoords": [
           {
            "line": {
             "colorbar": {
              "outlinewidth": 0,
              "ticks": ""
             }
            },
            "type": "parcoords"
           }
          ],
          "pie": [
           {
            "automargin": true,
            "type": "pie"
           }
          ],
          "scatter": [
           {
            "fillpattern": {
             "fillmode": "overlay",
             "size": 10,
             "solidity": 0.2
            },
            "type": "scatter"
           }
          ],
          "scatter3d": [
           {
            "line": {
             "colorbar": {
              "outlinewidth": 0,
              "ticks": ""
             }
            },
            "marker": {
             "colorbar": {
              "outlinewidth": 0,
              "ticks": ""
             }
            },
            "type": "scatter3d"
           }
          ],
          "scattercarpet": [
           {
            "marker": {
             "colorbar": {
              "outlinewidth": 0,
              "ticks": ""
             }
            },
            "type": "scattercarpet"
           }
          ],
          "scattergeo": [
           {
            "marker": {
             "colorbar": {
              "outlinewidth": 0,
              "ticks": ""
             }
            },
            "type": "scattergeo"
           }
          ],
          "scattergl": [
           {
            "marker": {
             "colorbar": {
              "outlinewidth": 0,
              "ticks": ""
             }
            },
            "type": "scattergl"
           }
          ],
          "scattermap": [
           {
            "marker": {
             "colorbar": {
              "outlinewidth": 0,
              "ticks": ""
             }
            },
            "type": "scattermap"
           }
          ],
          "scattermapbox": [
           {
            "marker": {
             "colorbar": {
              "outlinewidth": 0,
              "ticks": ""
             }
            },
            "type": "scattermapbox"
           }
          ],
          "scatterpolar": [
           {
            "marker": {
             "colorbar": {
              "outlinewidth": 0,
              "ticks": ""
             }
            },
            "type": "scatterpolar"
           }
          ],
          "scatterpolargl": [
           {
            "marker": {
             "colorbar": {
              "outlinewidth": 0,
              "ticks": ""
             }
            },
            "type": "scatterpolargl"
           }
          ],
          "scatterternary": [
           {
            "marker": {
             "colorbar": {
              "outlinewidth": 0,
              "ticks": ""
             }
            },
            "type": "scatterternary"
           }
          ],
          "surface": [
           {
            "colorbar": {
             "outlinewidth": 0,
             "ticks": ""
            },
            "colorscale": [
             [
              0,
              "#0d0887"
             ],
             [
              0.1111111111111111,
              "#46039f"
             ],
             [
              0.2222222222222222,
              "#7201a8"
             ],
             [
              0.3333333333333333,
              "#9c179e"
             ],
             [
              0.4444444444444444,
              "#bd3786"
             ],
             [
              0.5555555555555556,
              "#d8576b"
             ],
             [
              0.6666666666666666,
              "#ed7953"
             ],
             [
              0.7777777777777778,
              "#fb9f3a"
             ],
             [
              0.8888888888888888,
              "#fdca26"
             ],
             [
              1,
              "#f0f921"
             ]
            ],
            "type": "surface"
           }
          ],
          "table": [
           {
            "cells": {
             "fill": {
              "color": "#EBF0F8"
             },
             "line": {
              "color": "white"
             }
            },
            "header": {
             "fill": {
              "color": "#C8D4E3"
             },
             "line": {
              "color": "white"
             }
            },
            "type": "table"
           }
          ]
         },
         "layout": {
          "annotationdefaults": {
           "arrowcolor": "#2a3f5f",
           "arrowhead": 0,
           "arrowwidth": 1
          },
          "autotypenumbers": "strict",
          "coloraxis": {
           "colorbar": {
            "outlinewidth": 0,
            "ticks": ""
           }
          },
          "colorscale": {
           "diverging": [
            [
             0,
             "#8e0152"
            ],
            [
             0.1,
             "#c51b7d"
            ],
            [
             0.2,
             "#de77ae"
            ],
            [
             0.3,
             "#f1b6da"
            ],
            [
             0.4,
             "#fde0ef"
            ],
            [
             0.5,
             "#f7f7f7"
            ],
            [
             0.6,
             "#e6f5d0"
            ],
            [
             0.7,
             "#b8e186"
            ],
            [
             0.8,
             "#7fbc41"
            ],
            [
             0.9,
             "#4d9221"
            ],
            [
             1,
             "#276419"
            ]
           ],
           "sequential": [
            [
             0,
             "#0d0887"
            ],
            [
             0.1111111111111111,
             "#46039f"
            ],
            [
             0.2222222222222222,
             "#7201a8"
            ],
            [
             0.3333333333333333,
             "#9c179e"
            ],
            [
             0.4444444444444444,
             "#bd3786"
            ],
            [
             0.5555555555555556,
             "#d8576b"
            ],
            [
             0.6666666666666666,
             "#ed7953"
            ],
            [
             0.7777777777777778,
             "#fb9f3a"
            ],
            [
             0.8888888888888888,
             "#fdca26"
            ],
            [
             1,
             "#f0f921"
            ]
           ],
           "sequentialminus": [
            [
             0,
             "#0d0887"
            ],
            [
             0.1111111111111111,
             "#46039f"
            ],
            [
             0.2222222222222222,
             "#7201a8"
            ],
            [
             0.3333333333333333,
             "#9c179e"
            ],
            [
             0.4444444444444444,
             "#bd3786"
            ],
            [
             0.5555555555555556,
             "#d8576b"
            ],
            [
             0.6666666666666666,
             "#ed7953"
            ],
            [
             0.7777777777777778,
             "#fb9f3a"
            ],
            [
             0.8888888888888888,
             "#fdca26"
            ],
            [
             1,
             "#f0f921"
            ]
           ]
          },
          "colorway": [
           "#636efa",
           "#EF553B",
           "#00cc96",
           "#ab63fa",
           "#FFA15A",
           "#19d3f3",
           "#FF6692",
           "#B6E880",
           "#FF97FF",
           "#FECB52"
          ],
          "font": {
           "color": "#2a3f5f"
          },
          "geo": {
           "bgcolor": "white",
           "lakecolor": "white",
           "landcolor": "#E5ECF6",
           "showlakes": true,
           "showland": true,
           "subunitcolor": "white"
          },
          "hoverlabel": {
           "align": "left"
          },
          "hovermode": "closest",
          "mapbox": {
           "style": "light"
          },
          "paper_bgcolor": "white",
          "plot_bgcolor": "#E5ECF6",
          "polar": {
           "angularaxis": {
            "gridcolor": "white",
            "linecolor": "white",
            "ticks": ""
           },
           "bgcolor": "#E5ECF6",
           "radialaxis": {
            "gridcolor": "white",
            "linecolor": "white",
            "ticks": ""
           }
          },
          "scene": {
           "xaxis": {
            "backgroundcolor": "#E5ECF6",
            "gridcolor": "white",
            "gridwidth": 2,
            "linecolor": "white",
            "showbackground": true,
            "ticks": "",
            "zerolinecolor": "white"
           },
           "yaxis": {
            "backgroundcolor": "#E5ECF6",
            "gridcolor": "white",
            "gridwidth": 2,
            "linecolor": "white",
            "showbackground": true,
            "ticks": "",
            "zerolinecolor": "white"
           },
           "zaxis": {
            "backgroundcolor": "#E5ECF6",
            "gridcolor": "white",
            "gridwidth": 2,
            "linecolor": "white",
            "showbackground": true,
            "ticks": "",
            "zerolinecolor": "white"
           }
          },
          "shapedefaults": {
           "line": {
            "color": "#2a3f5f"
           }
          },
          "ternary": {
           "aaxis": {
            "gridcolor": "white",
            "linecolor": "white",
            "ticks": ""
           },
           "baxis": {
            "gridcolor": "white",
            "linecolor": "white",
            "ticks": ""
           },
           "bgcolor": "#E5ECF6",
           "caxis": {
            "gridcolor": "white",
            "linecolor": "white",
            "ticks": ""
           }
          },
          "title": {
           "x": 0.05
          },
          "xaxis": {
           "automargin": true,
           "gridcolor": "white",
           "linecolor": "white",
           "ticks": "",
           "title": {
            "standoff": 15
           },
           "zerolinecolor": "white",
           "zerolinewidth": 2
          },
          "yaxis": {
           "automargin": true,
           "gridcolor": "white",
           "linecolor": "white",
           "ticks": "",
           "title": {
            "standoff": 15
           },
           "zerolinecolor": "white",
           "zerolinewidth": 2
          }
         }
        }
       }
      }
     },
     "metadata": {},
     "output_type": "display_data"
    }
   ],
   "source": [
    "fig.add_trace(go.Histogram(x=df_numerical['rating'],\n",
    "                            marker_color='skyblue',\n",
    "                            name='Rating'))"
   ]
  },
  {
   "cell_type": "code",
   "execution_count": 24,
   "metadata": {},
   "outputs": [
    {
     "data": {
      "application/vnd.plotly.v1+json": {
       "config": {
        "plotlyServerURL": "https://plot.ly"
       },
       "data": [
        {
         "marker": {
          "color": "skyblue"
         },
         "name": "Rating",
         "opacity": 0.75,
         "type": "histogram",
         "x": {
          "bdata": "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",
          "dtype": "f8"
         }
        },
        {
         "marker": {
          "color": "salmon"
         },
         "name": "Members",
         "opacity": 0.75,
         "type": "histogram",
         "x": {
          "bdata": "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",
          "dtype": "f8"
         }
        }
       ],
       "layout": {
        "barmode": "overlay",
        "showlegend": true,
        "template": {
         "data": {
          "bar": [
           {
            "error_x": {
             "color": "#2a3f5f"
            },
            "error_y": {
             "color": "#2a3f5f"
            },
            "marker": {
             "line": {
              "color": "#E5ECF6",
              "width": 0.5
             },
             "pattern": {
              "fillmode": "overlay",
              "size": 10,
              "solidity": 0.2
             }
            },
            "type": "bar"
           }
          ],
          "barpolar": [
           {
            "marker": {
             "line": {
              "color": "#E5ECF6",
              "width": 0.5
             },
             "pattern": {
              "fillmode": "overlay",
              "size": 10,
              "solidity": 0.2
             }
            },
            "type": "barpolar"
           }
          ],
          "carpet": [
           {
            "aaxis": {
             "endlinecolor": "#2a3f5f",
             "gridcolor": "white",
             "linecolor": "white",
             "minorgridcolor": "white",
             "startlinecolor": "#2a3f5f"
            },
            "baxis": {
             "endlinecolor": "#2a3f5f",
             "gridcolor": "white",
             "linecolor": "white",
             "minorgridcolor": "white",
             "startlinecolor": "#2a3f5f"
            },
            "type": "carpet"
           }
          ],
          "choropleth": [
           {
            "colorbar": {
             "outlinewidth": 0,
             "ticks": ""
            },
            "type": "choropleth"
           }
          ],
          "contour": [
           {
            "colorbar": {
             "outlinewidth": 0,
             "ticks": ""
            },
            "colorscale": [
             [
              0,
              "#0d0887"
             ],
             [
              0.1111111111111111,
              "#46039f"
             ],
             [
              0.2222222222222222,
              "#7201a8"
             ],
             [
              0.3333333333333333,
              "#9c179e"
             ],
             [
              0.4444444444444444,
              "#bd3786"
             ],
             [
              0.5555555555555556,
              "#d8576b"
             ],
             [
              0.6666666666666666,
              "#ed7953"
             ],
             [
              0.7777777777777778,
              "#fb9f3a"
             ],
             [
              0.8888888888888888,
              "#fdca26"
             ],
             [
              1,
              "#f0f921"
             ]
            ],
            "type": "contour"
           }
          ],
          "contourcarpet": [
           {
            "colorbar": {
             "outlinewidth": 0,
             "ticks": ""
            },
            "type": "contourcarpet"
           }
          ],
          "heatmap": [
           {
            "colorbar": {
             "outlinewidth": 0,
             "ticks": ""
            },
            "colorscale": [
             [
              0,
              "#0d0887"
             ],
             [
              0.1111111111111111,
              "#46039f"
             ],
             [
              0.2222222222222222,
              "#7201a8"
             ],
             [
              0.3333333333333333,
              "#9c179e"
             ],
             [
              0.4444444444444444,
              "#bd3786"
             ],
             [
              0.5555555555555556,
              "#d8576b"
             ],
             [
              0.6666666666666666,
              "#ed7953"
             ],
             [
              0.7777777777777778,
              "#fb9f3a"
             ],
             [
              0.8888888888888888,
              "#fdca26"
             ],
             [
              1,
              "#f0f921"
             ]
            ],
            "type": "heatmap"
           }
          ],
          "histogram": [
           {
            "marker": {
             "pattern": {
              "fillmode": "overlay",
              "size": 10,
              "solidity": 0.2
             }
            },
            "type": "histogram"
           }
          ],
          "histogram2d": [
           {
            "colorbar": {
             "outlinewidth": 0,
             "ticks": ""
            },
            "colorscale": [
             [
              0,
              "#0d0887"
             ],
             [
              0.1111111111111111,
              "#46039f"
             ],
             [
              0.2222222222222222,
              "#7201a8"
             ],
             [
              0.3333333333333333,
              "#9c179e"
             ],
             [
              0.4444444444444444,
              "#bd3786"
             ],
             [
              0.5555555555555556,
              "#d8576b"
             ],
             [
              0.6666666666666666,
              "#ed7953"
             ],
             [
              0.7777777777777778,
              "#fb9f3a"
             ],
             [
              0.8888888888888888,
              "#fdca26"
             ],
             [
              1,
              "#f0f921"
             ]
            ],
            "type": "histogram2d"
           }
          ],
          "histogram2dcontour": [
           {
            "colorbar": {
             "outlinewidth": 0,
             "ticks": ""
            },
            "colorscale": [
             [
              0,
              "#0d0887"
             ],
             [
              0.1111111111111111,
              "#46039f"
             ],
             [
              0.2222222222222222,
              "#7201a8"
             ],
             [
              0.3333333333333333,
              "#9c179e"
             ],
             [
              0.4444444444444444,
              "#bd3786"
             ],
             [
              0.5555555555555556,
              "#d8576b"
             ],
             [
              0.6666666666666666,
              "#ed7953"
             ],
             [
              0.7777777777777778,
              "#fb9f3a"
             ],
             [
              0.8888888888888888,
              "#fdca26"
             ],
             [
              1,
              "#f0f921"
             ]
            ],
            "type": "histogram2dcontour"
           }
          ],
          "mesh3d": [
           {
            "colorbar": {
             "outlinewidth": 0,
             "ticks": ""
            },
            "type": "mesh3d"
           }
          ],
          "parcoords": [
           {
            "line": {
             "colorbar": {
              "outlinewidth": 0,
              "ticks": ""
             }
            },
            "type": "parcoords"
           }
          ],
          "pie": [
           {
            "automargin": true,
            "type": "pie"
           }
          ],
          "scatter": [
           {
            "fillpattern": {
             "fillmode": "overlay",
             "size": 10,
             "solidity": 0.2
            },
            "type": "scatter"
           }
          ],
          "scatter3d": [
           {
            "line": {
             "colorbar": {
              "outlinewidth": 0,
              "ticks": ""
             }
            },
            "marker": {
             "colorbar": {
              "outlinewidth": 0,
              "ticks": ""
             }
            },
            "type": "scatter3d"
           }
          ],
          "scattercarpet": [
           {
            "marker": {
             "colorbar": {
              "outlinewidth": 0,
              "ticks": ""
             }
            },
            "type": "scattercarpet"
           }
          ],
          "scattergeo": [
           {
            "marker": {
             "colorbar": {
              "outlinewidth": 0,
              "ticks": ""
             }
            },
            "type": "scattergeo"
           }
          ],
          "scattergl": [
           {
            "marker": {
             "colorbar": {
              "outlinewidth": 0,
              "ticks": ""
             }
            },
            "type": "scattergl"
           }
          ],
          "scattermap": [
           {
            "marker": {
             "colorbar": {
              "outlinewidth": 0,
              "ticks": ""
             }
            },
            "type": "scattermap"
           }
          ],
          "scattermapbox": [
           {
            "marker": {
             "colorbar": {
              "outlinewidth": 0,
              "ticks": ""
             }
            },
            "type": "scattermapbox"
           }
          ],
          "scatterpolar": [
           {
            "marker": {
             "colorbar": {
              "outlinewidth": 0,
              "ticks": ""
             }
            },
            "type": "scatterpolar"
           }
          ],
          "scatterpolargl": [
           {
            "marker": {
             "colorbar": {
              "outlinewidth": 0,
              "ticks": ""
             }
            },
            "type": "scatterpolargl"
           }
          ],
          "scatterternary": [
           {
            "marker": {
             "colorbar": {
              "outlinewidth": 0,
              "ticks": ""
             }
            },
            "type": "scatterternary"
           }
          ],
          "surface": [
           {
            "colorbar": {
             "outlinewidth": 0,
             "ticks": ""
            },
            "colorscale": [
             [
              0,
              "#0d0887"
             ],
             [
              0.1111111111111111,
              "#46039f"
             ],
             [
              0.2222222222222222,
              "#7201a8"
             ],
             [
              0.3333333333333333,
              "#9c179e"
             ],
             [
              0.4444444444444444,
              "#bd3786"
             ],
             [
              0.5555555555555556,
              "#d8576b"
             ],
             [
              0.6666666666666666,
              "#ed7953"
             ],
             [
              0.7777777777777778,
              "#fb9f3a"
             ],
             [
              0.8888888888888888,
              "#fdca26"
             ],
             [
              1,
              "#f0f921"
             ]
            ],
            "type": "surface"
           }
          ],
          "table": [
           {
            "cells": {
             "fill": {
              "color": "#EBF0F8"
             },
             "line": {
              "color": "white"
             }
            },
            "header": {
             "fill": {
              "color": "#C8D4E3"
             },
             "line": {
              "color": "white"
             }
            },
            "type": "table"
           }
          ]
         },
         "layout": {
          "annotationdefaults": {
           "arrowcolor": "#2a3f5f",
           "arrowhead": 0,
           "arrowwidth": 1
          },
          "autotypenumbers": "strict",
          "coloraxis": {
           "colorbar": {
            "outlinewidth": 0,
            "ticks": ""
           }
          },
          "colorscale": {
           "diverging": [
            [
             0,
             "#8e0152"
            ],
            [
             0.1,
             "#c51b7d"
            ],
            [
             0.2,
             "#de77ae"
            ],
            [
             0.3,
             "#f1b6da"
            ],
            [
             0.4,
             "#fde0ef"
            ],
            [
             0.5,
             "#f7f7f7"
            ],
            [
             0.6,
             "#e6f5d0"
            ],
            [
             0.7,
             "#b8e186"
            ],
            [
             0.8,
             "#7fbc41"
            ],
            [
             0.9,
             "#4d9221"
            ],
            [
             1,
             "#276419"
            ]
           ],
           "sequential": [
            [
             0,
             "#0d0887"
            ],
            [
             0.1111111111111111,
             "#46039f"
            ],
            [
             0.2222222222222222,
             "#7201a8"
            ],
            [
             0.3333333333333333,
             "#9c179e"
            ],
            [
             0.4444444444444444,
             "#bd3786"
            ],
            [
             0.5555555555555556,
             "#d8576b"
            ],
            [
             0.6666666666666666,
             "#ed7953"
            ],
            [
             0.7777777777777778,
             "#fb9f3a"
            ],
            [
             0.8888888888888888,
             "#fdca26"
            ],
            [
             1,
             "#f0f921"
            ]
           ],
           "sequentialminus": [
            [
             0,
             "#0d0887"
            ],
            [
             0.1111111111111111,
             "#46039f"
            ],
            [
             0.2222222222222222,
             "#7201a8"
            ],
            [
             0.3333333333333333,
             "#9c179e"
            ],
            [
             0.4444444444444444,
             "#bd3786"
            ],
            [
             0.5555555555555556,
             "#d8576b"
            ],
            [
             0.6666666666666666,
             "#ed7953"
            ],
            [
             0.7777777777777778,
             "#fb9f3a"
            ],
            [
             0.8888888888888888,
             "#fdca26"
            ],
            [
             1,
             "#f0f921"
            ]
           ]
          },
          "colorway": [
           "#636efa",
           "#EF553B",
           "#00cc96",
           "#ab63fa",
           "#FFA15A",
           "#19d3f3",
           "#FF6692",
           "#B6E880",
           "#FF97FF",
           "#FECB52"
          ],
          "font": {
           "color": "#2a3f5f"
          },
          "geo": {
           "bgcolor": "white",
           "lakecolor": "white",
           "landcolor": "#E5ECF6",
           "showlakes": true,
           "showland": true,
           "subunitcolor": "white"
          },
          "hoverlabel": {
           "align": "left"
          },
          "hovermode": "closest",
          "mapbox": {
           "style": "light"
          },
          "paper_bgcolor": "white",
          "plot_bgcolor": "#E5ECF6",
          "polar": {
           "angularaxis": {
            "gridcolor": "white",
            "linecolor": "white",
            "ticks": ""
           },
           "bgcolor": "#E5ECF6",
           "radialaxis": {
            "gridcolor": "white",
            "linecolor": "white",
            "ticks": ""
           }
          },
          "scene": {
           "xaxis": {
            "backgroundcolor": "#E5ECF6",
            "gridcolor": "white",
            "gridwidth": 2,
            "linecolor": "white",
            "showbackground": true,
            "ticks": "",
            "zerolinecolor": "white"
           },
           "yaxis": {
            "backgroundcolor": "#E5ECF6",
            "gridcolor": "white",
            "gridwidth": 2,
            "linecolor": "white",
            "showbackground": true,
            "ticks": "",
            "zerolinecolor": "white"
           },
           "zaxis": {
            "backgroundcolor": "#E5ECF6",
            "gridcolor": "white",
            "gridwidth": 2,
            "linecolor": "white",
            "showbackground": true,
            "ticks": "",
            "zerolinecolor": "white"
           }
          },
          "shapedefaults": {
           "line": {
            "color": "#2a3f5f"
           }
          },
          "ternary": {
           "aaxis": {
            "gridcolor": "white",
            "linecolor": "white",
            "ticks": ""
           },
           "baxis": {
            "gridcolor": "white",
            "linecolor": "white",
            "ticks": ""
           },
           "bgcolor": "#E5ECF6",
           "caxis": {
            "gridcolor": "white",
            "linecolor": "white",
            "ticks": ""
           }
          },
          "title": {
           "x": 0.05
          },
          "xaxis": {
           "automargin": true,
           "gridcolor": "white",
           "linecolor": "white",
           "ticks": "",
           "title": {
            "standoff": 15
           },
           "zerolinecolor": "white",
           "zerolinewidth": 2
          },
          "yaxis": {
           "automargin": true,
           "gridcolor": "white",
           "linecolor": "white",
           "ticks": "",
           "title": {
            "standoff": 15
           },
           "zerolinecolor": "white",
           "zerolinewidth": 2
          }
         }
        },
        "title": {
         "text": "Distribution of Ratings and Members"
        },
        "xaxis": {
         "title": {
          "text": "Value"
         }
        },
        "yaxis": {
         "title": {
          "text": "Frequency"
         }
        }
       }
      }
     },
     "metadata": {},
     "output_type": "display_data"
    }
   ],
   "source": [
    "fig.add_trace(go.Histogram(x=df_numerical['members'],\n",
    "                            marker_color='salmon',\n",
    "                            name='Members'))\n",
    "fig.update_layout(title='Distribution of Ratings and Members',\n",
    "                  xaxis_title='Value',\n",
    "                  yaxis_title='Frequency',\n",
    "                  barmode='overlay')\n",
    "fig.update_traces(opacity=0.75)\n",
    "fig.update_layout(showlegend=True)\n",
    "\n",
    "fig.show()"
   ]
  },
  {
   "cell_type": "markdown",
   "metadata": {},
   "source": [
    " **3. Recommendation System**"
   ]
  },
  {
   "cell_type": "code",
   "execution_count": 25,
   "metadata": {},
   "outputs": [],
   "source": [
    "from sklearn.metrics.pairwise import cosine_similarity\n",
    "\n",
    "def recommend_similar_anime(target_anime, threshold=0.5):\n",
    "    # Find the row corresponding to the target anime\n",
    "    target_row = df_numerical[df_numerical['name'] == target_anime].drop(['name', 'type'], axis=1)\n",
    "\n",
    "    # Replace 'Unknown' values in 'episodes' column with NaN\n",
    "    df_numerical['episodes'] = pd.to_numeric(df_numerical['episodes'], errors='coerce')\n",
    "\n",
    "    # Drop rows with NaN values in 'episodes' column\n",
    "    df_numerical.dropna(subset=['episodes'], inplace=True)\n",
    "\n",
    "    # Compute cosine similarity between target anime and all other anime\n",
    "    similarities = cosine_similarity(target_row, df_numerical.drop(['name', 'type'], axis=1))\n",
    "\n",
    "    # Get indices of anime with similarity above threshold\n",
    "    similar_anime_indices = np.where(similarities > threshold)[1]\n",
    "\n",
    "    # Exclude the target anime itself from recommendations\n",
    "    similar_anime_indices = similar_anime_indices[similar_anime_indices != target_row.index[0]]\n",
    "\n",
    "    # Get names of recommended anime\n",
    "    recommended_anime = df_numerical.iloc[similar_anime_indices]['name'].tolist()\n",
    "\n",
    "    return recommended_anime"
   ]
  },
  {
   "cell_type": "code",
   "execution_count": 26,
   "metadata": {},
   "outputs": [],
   "source": [
    "threshold_values = [0.2, 0.5, 0.9]\n",
    "target_anime = 'Nana'\n",
    "\n",
    "for threshold in threshold_values:\n",
    "    recommended_anime = recommend_similar_anime(target_anime, threshold=threshold)\n",
    "\n",
    "# Create a DataFrame to display the recommended anime\n",
    "df_recommendations = pd.DataFrame(recommended_anime, columns=['Recommended Anime'])"
   ]
  },
  {
   "cell_type": "code",
   "execution_count": 27,
   "metadata": {},
   "outputs": [],
   "source": [
    "num_recommendations = len(recommended_anime)\n",
    "value_counts = df_recommendations['Recommended Anime'].value_counts()\n",
    "top_5_recommendations = value_counts.head(5)"
   ]
  },
  {
   "cell_type": "code",
   "execution_count": 28,
   "metadata": {},
   "outputs": [
    {
     "data": {
      "application/vnd.plotly.v1+json": {
       "config": {
        "plotlyServerURL": "https://plot.ly"
       },
       "data": [
        {
         "domain": {
          "x": [
           0,
           1
          ],
          "y": [
           0,
           1
          ]
         },
         "hovertemplate": "Anime=%{label}<br>Count=%{value}<extra></extra>",
         "labels": [
          "Saru Kani Gassen",
          "Shi Wan Ge Leng Xiaohua",
          "Onna Spy Goumon: Teki no Ajito wa Jotai Goumonsho",
          "Original C-V-P Momoko",
          "Original Video Romance Animation"
         ],
         "legendgroup": "",
         "name": "",
         "showlegend": true,
         "textinfo": "percent+label",
         "textposition": "inside",
         "type": "pie",
         "values": {
          "bdata": "AgIBAQE=",
          "dtype": "i1"
         }
        }
       ],
       "layout": {
        "legend": {
         "tracegroupgap": 0
        },
        "template": {
         "data": {
          "bar": [
           {
            "error_x": {
             "color": "#2a3f5f"
            },
            "error_y": {
             "color": "#2a3f5f"
            },
            "marker": {
             "line": {
              "color": "#E5ECF6",
              "width": 0.5
             },
             "pattern": {
              "fillmode": "overlay",
              "size": 10,
              "solidity": 0.2
             }
            },
            "type": "bar"
           }
          ],
          "barpolar": [
           {
            "marker": {
             "line": {
              "color": "#E5ECF6",
              "width": 0.5
             },
             "pattern": {
              "fillmode": "overlay",
              "size": 10,
              "solidity": 0.2
             }
            },
            "type": "barpolar"
           }
          ],
          "carpet": [
           {
            "aaxis": {
             "endlinecolor": "#2a3f5f",
             "gridcolor": "white",
             "linecolor": "white",
             "minorgridcolor": "white",
             "startlinecolor": "#2a3f5f"
            },
            "baxis": {
             "endlinecolor": "#2a3f5f",
             "gridcolor": "white",
             "linecolor": "white",
             "minorgridcolor": "white",
             "startlinecolor": "#2a3f5f"
            },
            "type": "carpet"
           }
          ],
          "choropleth": [
           {
            "colorbar": {
             "outlinewidth": 0,
             "ticks": ""
            },
            "type": "choropleth"
           }
          ],
          "contour": [
           {
            "colorbar": {
             "outlinewidth": 0,
             "ticks": ""
            },
            "colorscale": [
             [
              0,
              "#0d0887"
             ],
             [
              0.1111111111111111,
              "#46039f"
             ],
             [
              0.2222222222222222,
              "#7201a8"
             ],
             [
              0.3333333333333333,
              "#9c179e"
             ],
             [
              0.4444444444444444,
              "#bd3786"
             ],
             [
              0.5555555555555556,
              "#d8576b"
             ],
             [
              0.6666666666666666,
              "#ed7953"
             ],
             [
              0.7777777777777778,
              "#fb9f3a"
             ],
             [
              0.8888888888888888,
              "#fdca26"
             ],
             [
              1,
              "#f0f921"
             ]
            ],
            "type": "contour"
           }
          ],
          "contourcarpet": [
           {
            "colorbar": {
             "outlinewidth": 0,
             "ticks": ""
            },
            "type": "contourcarpet"
           }
          ],
          "heatmap": [
           {
            "colorbar": {
             "outlinewidth": 0,
             "ticks": ""
            },
            "colorscale": [
             [
              0,
              "#0d0887"
             ],
             [
              0.1111111111111111,
              "#46039f"
             ],
             [
              0.2222222222222222,
              "#7201a8"
             ],
             [
              0.3333333333333333,
              "#9c179e"
             ],
             [
              0.4444444444444444,
              "#bd3786"
             ],
             [
              0.5555555555555556,
              "#d8576b"
             ],
             [
              0.6666666666666666,
              "#ed7953"
             ],
             [
              0.7777777777777778,
              "#fb9f3a"
             ],
             [
              0.8888888888888888,
              "#fdca26"
             ],
             [
              1,
              "#f0f921"
             ]
            ],
            "type": "heatmap"
           }
          ],
          "histogram": [
           {
            "marker": {
             "pattern": {
              "fillmode": "overlay",
              "size": 10,
              "solidity": 0.2
             }
            },
            "type": "histogram"
           }
          ],
          "histogram2d": [
           {
            "colorbar": {
             "outlinewidth": 0,
             "ticks": ""
            },
            "colorscale": [
             [
              0,
              "#0d0887"
             ],
             [
              0.1111111111111111,
              "#46039f"
             ],
             [
              0.2222222222222222,
              "#7201a8"
             ],
             [
              0.3333333333333333,
              "#9c179e"
             ],
             [
              0.4444444444444444,
              "#bd3786"
             ],
             [
              0.5555555555555556,
              "#d8576b"
             ],
             [
              0.6666666666666666,
              "#ed7953"
             ],
             [
              0.7777777777777778,
              "#fb9f3a"
             ],
             [
              0.8888888888888888,
              "#fdca26"
             ],
             [
              1,
              "#f0f921"
             ]
            ],
            "type": "histogram2d"
           }
          ],
          "histogram2dcontour": [
           {
            "colorbar": {
             "outlinewidth": 0,
             "ticks": ""
            },
            "colorscale": [
             [
              0,
              "#0d0887"
             ],
             [
              0.1111111111111111,
              "#46039f"
             ],
             [
              0.2222222222222222,
              "#7201a8"
             ],
             [
              0.3333333333333333,
              "#9c179e"
             ],
             [
              0.4444444444444444,
              "#bd3786"
             ],
             [
              0.5555555555555556,
              "#d8576b"
             ],
             [
              0.6666666666666666,
              "#ed7953"
             ],
             [
              0.7777777777777778,
              "#fb9f3a"
             ],
             [
              0.8888888888888888,
              "#fdca26"
             ],
             [
              1,
              "#f0f921"
             ]
            ],
            "type": "histogram2dcontour"
           }
          ],
          "mesh3d": [
           {
            "colorbar": {
             "outlinewidth": 0,
             "ticks": ""
            },
            "type": "mesh3d"
           }
          ],
          "parcoords": [
           {
            "line": {
             "colorbar": {
              "outlinewidth": 0,
              "ticks": ""
             }
            },
            "type": "parcoords"
           }
          ],
          "pie": [
           {
            "automargin": true,
            "type": "pie"
           }
          ],
          "scatter": [
           {
            "fillpattern": {
             "fillmode": "overlay",
             "size": 10,
             "solidity": 0.2
            },
            "type": "scatter"
           }
          ],
          "scatter3d": [
           {
            "line": {
             "colorbar": {
              "outlinewidth": 0,
              "ticks": ""
             }
            },
            "marker": {
             "colorbar": {
              "outlinewidth": 0,
              "ticks": ""
             }
            },
            "type": "scatter3d"
           }
          ],
          "scattercarpet": [
           {
            "marker": {
             "colorbar": {
              "outlinewidth": 0,
              "ticks": ""
             }
            },
            "type": "scattercarpet"
           }
          ],
          "scattergeo": [
           {
            "marker": {
             "colorbar": {
              "outlinewidth": 0,
              "ticks": ""
             }
            },
            "type": "scattergeo"
           }
          ],
          "scattergl": [
           {
            "marker": {
             "colorbar": {
              "outlinewidth": 0,
              "ticks": ""
             }
            },
            "type": "scattergl"
           }
          ],
          "scattermap": [
           {
            "marker": {
             "colorbar": {
              "outlinewidth": 0,
              "ticks": ""
             }
            },
            "type": "scattermap"
           }
          ],
          "scattermapbox": [
           {
            "marker": {
             "colorbar": {
              "outlinewidth": 0,
              "ticks": ""
             }
            },
            "type": "scattermapbox"
           }
          ],
          "scatterpolar": [
           {
            "marker": {
             "colorbar": {
              "outlinewidth": 0,
              "ticks": ""
             }
            },
            "type": "scatterpolar"
           }
          ],
          "scatterpolargl": [
           {
            "marker": {
             "colorbar": {
              "outlinewidth": 0,
              "ticks": ""
             }
            },
            "type": "scatterpolargl"
           }
          ],
          "scatterternary": [
           {
            "marker": {
             "colorbar": {
              "outlinewidth": 0,
              "ticks": ""
             }
            },
            "type": "scatterternary"
           }
          ],
          "surface": [
           {
            "colorbar": {
             "outlinewidth": 0,
             "ticks": ""
            },
            "colorscale": [
             [
              0,
              "#0d0887"
             ],
             [
              0.1111111111111111,
              "#46039f"
             ],
             [
              0.2222222222222222,
              "#7201a8"
             ],
             [
              0.3333333333333333,
              "#9c179e"
             ],
             [
              0.4444444444444444,
              "#bd3786"
             ],
             [
              0.5555555555555556,
              "#d8576b"
             ],
             [
              0.6666666666666666,
              "#ed7953"
             ],
             [
              0.7777777777777778,
              "#fb9f3a"
             ],
             [
              0.8888888888888888,
              "#fdca26"
             ],
             [
              1,
              "#f0f921"
             ]
            ],
            "type": "surface"
           }
          ],
          "table": [
           {
            "cells": {
             "fill": {
              "color": "#EBF0F8"
             },
             "line": {
              "color": "white"
             }
            },
            "header": {
             "fill": {
              "color": "#C8D4E3"
             },
             "line": {
              "color": "white"
             }
            },
            "type": "table"
           }
          ]
         },
         "layout": {
          "annotationdefaults": {
           "arrowcolor": "#2a3f5f",
           "arrowhead": 0,
           "arrowwidth": 1
          },
          "autotypenumbers": "strict",
          "coloraxis": {
           "colorbar": {
            "outlinewidth": 0,
            "ticks": ""
           }
          },
          "colorscale": {
           "diverging": [
            [
             0,
             "#8e0152"
            ],
            [
             0.1,
             "#c51b7d"
            ],
            [
             0.2,
             "#de77ae"
            ],
            [
             0.3,
             "#f1b6da"
            ],
            [
             0.4,
             "#fde0ef"
            ],
            [
             0.5,
             "#f7f7f7"
            ],
            [
             0.6,
             "#e6f5d0"
            ],
            [
             0.7,
             "#b8e186"
            ],
            [
             0.8,
             "#7fbc41"
            ],
            [
             0.9,
             "#4d9221"
            ],
            [
             1,
             "#276419"
            ]
           ],
           "sequential": [
            [
             0,
             "#0d0887"
            ],
            [
             0.1111111111111111,
             "#46039f"
            ],
            [
             0.2222222222222222,
             "#7201a8"
            ],
            [
             0.3333333333333333,
             "#9c179e"
            ],
            [
             0.4444444444444444,
             "#bd3786"
            ],
            [
             0.5555555555555556,
             "#d8576b"
            ],
            [
             0.6666666666666666,
             "#ed7953"
            ],
            [
             0.7777777777777778,
             "#fb9f3a"
            ],
            [
             0.8888888888888888,
             "#fdca26"
            ],
            [
             1,
             "#f0f921"
            ]
           ],
           "sequentialminus": [
            [
             0,
             "#0d0887"
            ],
            [
             0.1111111111111111,
             "#46039f"
            ],
            [
             0.2222222222222222,
             "#7201a8"
            ],
            [
             0.3333333333333333,
             "#9c179e"
            ],
            [
             0.4444444444444444,
             "#bd3786"
            ],
            [
             0.5555555555555556,
             "#d8576b"
            ],
            [
             0.6666666666666666,
             "#ed7953"
            ],
            [
             0.7777777777777778,
             "#fb9f3a"
            ],
            [
             0.8888888888888888,
             "#fdca26"
            ],
            [
             1,
             "#f0f921"
            ]
           ]
          },
          "colorway": [
           "#636efa",
           "#EF553B",
           "#00cc96",
           "#ab63fa",
           "#FFA15A",
           "#19d3f3",
           "#FF6692",
           "#B6E880",
           "#FF97FF",
           "#FECB52"
          ],
          "font": {
           "color": "#2a3f5f"
          },
          "geo": {
           "bgcolor": "white",
           "lakecolor": "white",
           "landcolor": "#E5ECF6",
           "showlakes": true,
           "showland": true,
           "subunitcolor": "white"
          },
          "hoverlabel": {
           "align": "left"
          },
          "hovermode": "closest",
          "mapbox": {
           "style": "light"
          },
          "paper_bgcolor": "white",
          "plot_bgcolor": "#E5ECF6",
          "polar": {
           "angularaxis": {
            "gridcolor": "white",
            "linecolor": "white",
            "ticks": ""
           },
           "bgcolor": "#E5ECF6",
           "radialaxis": {
            "gridcolor": "white",
            "linecolor": "white",
            "ticks": ""
           }
          },
          "scene": {
           "xaxis": {
            "backgroundcolor": "#E5ECF6",
            "gridcolor": "white",
            "gridwidth": 2,
            "linecolor": "white",
            "showbackground": true,
            "ticks": "",
            "zerolinecolor": "white"
           },
           "yaxis": {
            "backgroundcolor": "#E5ECF6",
            "gridcolor": "white",
            "gridwidth": 2,
            "linecolor": "white",
            "showbackground": true,
            "ticks": "",
            "zerolinecolor": "white"
           },
           "zaxis": {
            "backgroundcolor": "#E5ECF6",
            "gridcolor": "white",
            "gridwidth": 2,
            "linecolor": "white",
            "showbackground": true,
            "ticks": "",
            "zerolinecolor": "white"
           }
          },
          "shapedefaults": {
           "line": {
            "color": "#2a3f5f"
           }
          },
          "ternary": {
           "aaxis": {
            "gridcolor": "white",
            "linecolor": "white",
            "ticks": ""
           },
           "baxis": {
            "gridcolor": "white",
            "linecolor": "white",
            "ticks": ""
           },
           "bgcolor": "#E5ECF6",
           "caxis": {
            "gridcolor": "white",
            "linecolor": "white",
            "ticks": ""
           }
          },
          "title": {
           "x": 0.05
          },
          "xaxis": {
           "automargin": true,
           "gridcolor": "white",
           "linecolor": "white",
           "ticks": "",
           "title": {
            "standoff": 15
           },
           "zerolinecolor": "white",
           "zerolinewidth": 2
          },
          "yaxis": {
           "automargin": true,
           "gridcolor": "white",
           "linecolor": "white",
           "ticks": "",
           "title": {
            "standoff": 15
           },
           "zerolinecolor": "white",
           "zerolinewidth": 2
          }
         }
        },
        "title": {
         "text": "Top 5 recommendations for threshold 0.9"
        }
       }
      }
     },
     "metadata": {},
     "output_type": "display_data"
    },
    {
     "name": "stdout",
     "output_type": "stream",
     "text": [
      "\n",
      "Recommendations for threshold 0.9:\n",
      "Recommended anime similar to 'Nana':\n",
      "                                       Recommended Anime\n",
      "0                                         Kimi no Na wa.\n",
      "1                       Fullmetal Alchemist: Brotherhood\n",
      "2                                               Gintama°\n",
      "3                                            Steins;Gate\n",
      "4                                          Gintama&#039;\n",
      "...                                                  ...\n",
      "11790       Toushindai My Lover: Minami tai Mecha-Minami\n",
      "11791                                        Under World\n",
      "11792                     Violence Gekiga David no Hoshi\n",
      "11793  Violence Gekiga Shin David no Hoshi: Inma Dens...\n",
      "11794                   Yasuji no Pornorama: Yacchimae!!\n",
      "\n",
      "[11795 rows x 1 columns]\n",
      "\n",
      "Number of recommendations: 11795\n",
      "\n",
      "Value counts of recommended anime:\n",
      "Recommended Anime\n",
      "Saru Kani Gassen                                     2\n",
      "Shi Wan Ge Leng Xiaohua                              2\n",
      "Onna Spy Goumon: Teki no Ajito wa Jotai Goumonsho    1\n",
      "Original C-V-P Momoko                                1\n",
      "Original Video Romance Animation                     1\n",
      "                                                    ..\n",
      "Manga Edo Erobanashi                                 1\n",
      "Milky Gal: Cats Ai                                   1\n",
      "Misato-chan no Yume Nikki                            1\n",
      "Nijuusou: Wana ni Ochita Onna-tachi                  1\n",
      "Classical Sex-Zone                                   1\n",
      "Name: count, Length: 11793, dtype: int64\n",
      "\n",
      "Top 5 recommendations:\n",
      "Recommended Anime\n",
      "Saru Kani Gassen                                     2\n",
      "Shi Wan Ge Leng Xiaohua                              2\n",
      "Onna Spy Goumon: Teki no Ajito wa Jotai Goumonsho    1\n",
      "Original C-V-P Momoko                                1\n",
      "Original Video Romance Animation                     1\n",
      "Name: count, dtype: int64\n"
     ]
    }
   ],
   "source": [
    "fig = px.pie(names=top_5_recommendations.index, values=top_5_recommendations.values,title=f'Top 5 recommendations for threshold {threshold}',labels={'names': 'Anime', 'values': 'Count'})\n",
    "fig.update_traces(textposition='inside', textinfo='percent+label')\n",
    "fig.show()\n",
    "\n",
    "# Display the information for the current threshold\n",
    "print(f\"\\nRecommendations for threshold {threshold}:\")\n",
    "print(\"Recommended anime similar to '{}':\".format(target_anime))\n",
    "print(df_recommendations)\n",
    "print(\"\\nNumber of recommendations:\", num_recommendations)\n",
    "print(\"\\nValue counts of recommended anime:\")\n",
    "print(value_counts)\n",
    "print(\"\\nTop 5 recommendations:\")\n",
    "print(top_5_recommendations)"
   ]
  },
  {
   "cell_type": "markdown",
   "metadata": {},
   "source": [
    "**4. Evaluation**"
   ]
  },
  {
   "cell_type": "code",
   "execution_count": 29,
   "metadata": {},
   "outputs": [
    {
     "data": {
      "text/html": [
       "<div>\n",
       "<style scoped>\n",
       "    .dataframe tbody tr th:only-of-type {\n",
       "        vertical-align: middle;\n",
       "    }\n",
       "\n",
       "    .dataframe tbody tr th {\n",
       "        vertical-align: top;\n",
       "    }\n",
       "\n",
       "    .dataframe thead th {\n",
       "        text-align: right;\n",
       "    }\n",
       "</style>\n",
       "<table border=\"1\" class=\"dataframe\">\n",
       "  <thead>\n",
       "    <tr style=\"text-align: right;\">\n",
       "      <th></th>\n",
       "      <th>anime_id</th>\n",
       "      <th>name</th>\n",
       "      <th>type</th>\n",
       "      <th>episodes</th>\n",
       "      <th>rating</th>\n",
       "      <th>members</th>\n",
       "      <th>Action</th>\n",
       "      <th>Adventure</th>\n",
       "      <th>Cars</th>\n",
       "      <th>Comedy</th>\n",
       "      <th>Dementia</th>\n",
       "      <th>Demons</th>\n",
       "      <th>Drama</th>\n",
       "      <th>Ecchi</th>\n",
       "      <th>Fantasy</th>\n",
       "      <th>Game</th>\n",
       "      <th>Harem</th>\n",
       "      <th>Hentai</th>\n",
       "      <th>Historical</th>\n",
       "      <th>Horror</th>\n",
       "      <th>Josei</th>\n",
       "      <th>Kids</th>\n",
       "      <th>Magic</th>\n",
       "      <th>Martial Arts</th>\n",
       "      <th>Mecha</th>\n",
       "      <th>Military</th>\n",
       "      <th>Music</th>\n",
       "      <th>Mystery</th>\n",
       "      <th>Parody</th>\n",
       "      <th>Police</th>\n",
       "      <th>Psychological</th>\n",
       "      <th>Romance</th>\n",
       "      <th>Samurai</th>\n",
       "      <th>School</th>\n",
       "      <th>Sci-Fi</th>\n",
       "      <th>Seinen</th>\n",
       "      <th>Shoujo</th>\n",
       "      <th>Shoujo Ai</th>\n",
       "      <th>Shounen</th>\n",
       "      <th>Shounen Ai</th>\n",
       "      <th>Slice of Life</th>\n",
       "      <th>Space</th>\n",
       "      <th>Sports</th>\n",
       "      <th>Super Power</th>\n",
       "      <th>Supernatural</th>\n",
       "      <th>Thriller</th>\n",
       "      <th>Vampire</th>\n",
       "      <th>Yaoi</th>\n",
       "      <th>Yuri</th>\n",
       "    </tr>\n",
       "  </thead>\n",
       "  <tbody>\n",
       "    <tr>\n",
       "      <th>0</th>\n",
       "      <td>32281</td>\n",
       "      <td>Kimi no Na wa.</td>\n",
       "      <td>Movie</td>\n",
       "      <td>1.0</td>\n",
       "      <td>2.824474</td>\n",
       "      <td>3.292044</td>\n",
       "      <td>0</td>\n",
       "      <td>0</td>\n",
       "      <td>0</td>\n",
       "      <td>0</td>\n",
       "      <td>0</td>\n",
       "      <td>0</td>\n",
       "      <td>1</td>\n",
       "      <td>0</td>\n",
       "      <td>0</td>\n",
       "      <td>0</td>\n",
       "      <td>0</td>\n",
       "      <td>0</td>\n",
       "      <td>0</td>\n",
       "      <td>0</td>\n",
       "      <td>0</td>\n",
       "      <td>0</td>\n",
       "      <td>0</td>\n",
       "      <td>0</td>\n",
       "      <td>0</td>\n",
       "      <td>0</td>\n",
       "      <td>0</td>\n",
       "      <td>0</td>\n",
       "      <td>0</td>\n",
       "      <td>0</td>\n",
       "      <td>0</td>\n",
       "      <td>1</td>\n",
       "      <td>0</td>\n",
       "      <td>1</td>\n",
       "      <td>0</td>\n",
       "      <td>0</td>\n",
       "      <td>0</td>\n",
       "      <td>0</td>\n",
       "      <td>0</td>\n",
       "      <td>0</td>\n",
       "      <td>0</td>\n",
       "      <td>0</td>\n",
       "      <td>0</td>\n",
       "      <td>0</td>\n",
       "      <td>1</td>\n",
       "      <td>0</td>\n",
       "      <td>0</td>\n",
       "      <td>0</td>\n",
       "      <td>0</td>\n",
       "    </tr>\n",
       "    <tr>\n",
       "      <th>1</th>\n",
       "      <td>5114</td>\n",
       "      <td>Fullmetal Alchemist: Brotherhood</td>\n",
       "      <td>TV</td>\n",
       "      <td>64.0</td>\n",
       "      <td>2.717032</td>\n",
       "      <td>14.002410</td>\n",
       "      <td>1</td>\n",
       "      <td>1</td>\n",
       "      <td>0</td>\n",
       "      <td>0</td>\n",
       "      <td>0</td>\n",
       "      <td>0</td>\n",
       "      <td>1</td>\n",
       "      <td>0</td>\n",
       "      <td>1</td>\n",
       "      <td>0</td>\n",
       "      <td>0</td>\n",
       "      <td>0</td>\n",
       "      <td>0</td>\n",
       "      <td>0</td>\n",
       "      <td>0</td>\n",
       "      <td>0</td>\n",
       "      <td>1</td>\n",
       "      <td>0</td>\n",
       "      <td>0</td>\n",
       "      <td>1</td>\n",
       "      <td>0</td>\n",
       "      <td>0</td>\n",
       "      <td>0</td>\n",
       "      <td>0</td>\n",
       "      <td>0</td>\n",
       "      <td>0</td>\n",
       "      <td>0</td>\n",
       "      <td>0</td>\n",
       "      <td>0</td>\n",
       "      <td>0</td>\n",
       "      <td>0</td>\n",
       "      <td>0</td>\n",
       "      <td>1</td>\n",
       "      <td>0</td>\n",
       "      <td>0</td>\n",
       "      <td>0</td>\n",
       "      <td>0</td>\n",
       "      <td>0</td>\n",
       "      <td>0</td>\n",
       "      <td>0</td>\n",
       "      <td>0</td>\n",
       "      <td>0</td>\n",
       "      <td>0</td>\n",
       "    </tr>\n",
       "    <tr>\n",
       "      <th>2</th>\n",
       "      <td>28977</td>\n",
       "      <td>Gintama°</td>\n",
       "      <td>TV</td>\n",
       "      <td>51.0</td>\n",
       "      <td>2.707265</td>\n",
       "      <td>1.732216</td>\n",
       "      <td>1</td>\n",
       "      <td>0</td>\n",
       "      <td>0</td>\n",
       "      <td>1</td>\n",
       "      <td>0</td>\n",
       "      <td>0</td>\n",
       "      <td>0</td>\n",
       "      <td>0</td>\n",
       "      <td>0</td>\n",
       "      <td>0</td>\n",
       "      <td>0</td>\n",
       "      <td>0</td>\n",
       "      <td>1</td>\n",
       "      <td>0</td>\n",
       "      <td>0</td>\n",
       "      <td>0</td>\n",
       "      <td>0</td>\n",
       "      <td>0</td>\n",
       "      <td>0</td>\n",
       "      <td>0</td>\n",
       "      <td>0</td>\n",
       "      <td>0</td>\n",
       "      <td>1</td>\n",
       "      <td>0</td>\n",
       "      <td>0</td>\n",
       "      <td>0</td>\n",
       "      <td>1</td>\n",
       "      <td>0</td>\n",
       "      <td>1</td>\n",
       "      <td>0</td>\n",
       "      <td>0</td>\n",
       "      <td>0</td>\n",
       "      <td>1</td>\n",
       "      <td>0</td>\n",
       "      <td>0</td>\n",
       "      <td>0</td>\n",
       "      <td>0</td>\n",
       "      <td>0</td>\n",
       "      <td>0</td>\n",
       "      <td>0</td>\n",
       "      <td>0</td>\n",
       "      <td>0</td>\n",
       "      <td>0</td>\n",
       "    </tr>\n",
       "    <tr>\n",
       "      <th>3</th>\n",
       "      <td>9253</td>\n",
       "      <td>Steins;Gate</td>\n",
       "      <td>TV</td>\n",
       "      <td>24.0</td>\n",
       "      <td>2.629126</td>\n",
       "      <td>11.833499</td>\n",
       "      <td>0</td>\n",
       "      <td>0</td>\n",
       "      <td>0</td>\n",
       "      <td>0</td>\n",
       "      <td>0</td>\n",
       "      <td>0</td>\n",
       "      <td>0</td>\n",
       "      <td>0</td>\n",
       "      <td>0</td>\n",
       "      <td>0</td>\n",
       "      <td>0</td>\n",
       "      <td>0</td>\n",
       "      <td>0</td>\n",
       "      <td>0</td>\n",
       "      <td>0</td>\n",
       "      <td>0</td>\n",
       "      <td>0</td>\n",
       "      <td>0</td>\n",
       "      <td>0</td>\n",
       "      <td>0</td>\n",
       "      <td>0</td>\n",
       "      <td>0</td>\n",
       "      <td>0</td>\n",
       "      <td>0</td>\n",
       "      <td>0</td>\n",
       "      <td>0</td>\n",
       "      <td>0</td>\n",
       "      <td>0</td>\n",
       "      <td>1</td>\n",
       "      <td>0</td>\n",
       "      <td>0</td>\n",
       "      <td>0</td>\n",
       "      <td>0</td>\n",
       "      <td>0</td>\n",
       "      <td>0</td>\n",
       "      <td>0</td>\n",
       "      <td>0</td>\n",
       "      <td>0</td>\n",
       "      <td>0</td>\n",
       "      <td>1</td>\n",
       "      <td>0</td>\n",
       "      <td>0</td>\n",
       "      <td>0</td>\n",
       "    </tr>\n",
       "    <tr>\n",
       "      <th>4</th>\n",
       "      <td>9969</td>\n",
       "      <td>Gintama&amp;#039;</td>\n",
       "      <td>TV</td>\n",
       "      <td>51.0</td>\n",
       "      <td>2.619358</td>\n",
       "      <td>2.400518</td>\n",
       "      <td>1</td>\n",
       "      <td>0</td>\n",
       "      <td>0</td>\n",
       "      <td>1</td>\n",
       "      <td>0</td>\n",
       "      <td>0</td>\n",
       "      <td>0</td>\n",
       "      <td>0</td>\n",
       "      <td>0</td>\n",
       "      <td>0</td>\n",
       "      <td>0</td>\n",
       "      <td>0</td>\n",
       "      <td>1</td>\n",
       "      <td>0</td>\n",
       "      <td>0</td>\n",
       "      <td>0</td>\n",
       "      <td>0</td>\n",
       "      <td>0</td>\n",
       "      <td>0</td>\n",
       "      <td>0</td>\n",
       "      <td>0</td>\n",
       "      <td>0</td>\n",
       "      <td>1</td>\n",
       "      <td>0</td>\n",
       "      <td>0</td>\n",
       "      <td>0</td>\n",
       "      <td>1</td>\n",
       "      <td>0</td>\n",
       "      <td>1</td>\n",
       "      <td>0</td>\n",
       "      <td>0</td>\n",
       "      <td>0</td>\n",
       "      <td>1</td>\n",
       "      <td>0</td>\n",
       "      <td>0</td>\n",
       "      <td>0</td>\n",
       "      <td>0</td>\n",
       "      <td>0</td>\n",
       "      <td>0</td>\n",
       "      <td>0</td>\n",
       "      <td>0</td>\n",
       "      <td>0</td>\n",
       "      <td>0</td>\n",
       "    </tr>\n",
       "  </tbody>\n",
       "</table>\n",
       "</div>"
      ],
      "text/plain": [
       "   anime_id                              name   type  episodes    rating  \\\n",
       "0     32281                    Kimi no Na wa.  Movie       1.0  2.824474   \n",
       "1      5114  Fullmetal Alchemist: Brotherhood     TV      64.0  2.717032   \n",
       "2     28977                          Gintama°     TV      51.0  2.707265   \n",
       "3      9253                       Steins;Gate     TV      24.0  2.629126   \n",
       "4      9969                     Gintama&#039;     TV      51.0  2.619358   \n",
       "\n",
       "     members  Action  Adventure  Cars  Comedy  Dementia  Demons  Drama  Ecchi  \\\n",
       "0   3.292044       0          0     0       0         0       0      1      0   \n",
       "1  14.002410       1          1     0       0         0       0      1      0   \n",
       "2   1.732216       1          0     0       1         0       0      0      0   \n",
       "3  11.833499       0          0     0       0         0       0      0      0   \n",
       "4   2.400518       1          0     0       1         0       0      0      0   \n",
       "\n",
       "   Fantasy  Game  Harem  Hentai  Historical  Horror  Josei  Kids  Magic  \\\n",
       "0        0     0      0       0           0       0      0     0      0   \n",
       "1        1     0      0       0           0       0      0     0      1   \n",
       "2        0     0      0       0           1       0      0     0      0   \n",
       "3        0     0      0       0           0       0      0     0      0   \n",
       "4        0     0      0       0           1       0      0     0      0   \n",
       "\n",
       "   Martial Arts  Mecha  Military  Music  Mystery  Parody  Police  \\\n",
       "0             0      0         0      0        0       0       0   \n",
       "1             0      0         1      0        0       0       0   \n",
       "2             0      0         0      0        0       1       0   \n",
       "3             0      0         0      0        0       0       0   \n",
       "4             0      0         0      0        0       1       0   \n",
       "\n",
       "   Psychological  Romance  Samurai  School  Sci-Fi  Seinen  Shoujo  Shoujo Ai  \\\n",
       "0              0        1        0       1       0       0       0          0   \n",
       "1              0        0        0       0       0       0       0          0   \n",
       "2              0        0        1       0       1       0       0          0   \n",
       "3              0        0        0       0       1       0       0          0   \n",
       "4              0        0        1       0       1       0       0          0   \n",
       "\n",
       "   Shounen  Shounen Ai  Slice of Life  Space  Sports  Super Power  \\\n",
       "0        0           0              0      0       0            0   \n",
       "1        1           0              0      0       0            0   \n",
       "2        1           0              0      0       0            0   \n",
       "3        0           0              0      0       0            0   \n",
       "4        1           0              0      0       0            0   \n",
       "\n",
       "   Supernatural  Thriller  Vampire  Yaoi  Yuri  \n",
       "0             1         0        0     0     0  \n",
       "1             0         0        0     0     0  \n",
       "2             0         0        0     0     0  \n",
       "3             0         1        0     0     0  \n",
       "4             0         0        0     0     0  "
      ]
     },
     "execution_count": 29,
     "metadata": {},
     "output_type": "execute_result"
    }
   ],
   "source": [
    "pd.set_option('display.max_columns', None)\n",
    "df_numerical.head()"
   ]
  },
  {
   "cell_type": "code",
   "execution_count": 30,
   "metadata": {},
   "outputs": [
    {
     "data": {
      "text/html": [
       "<div>\n",
       "<style scoped>\n",
       "    .dataframe tbody tr th:only-of-type {\n",
       "        vertical-align: middle;\n",
       "    }\n",
       "\n",
       "    .dataframe tbody tr th {\n",
       "        vertical-align: top;\n",
       "    }\n",
       "\n",
       "    .dataframe thead th {\n",
       "        text-align: right;\n",
       "    }\n",
       "</style>\n",
       "<table border=\"1\" class=\"dataframe\">\n",
       "  <thead>\n",
       "    <tr style=\"text-align: right;\">\n",
       "      <th></th>\n",
       "      <th>anime_id</th>\n",
       "      <th>episodes</th>\n",
       "      <th>rating</th>\n",
       "      <th>members</th>\n",
       "      <th>Action</th>\n",
       "      <th>Adventure</th>\n",
       "      <th>Cars</th>\n",
       "      <th>Comedy</th>\n",
       "      <th>Dementia</th>\n",
       "      <th>Demons</th>\n",
       "      <th>Drama</th>\n",
       "      <th>Ecchi</th>\n",
       "      <th>Fantasy</th>\n",
       "      <th>Game</th>\n",
       "      <th>Harem</th>\n",
       "      <th>Hentai</th>\n",
       "      <th>Historical</th>\n",
       "      <th>Horror</th>\n",
       "      <th>Josei</th>\n",
       "      <th>Kids</th>\n",
       "      <th>Magic</th>\n",
       "      <th>Martial Arts</th>\n",
       "      <th>Mecha</th>\n",
       "      <th>Military</th>\n",
       "      <th>Music</th>\n",
       "      <th>Mystery</th>\n",
       "      <th>Parody</th>\n",
       "      <th>Police</th>\n",
       "      <th>Psychological</th>\n",
       "      <th>Romance</th>\n",
       "      <th>Samurai</th>\n",
       "      <th>School</th>\n",
       "      <th>Sci-Fi</th>\n",
       "      <th>Seinen</th>\n",
       "      <th>Shoujo</th>\n",
       "      <th>Shoujo Ai</th>\n",
       "      <th>Shounen</th>\n",
       "      <th>Shounen Ai</th>\n",
       "      <th>Slice of Life</th>\n",
       "      <th>Space</th>\n",
       "      <th>Sports</th>\n",
       "      <th>Super Power</th>\n",
       "      <th>Supernatural</th>\n",
       "      <th>Thriller</th>\n",
       "      <th>Vampire</th>\n",
       "      <th>Yaoi</th>\n",
       "      <th>Yuri</th>\n",
       "    </tr>\n",
       "  </thead>\n",
       "  <tbody>\n",
       "    <tr>\n",
       "      <th>count</th>\n",
       "      <td>11830.000000</td>\n",
       "      <td>11830.000000</td>\n",
       "      <td>11830.000000</td>\n",
       "      <td>11830.000000</td>\n",
       "      <td>11830.000000</td>\n",
       "      <td>11830.000000</td>\n",
       "      <td>11830.000000</td>\n",
       "      <td>11830.000000</td>\n",
       "      <td>11830.000000</td>\n",
       "      <td>11830.000000</td>\n",
       "      <td>11830.000000</td>\n",
       "      <td>11830.000000</td>\n",
       "      <td>11830.000000</td>\n",
       "      <td>11830.000000</td>\n",
       "      <td>11830.000000</td>\n",
       "      <td>11830.000000</td>\n",
       "      <td>11830.000000</td>\n",
       "      <td>11830.000000</td>\n",
       "      <td>11830.000000</td>\n",
       "      <td>11830.000000</td>\n",
       "      <td>11830.000000</td>\n",
       "      <td>11830.000000</td>\n",
       "      <td>11830.000000</td>\n",
       "      <td>11830.000000</td>\n",
       "      <td>11830.000000</td>\n",
       "      <td>11830.000000</td>\n",
       "      <td>11830.000000</td>\n",
       "      <td>11830.000000</td>\n",
       "      <td>11830.000000</td>\n",
       "      <td>11830.000000</td>\n",
       "      <td>11830.000000</td>\n",
       "      <td>11830.000000</td>\n",
       "      <td>11830.000000</td>\n",
       "      <td>11830.000000</td>\n",
       "      <td>11830.000000</td>\n",
       "      <td>11830.000000</td>\n",
       "      <td>11830.000000</td>\n",
       "      <td>11830.000000</td>\n",
       "      <td>11830.000000</td>\n",
       "      <td>11830.000000</td>\n",
       "      <td>11830.000000</td>\n",
       "      <td>11830.000000</td>\n",
       "      <td>11830.000000</td>\n",
       "      <td>11830.000000</td>\n",
       "      <td>11830.000000</td>\n",
       "      <td>11830.000000</td>\n",
       "      <td>11830.000000</td>\n",
       "    </tr>\n",
       "    <tr>\n",
       "      <th>mean</th>\n",
       "      <td>13404.150211</td>\n",
       "      <td>12.486729</td>\n",
       "      <td>0.006197</td>\n",
       "      <td>0.002928</td>\n",
       "      <td>0.232291</td>\n",
       "      <td>0.193829</td>\n",
       "      <td>0.006002</td>\n",
       "      <td>0.378952</td>\n",
       "      <td>0.020118</td>\n",
       "      <td>0.024260</td>\n",
       "      <td>0.166695</td>\n",
       "      <td>0.053001</td>\n",
       "      <td>0.187574</td>\n",
       "      <td>0.014370</td>\n",
       "      <td>0.026374</td>\n",
       "      <td>0.092899</td>\n",
       "      <td>0.066526</td>\n",
       "      <td>0.030431</td>\n",
       "      <td>0.004396</td>\n",
       "      <td>0.131023</td>\n",
       "      <td>0.062722</td>\n",
       "      <td>0.021809</td>\n",
       "      <td>0.078360</td>\n",
       "      <td>0.035080</td>\n",
       "      <td>0.070330</td>\n",
       "      <td>0.040744</td>\n",
       "      <td>0.033559</td>\n",
       "      <td>0.016399</td>\n",
       "      <td>0.019104</td>\n",
       "      <td>0.121386</td>\n",
       "      <td>0.012257</td>\n",
       "      <td>0.098394</td>\n",
       "      <td>0.171429</td>\n",
       "      <td>0.044801</td>\n",
       "      <td>0.049620</td>\n",
       "      <td>0.004565</td>\n",
       "      <td>0.140997</td>\n",
       "      <td>0.005241</td>\n",
       "      <td>0.099746</td>\n",
       "      <td>0.031784</td>\n",
       "      <td>0.044548</td>\n",
       "      <td>0.037616</td>\n",
       "      <td>0.083939</td>\n",
       "      <td>0.007270</td>\n",
       "      <td>0.008453</td>\n",
       "      <td>0.003128</td>\n",
       "      <td>0.003466</td>\n",
       "    </tr>\n",
       "    <tr>\n",
       "      <th>std</th>\n",
       "      <td>11110.087616</td>\n",
       "      <td>47.097131</td>\n",
       "      <td>0.995442</td>\n",
       "      <td>1.000023</td>\n",
       "      <td>0.422311</td>\n",
       "      <td>0.395313</td>\n",
       "      <td>0.077241</td>\n",
       "      <td>0.485147</td>\n",
       "      <td>0.140411</td>\n",
       "      <td>0.153863</td>\n",
       "      <td>0.372719</td>\n",
       "      <td>0.224045</td>\n",
       "      <td>0.390388</td>\n",
       "      <td>0.119017</td>\n",
       "      <td>0.160251</td>\n",
       "      <td>0.290304</td>\n",
       "      <td>0.249209</td>\n",
       "      <td>0.171778</td>\n",
       "      <td>0.066156</td>\n",
       "      <td>0.337440</td>\n",
       "      <td>0.242472</td>\n",
       "      <td>0.146066</td>\n",
       "      <td>0.268749</td>\n",
       "      <td>0.183991</td>\n",
       "      <td>0.255713</td>\n",
       "      <td>0.197705</td>\n",
       "      <td>0.180098</td>\n",
       "      <td>0.127010</td>\n",
       "      <td>0.136896</td>\n",
       "      <td>0.326589</td>\n",
       "      <td>0.110035</td>\n",
       "      <td>0.297859</td>\n",
       "      <td>0.376899</td>\n",
       "      <td>0.206876</td>\n",
       "      <td>0.217167</td>\n",
       "      <td>0.067411</td>\n",
       "      <td>0.348034</td>\n",
       "      <td>0.072207</td>\n",
       "      <td>0.299674</td>\n",
       "      <td>0.175431</td>\n",
       "      <td>0.206317</td>\n",
       "      <td>0.190274</td>\n",
       "      <td>0.277308</td>\n",
       "      <td>0.084955</td>\n",
       "      <td>0.091555</td>\n",
       "      <td>0.055840</td>\n",
       "      <td>0.058771</td>\n",
       "    </tr>\n",
       "    <tr>\n",
       "      <th>min</th>\n",
       "      <td>1.000000</td>\n",
       "      <td>1.000000</td>\n",
       "      <td>-4.696423</td>\n",
       "      <td>-0.331169</td>\n",
       "      <td>0.000000</td>\n",
       "      <td>0.000000</td>\n",
       "      <td>0.000000</td>\n",
       "      <td>0.000000</td>\n",
       "      <td>0.000000</td>\n",
       "      <td>0.000000</td>\n",
       "      <td>0.000000</td>\n",
       "      <td>0.000000</td>\n",
       "      <td>0.000000</td>\n",
       "      <td>0.000000</td>\n",
       "      <td>0.000000</td>\n",
       "      <td>0.000000</td>\n",
       "      <td>0.000000</td>\n",
       "      <td>0.000000</td>\n",
       "      <td>0.000000</td>\n",
       "      <td>0.000000</td>\n",
       "      <td>0.000000</td>\n",
       "      <td>0.000000</td>\n",
       "      <td>0.000000</td>\n",
       "      <td>0.000000</td>\n",
       "      <td>0.000000</td>\n",
       "      <td>0.000000</td>\n",
       "      <td>0.000000</td>\n",
       "      <td>0.000000</td>\n",
       "      <td>0.000000</td>\n",
       "      <td>0.000000</td>\n",
       "      <td>0.000000</td>\n",
       "      <td>0.000000</td>\n",
       "      <td>0.000000</td>\n",
       "      <td>0.000000</td>\n",
       "      <td>0.000000</td>\n",
       "      <td>0.000000</td>\n",
       "      <td>0.000000</td>\n",
       "      <td>0.000000</td>\n",
       "      <td>0.000000</td>\n",
       "      <td>0.000000</td>\n",
       "      <td>0.000000</td>\n",
       "      <td>0.000000</td>\n",
       "      <td>0.000000</td>\n",
       "      <td>0.000000</td>\n",
       "      <td>0.000000</td>\n",
       "      <td>0.000000</td>\n",
       "      <td>0.000000</td>\n",
       "    </tr>\n",
       "    <tr>\n",
       "      <th>25%</th>\n",
       "      <td>3326.250000</td>\n",
       "      <td>1.000000</td>\n",
       "      <td>-0.572139</td>\n",
       "      <td>-0.327191</td>\n",
       "      <td>0.000000</td>\n",
       "      <td>0.000000</td>\n",
       "      <td>0.000000</td>\n",
       "      <td>0.000000</td>\n",
       "      <td>0.000000</td>\n",
       "      <td>0.000000</td>\n",
       "      <td>0.000000</td>\n",
       "      <td>0.000000</td>\n",
       "      <td>0.000000</td>\n",
       "      <td>0.000000</td>\n",
       "      <td>0.000000</td>\n",
       "      <td>0.000000</td>\n",
       "      <td>0.000000</td>\n",
       "      <td>0.000000</td>\n",
       "      <td>0.000000</td>\n",
       "      <td>0.000000</td>\n",
       "      <td>0.000000</td>\n",
       "      <td>0.000000</td>\n",
       "      <td>0.000000</td>\n",
       "      <td>0.000000</td>\n",
       "      <td>0.000000</td>\n",
       "      <td>0.000000</td>\n",
       "      <td>0.000000</td>\n",
       "      <td>0.000000</td>\n",
       "      <td>0.000000</td>\n",
       "      <td>0.000000</td>\n",
       "      <td>0.000000</td>\n",
       "      <td>0.000000</td>\n",
       "      <td>0.000000</td>\n",
       "      <td>0.000000</td>\n",
       "      <td>0.000000</td>\n",
       "      <td>0.000000</td>\n",
       "      <td>0.000000</td>\n",
       "      <td>0.000000</td>\n",
       "      <td>0.000000</td>\n",
       "      <td>0.000000</td>\n",
       "      <td>0.000000</td>\n",
       "      <td>0.000000</td>\n",
       "      <td>0.000000</td>\n",
       "      <td>0.000000</td>\n",
       "      <td>0.000000</td>\n",
       "      <td>0.000000</td>\n",
       "      <td>0.000000</td>\n",
       "    </tr>\n",
       "    <tr>\n",
       "      <th>50%</th>\n",
       "      <td>9820.500000</td>\n",
       "      <td>2.000000</td>\n",
       "      <td>0.089602</td>\n",
       "      <td>-0.302679</td>\n",
       "      <td>0.000000</td>\n",
       "      <td>0.000000</td>\n",
       "      <td>0.000000</td>\n",
       "      <td>0.000000</td>\n",
       "      <td>0.000000</td>\n",
       "      <td>0.000000</td>\n",
       "      <td>0.000000</td>\n",
       "      <td>0.000000</td>\n",
       "      <td>0.000000</td>\n",
       "      <td>0.000000</td>\n",
       "      <td>0.000000</td>\n",
       "      <td>0.000000</td>\n",
       "      <td>0.000000</td>\n",
       "      <td>0.000000</td>\n",
       "      <td>0.000000</td>\n",
       "      <td>0.000000</td>\n",
       "      <td>0.000000</td>\n",
       "      <td>0.000000</td>\n",
       "      <td>0.000000</td>\n",
       "      <td>0.000000</td>\n",
       "      <td>0.000000</td>\n",
       "      <td>0.000000</td>\n",
       "      <td>0.000000</td>\n",
       "      <td>0.000000</td>\n",
       "      <td>0.000000</td>\n",
       "      <td>0.000000</td>\n",
       "      <td>0.000000</td>\n",
       "      <td>0.000000</td>\n",
       "      <td>0.000000</td>\n",
       "      <td>0.000000</td>\n",
       "      <td>0.000000</td>\n",
       "      <td>0.000000</td>\n",
       "      <td>0.000000</td>\n",
       "      <td>0.000000</td>\n",
       "      <td>0.000000</td>\n",
       "      <td>0.000000</td>\n",
       "      <td>0.000000</td>\n",
       "      <td>0.000000</td>\n",
       "      <td>0.000000</td>\n",
       "      <td>0.000000</td>\n",
       "      <td>0.000000</td>\n",
       "      <td>0.000000</td>\n",
       "      <td>0.000000</td>\n",
       "    </tr>\n",
       "    <tr>\n",
       "      <th>75%</th>\n",
       "      <td>23302.500000</td>\n",
       "      <td>12.000000</td>\n",
       "      <td>0.695181</td>\n",
       "      <td>-0.153817</td>\n",
       "      <td>0.000000</td>\n",
       "      <td>0.000000</td>\n",
       "      <td>0.000000</td>\n",
       "      <td>1.000000</td>\n",
       "      <td>0.000000</td>\n",
       "      <td>0.000000</td>\n",
       "      <td>0.000000</td>\n",
       "      <td>0.000000</td>\n",
       "      <td>0.000000</td>\n",
       "      <td>0.000000</td>\n",
       "      <td>0.000000</td>\n",
       "      <td>0.000000</td>\n",
       "      <td>0.000000</td>\n",
       "      <td>0.000000</td>\n",
       "      <td>0.000000</td>\n",
       "      <td>0.000000</td>\n",
       "      <td>0.000000</td>\n",
       "      <td>0.000000</td>\n",
       "      <td>0.000000</td>\n",
       "      <td>0.000000</td>\n",
       "      <td>0.000000</td>\n",
       "      <td>0.000000</td>\n",
       "      <td>0.000000</td>\n",
       "      <td>0.000000</td>\n",
       "      <td>0.000000</td>\n",
       "      <td>0.000000</td>\n",
       "      <td>0.000000</td>\n",
       "      <td>0.000000</td>\n",
       "      <td>0.000000</td>\n",
       "      <td>0.000000</td>\n",
       "      <td>0.000000</td>\n",
       "      <td>0.000000</td>\n",
       "      <td>0.000000</td>\n",
       "      <td>0.000000</td>\n",
       "      <td>0.000000</td>\n",
       "      <td>0.000000</td>\n",
       "      <td>0.000000</td>\n",
       "      <td>0.000000</td>\n",
       "      <td>0.000000</td>\n",
       "      <td>0.000000</td>\n",
       "      <td>0.000000</td>\n",
       "      <td>0.000000</td>\n",
       "      <td>0.000000</td>\n",
       "    </tr>\n",
       "    <tr>\n",
       "      <th>max</th>\n",
       "      <td>34519.000000</td>\n",
       "      <td>1818.000000</td>\n",
       "      <td>3.439820</td>\n",
       "      <td>17.980218</td>\n",
       "      <td>1.000000</td>\n",
       "      <td>1.000000</td>\n",
       "      <td>1.000000</td>\n",
       "      <td>1.000000</td>\n",
       "      <td>1.000000</td>\n",
       "      <td>1.000000</td>\n",
       "      <td>1.000000</td>\n",
       "      <td>1.000000</td>\n",
       "      <td>1.000000</td>\n",
       "      <td>1.000000</td>\n",
       "      <td>1.000000</td>\n",
       "      <td>1.000000</td>\n",
       "      <td>1.000000</td>\n",
       "      <td>1.000000</td>\n",
       "      <td>1.000000</td>\n",
       "      <td>1.000000</td>\n",
       "      <td>1.000000</td>\n",
       "      <td>1.000000</td>\n",
       "      <td>1.000000</td>\n",
       "      <td>1.000000</td>\n",
       "      <td>1.000000</td>\n",
       "      <td>1.000000</td>\n",
       "      <td>1.000000</td>\n",
       "      <td>1.000000</td>\n",
       "      <td>1.000000</td>\n",
       "      <td>1.000000</td>\n",
       "      <td>1.000000</td>\n",
       "      <td>1.000000</td>\n",
       "      <td>1.000000</td>\n",
       "      <td>1.000000</td>\n",
       "      <td>1.000000</td>\n",
       "      <td>1.000000</td>\n",
       "      <td>1.000000</td>\n",
       "      <td>1.000000</td>\n",
       "      <td>1.000000</td>\n",
       "      <td>1.000000</td>\n",
       "      <td>1.000000</td>\n",
       "      <td>1.000000</td>\n",
       "      <td>1.000000</td>\n",
       "      <td>1.000000</td>\n",
       "      <td>1.000000</td>\n",
       "      <td>1.000000</td>\n",
       "      <td>1.000000</td>\n",
       "    </tr>\n",
       "  </tbody>\n",
       "</table>\n",
       "</div>"
      ],
      "text/plain": [
       "           anime_id      episodes        rating       members        Action  \\\n",
       "count  11830.000000  11830.000000  11830.000000  11830.000000  11830.000000   \n",
       "mean   13404.150211     12.486729      0.006197      0.002928      0.232291   \n",
       "std    11110.087616     47.097131      0.995442      1.000023      0.422311   \n",
       "min        1.000000      1.000000     -4.696423     -0.331169      0.000000   \n",
       "25%     3326.250000      1.000000     -0.572139     -0.327191      0.000000   \n",
       "50%     9820.500000      2.000000      0.089602     -0.302679      0.000000   \n",
       "75%    23302.500000     12.000000      0.695181     -0.153817      0.000000   \n",
       "max    34519.000000   1818.000000      3.439820     17.980218      1.000000   \n",
       "\n",
       "          Adventure          Cars        Comedy      Dementia        Demons  \\\n",
       "count  11830.000000  11830.000000  11830.000000  11830.000000  11830.000000   \n",
       "mean       0.193829      0.006002      0.378952      0.020118      0.024260   \n",
       "std        0.395313      0.077241      0.485147      0.140411      0.153863   \n",
       "min        0.000000      0.000000      0.000000      0.000000      0.000000   \n",
       "25%        0.000000      0.000000      0.000000      0.000000      0.000000   \n",
       "50%        0.000000      0.000000      0.000000      0.000000      0.000000   \n",
       "75%        0.000000      0.000000      1.000000      0.000000      0.000000   \n",
       "max        1.000000      1.000000      1.000000      1.000000      1.000000   \n",
       "\n",
       "              Drama         Ecchi       Fantasy          Game         Harem  \\\n",
       "count  11830.000000  11830.000000  11830.000000  11830.000000  11830.000000   \n",
       "mean       0.166695      0.053001      0.187574      0.014370      0.026374   \n",
       "std        0.372719      0.224045      0.390388      0.119017      0.160251   \n",
       "min        0.000000      0.000000      0.000000      0.000000      0.000000   \n",
       "25%        0.000000      0.000000      0.000000      0.000000      0.000000   \n",
       "50%        0.000000      0.000000      0.000000      0.000000      0.000000   \n",
       "75%        0.000000      0.000000      0.000000      0.000000      0.000000   \n",
       "max        1.000000      1.000000      1.000000      1.000000      1.000000   \n",
       "\n",
       "             Hentai    Historical        Horror         Josei          Kids  \\\n",
       "count  11830.000000  11830.000000  11830.000000  11830.000000  11830.000000   \n",
       "mean       0.092899      0.066526      0.030431      0.004396      0.131023   \n",
       "std        0.290304      0.249209      0.171778      0.066156      0.337440   \n",
       "min        0.000000      0.000000      0.000000      0.000000      0.000000   \n",
       "25%        0.000000      0.000000      0.000000      0.000000      0.000000   \n",
       "50%        0.000000      0.000000      0.000000      0.000000      0.000000   \n",
       "75%        0.000000      0.000000      0.000000      0.000000      0.000000   \n",
       "max        1.000000      1.000000      1.000000      1.000000      1.000000   \n",
       "\n",
       "              Magic  Martial Arts         Mecha      Military         Music  \\\n",
       "count  11830.000000  11830.000000  11830.000000  11830.000000  11830.000000   \n",
       "mean       0.062722      0.021809      0.078360      0.035080      0.070330   \n",
       "std        0.242472      0.146066      0.268749      0.183991      0.255713   \n",
       "min        0.000000      0.000000      0.000000      0.000000      0.000000   \n",
       "25%        0.000000      0.000000      0.000000      0.000000      0.000000   \n",
       "50%        0.000000      0.000000      0.000000      0.000000      0.000000   \n",
       "75%        0.000000      0.000000      0.000000      0.000000      0.000000   \n",
       "max        1.000000      1.000000      1.000000      1.000000      1.000000   \n",
       "\n",
       "            Mystery        Parody        Police  Psychological       Romance  \\\n",
       "count  11830.000000  11830.000000  11830.000000   11830.000000  11830.000000   \n",
       "mean       0.040744      0.033559      0.016399       0.019104      0.121386   \n",
       "std        0.197705      0.180098      0.127010       0.136896      0.326589   \n",
       "min        0.000000      0.000000      0.000000       0.000000      0.000000   \n",
       "25%        0.000000      0.000000      0.000000       0.000000      0.000000   \n",
       "50%        0.000000      0.000000      0.000000       0.000000      0.000000   \n",
       "75%        0.000000      0.000000      0.000000       0.000000      0.000000   \n",
       "max        1.000000      1.000000      1.000000       1.000000      1.000000   \n",
       "\n",
       "            Samurai        School        Sci-Fi        Seinen        Shoujo  \\\n",
       "count  11830.000000  11830.000000  11830.000000  11830.000000  11830.000000   \n",
       "mean       0.012257      0.098394      0.171429      0.044801      0.049620   \n",
       "std        0.110035      0.297859      0.376899      0.206876      0.217167   \n",
       "min        0.000000      0.000000      0.000000      0.000000      0.000000   \n",
       "25%        0.000000      0.000000      0.000000      0.000000      0.000000   \n",
       "50%        0.000000      0.000000      0.000000      0.000000      0.000000   \n",
       "75%        0.000000      0.000000      0.000000      0.000000      0.000000   \n",
       "max        1.000000      1.000000      1.000000      1.000000      1.000000   \n",
       "\n",
       "          Shoujo Ai       Shounen    Shounen Ai  Slice of Life         Space  \\\n",
       "count  11830.000000  11830.000000  11830.000000   11830.000000  11830.000000   \n",
       "mean       0.004565      0.140997      0.005241       0.099746      0.031784   \n",
       "std        0.067411      0.348034      0.072207       0.299674      0.175431   \n",
       "min        0.000000      0.000000      0.000000       0.000000      0.000000   \n",
       "25%        0.000000      0.000000      0.000000       0.000000      0.000000   \n",
       "50%        0.000000      0.000000      0.000000       0.000000      0.000000   \n",
       "75%        0.000000      0.000000      0.000000       0.000000      0.000000   \n",
       "max        1.000000      1.000000      1.000000       1.000000      1.000000   \n",
       "\n",
       "             Sports   Super Power  Supernatural      Thriller       Vampire  \\\n",
       "count  11830.000000  11830.000000  11830.000000  11830.000000  11830.000000   \n",
       "mean       0.044548      0.037616      0.083939      0.007270      0.008453   \n",
       "std        0.206317      0.190274      0.277308      0.084955      0.091555   \n",
       "min        0.000000      0.000000      0.000000      0.000000      0.000000   \n",
       "25%        0.000000      0.000000      0.000000      0.000000      0.000000   \n",
       "50%        0.000000      0.000000      0.000000      0.000000      0.000000   \n",
       "75%        0.000000      0.000000      0.000000      0.000000      0.000000   \n",
       "max        1.000000      1.000000      1.000000      1.000000      1.000000   \n",
       "\n",
       "               Yaoi          Yuri  \n",
       "count  11830.000000  11830.000000  \n",
       "mean       0.003128      0.003466  \n",
       "std        0.055840      0.058771  \n",
       "min        0.000000      0.000000  \n",
       "25%        0.000000      0.000000  \n",
       "50%        0.000000      0.000000  \n",
       "75%        0.000000      0.000000  \n",
       "max        1.000000      1.000000  "
      ]
     },
     "execution_count": 30,
     "metadata": {},
     "output_type": "execute_result"
    }
   ],
   "source": [
    "df_numerical.describe()"
   ]
  },
  {
   "cell_type": "code",
   "execution_count": 31,
   "metadata": {},
   "outputs": [],
   "source": [
    "mean_episodes = 12.486729\n",
    "mean_rating = 0.006197\n",
    "mean_members = 0.002928\n",
    "\n",
    "std_dev_episodes = np.std(df_numerical['episodes'])\n",
    "std_dev_rating = np.std(df_numerical['rating'])\n",
    "std_dev_members = np.std(df_numerical['members'])"
   ]
  },
  {
   "cell_type": "code",
   "execution_count": 32,
   "metadata": {},
   "outputs": [
    {
     "name": "stdout",
     "output_type": "stream",
     "text": [
      "Threshold values:\n",
      "Episodes threshold: 59.58186967572351\n",
      "Rating threshold: 1.001596873109577\n",
      "Members threshold: 1.0029082457034968\n"
     ]
    }
   ],
   "source": [
    "episodes_threshold = mean_episodes + std_dev_episodes\n",
    "rating_threshold = mean_rating + std_dev_rating\n",
    "members_threshold = mean_members + std_dev_members\n",
    "\n",
    "print(\"Threshold values:\")\n",
    "print(\"Episodes threshold:\", episodes_threshold)\n",
    "print(\"Rating threshold:\", rating_threshold)\n",
    "print(\"Members threshold:\", members_threshold)"
   ]
  },
  {
   "cell_type": "code",
   "execution_count": 33,
   "metadata": {},
   "outputs": [],
   "source": [
    "rating_threshold = 1.001596873109577\n",
    "episodes_threshold = 59.58186967572351\n",
    "members_threshold = 1.0029082457034968"
   ]
  },
  {
   "cell_type": "code",
   "execution_count": 34,
   "metadata": {},
   "outputs": [],
   "source": [
    "df_numerical['liked'] = ((df_numerical['rating'] >= rating_threshold) |\n",
    "                         (df_numerical['episodes'] >= episodes_threshold) |\n",
    "                         (df_numerical['members'] >= members_threshold)).astype(int)"
   ]
  },
  {
   "cell_type": "code",
   "execution_count": 35,
   "metadata": {},
   "outputs": [
    {
     "data": {
      "text/html": [
       "<div>\n",
       "<style scoped>\n",
       "    .dataframe tbody tr th:only-of-type {\n",
       "        vertical-align: middle;\n",
       "    }\n",
       "\n",
       "    .dataframe tbody tr th {\n",
       "        vertical-align: top;\n",
       "    }\n",
       "\n",
       "    .dataframe thead th {\n",
       "        text-align: right;\n",
       "    }\n",
       "</style>\n",
       "<table border=\"1\" class=\"dataframe\">\n",
       "  <thead>\n",
       "    <tr style=\"text-align: right;\">\n",
       "      <th></th>\n",
       "      <th>anime_id</th>\n",
       "      <th>name</th>\n",
       "      <th>type</th>\n",
       "      <th>episodes</th>\n",
       "      <th>rating</th>\n",
       "      <th>members</th>\n",
       "      <th>Action</th>\n",
       "      <th>Adventure</th>\n",
       "      <th>Cars</th>\n",
       "      <th>Comedy</th>\n",
       "      <th>Dementia</th>\n",
       "      <th>Demons</th>\n",
       "      <th>Drama</th>\n",
       "      <th>Ecchi</th>\n",
       "      <th>Fantasy</th>\n",
       "      <th>Game</th>\n",
       "      <th>Harem</th>\n",
       "      <th>Hentai</th>\n",
       "      <th>Historical</th>\n",
       "      <th>Horror</th>\n",
       "      <th>Josei</th>\n",
       "      <th>Kids</th>\n",
       "      <th>Magic</th>\n",
       "      <th>Martial Arts</th>\n",
       "      <th>Mecha</th>\n",
       "      <th>Military</th>\n",
       "      <th>Music</th>\n",
       "      <th>Mystery</th>\n",
       "      <th>Parody</th>\n",
       "      <th>Police</th>\n",
       "      <th>Psychological</th>\n",
       "      <th>Romance</th>\n",
       "      <th>Samurai</th>\n",
       "      <th>School</th>\n",
       "      <th>Sci-Fi</th>\n",
       "      <th>Seinen</th>\n",
       "      <th>Shoujo</th>\n",
       "      <th>Shoujo Ai</th>\n",
       "      <th>Shounen</th>\n",
       "      <th>Shounen Ai</th>\n",
       "      <th>Slice of Life</th>\n",
       "      <th>Space</th>\n",
       "      <th>Sports</th>\n",
       "      <th>Super Power</th>\n",
       "      <th>Supernatural</th>\n",
       "      <th>Thriller</th>\n",
       "      <th>Vampire</th>\n",
       "      <th>Yaoi</th>\n",
       "      <th>Yuri</th>\n",
       "      <th>liked</th>\n",
       "    </tr>\n",
       "  </thead>\n",
       "  <tbody>\n",
       "    <tr>\n",
       "      <th>0</th>\n",
       "      <td>32281</td>\n",
       "      <td>Kimi no Na wa.</td>\n",
       "      <td>Movie</td>\n",
       "      <td>1.0</td>\n",
       "      <td>2.824474</td>\n",
       "      <td>3.292044</td>\n",
       "      <td>0</td>\n",
       "      <td>0</td>\n",
       "      <td>0</td>\n",
       "      <td>0</td>\n",
       "      <td>0</td>\n",
       "      <td>0</td>\n",
       "      <td>1</td>\n",
       "      <td>0</td>\n",
       "      <td>0</td>\n",
       "      <td>0</td>\n",
       "      <td>0</td>\n",
       "      <td>0</td>\n",
       "      <td>0</td>\n",
       "      <td>0</td>\n",
       "      <td>0</td>\n",
       "      <td>0</td>\n",
       "      <td>0</td>\n",
       "      <td>0</td>\n",
       "      <td>0</td>\n",
       "      <td>0</td>\n",
       "      <td>0</td>\n",
       "      <td>0</td>\n",
       "      <td>0</td>\n",
       "      <td>0</td>\n",
       "      <td>0</td>\n",
       "      <td>1</td>\n",
       "      <td>0</td>\n",
       "      <td>1</td>\n",
       "      <td>0</td>\n",
       "      <td>0</td>\n",
       "      <td>0</td>\n",
       "      <td>0</td>\n",
       "      <td>0</td>\n",
       "      <td>0</td>\n",
       "      <td>0</td>\n",
       "      <td>0</td>\n",
       "      <td>0</td>\n",
       "      <td>0</td>\n",
       "      <td>1</td>\n",
       "      <td>0</td>\n",
       "      <td>0</td>\n",
       "      <td>0</td>\n",
       "      <td>0</td>\n",
       "      <td>1</td>\n",
       "    </tr>\n",
       "    <tr>\n",
       "      <th>1</th>\n",
       "      <td>5114</td>\n",
       "      <td>Fullmetal Alchemist: Brotherhood</td>\n",
       "      <td>TV</td>\n",
       "      <td>64.0</td>\n",
       "      <td>2.717032</td>\n",
       "      <td>14.002410</td>\n",
       "      <td>1</td>\n",
       "      <td>1</td>\n",
       "      <td>0</td>\n",
       "      <td>0</td>\n",
       "      <td>0</td>\n",
       "      <td>0</td>\n",
       "      <td>1</td>\n",
       "      <td>0</td>\n",
       "      <td>1</td>\n",
       "      <td>0</td>\n",
       "      <td>0</td>\n",
       "      <td>0</td>\n",
       "      <td>0</td>\n",
       "      <td>0</td>\n",
       "      <td>0</td>\n",
       "      <td>0</td>\n",
       "      <td>1</td>\n",
       "      <td>0</td>\n",
       "      <td>0</td>\n",
       "      <td>1</td>\n",
       "      <td>0</td>\n",
       "      <td>0</td>\n",
       "      <td>0</td>\n",
       "      <td>0</td>\n",
       "      <td>0</td>\n",
       "      <td>0</td>\n",
       "      <td>0</td>\n",
       "      <td>0</td>\n",
       "      <td>0</td>\n",
       "      <td>0</td>\n",
       "      <td>0</td>\n",
       "      <td>0</td>\n",
       "      <td>1</td>\n",
       "      <td>0</td>\n",
       "      <td>0</td>\n",
       "      <td>0</td>\n",
       "      <td>0</td>\n",
       "      <td>0</td>\n",
       "      <td>0</td>\n",
       "      <td>0</td>\n",
       "      <td>0</td>\n",
       "      <td>0</td>\n",
       "      <td>0</td>\n",
       "      <td>1</td>\n",
       "    </tr>\n",
       "    <tr>\n",
       "      <th>2</th>\n",
       "      <td>28977</td>\n",
       "      <td>Gintama°</td>\n",
       "      <td>TV</td>\n",
       "      <td>51.0</td>\n",
       "      <td>2.707265</td>\n",
       "      <td>1.732216</td>\n",
       "      <td>1</td>\n",
       "      <td>0</td>\n",
       "      <td>0</td>\n",
       "      <td>1</td>\n",
       "      <td>0</td>\n",
       "      <td>0</td>\n",
       "      <td>0</td>\n",
       "      <td>0</td>\n",
       "      <td>0</td>\n",
       "      <td>0</td>\n",
       "      <td>0</td>\n",
       "      <td>0</td>\n",
       "      <td>1</td>\n",
       "      <td>0</td>\n",
       "      <td>0</td>\n",
       "      <td>0</td>\n",
       "      <td>0</td>\n",
       "      <td>0</td>\n",
       "      <td>0</td>\n",
       "      <td>0</td>\n",
       "      <td>0</td>\n",
       "      <td>0</td>\n",
       "      <td>1</td>\n",
       "      <td>0</td>\n",
       "      <td>0</td>\n",
       "      <td>0</td>\n",
       "      <td>1</td>\n",
       "      <td>0</td>\n",
       "      <td>1</td>\n",
       "      <td>0</td>\n",
       "      <td>0</td>\n",
       "      <td>0</td>\n",
       "      <td>1</td>\n",
       "      <td>0</td>\n",
       "      <td>0</td>\n",
       "      <td>0</td>\n",
       "      <td>0</td>\n",
       "      <td>0</td>\n",
       "      <td>0</td>\n",
       "      <td>0</td>\n",
       "      <td>0</td>\n",
       "      <td>0</td>\n",
       "      <td>0</td>\n",
       "      <td>1</td>\n",
       "    </tr>\n",
       "    <tr>\n",
       "      <th>3</th>\n",
       "      <td>9253</td>\n",
       "      <td>Steins;Gate</td>\n",
       "      <td>TV</td>\n",
       "      <td>24.0</td>\n",
       "      <td>2.629126</td>\n",
       "      <td>11.833499</td>\n",
       "      <td>0</td>\n",
       "      <td>0</td>\n",
       "      <td>0</td>\n",
       "      <td>0</td>\n",
       "      <td>0</td>\n",
       "      <td>0</td>\n",
       "      <td>0</td>\n",
       "      <td>0</td>\n",
       "      <td>0</td>\n",
       "      <td>0</td>\n",
       "      <td>0</td>\n",
       "      <td>0</td>\n",
       "      <td>0</td>\n",
       "      <td>0</td>\n",
       "      <td>0</td>\n",
       "      <td>0</td>\n",
       "      <td>0</td>\n",
       "      <td>0</td>\n",
       "      <td>0</td>\n",
       "      <td>0</td>\n",
       "      <td>0</td>\n",
       "      <td>0</td>\n",
       "      <td>0</td>\n",
       "      <td>0</td>\n",
       "      <td>0</td>\n",
       "      <td>0</td>\n",
       "      <td>0</td>\n",
       "      <td>0</td>\n",
       "      <td>1</td>\n",
       "      <td>0</td>\n",
       "      <td>0</td>\n",
       "      <td>0</td>\n",
       "      <td>0</td>\n",
       "      <td>0</td>\n",
       "      <td>0</td>\n",
       "      <td>0</td>\n",
       "      <td>0</td>\n",
       "      <td>0</td>\n",
       "      <td>0</td>\n",
       "      <td>1</td>\n",
       "      <td>0</td>\n",
       "      <td>0</td>\n",
       "      <td>0</td>\n",
       "      <td>1</td>\n",
       "    </tr>\n",
       "    <tr>\n",
       "      <th>4</th>\n",
       "      <td>9969</td>\n",
       "      <td>Gintama&amp;#039;</td>\n",
       "      <td>TV</td>\n",
       "      <td>51.0</td>\n",
       "      <td>2.619358</td>\n",
       "      <td>2.400518</td>\n",
       "      <td>1</td>\n",
       "      <td>0</td>\n",
       "      <td>0</td>\n",
       "      <td>1</td>\n",
       "      <td>0</td>\n",
       "      <td>0</td>\n",
       "      <td>0</td>\n",
       "      <td>0</td>\n",
       "      <td>0</td>\n",
       "      <td>0</td>\n",
       "      <td>0</td>\n",
       "      <td>0</td>\n",
       "      <td>1</td>\n",
       "      <td>0</td>\n",
       "      <td>0</td>\n",
       "      <td>0</td>\n",
       "      <td>0</td>\n",
       "      <td>0</td>\n",
       "      <td>0</td>\n",
       "      <td>0</td>\n",
       "      <td>0</td>\n",
       "      <td>0</td>\n",
       "      <td>1</td>\n",
       "      <td>0</td>\n",
       "      <td>0</td>\n",
       "      <td>0</td>\n",
       "      <td>1</td>\n",
       "      <td>0</td>\n",
       "      <td>1</td>\n",
       "      <td>0</td>\n",
       "      <td>0</td>\n",
       "      <td>0</td>\n",
       "      <td>1</td>\n",
       "      <td>0</td>\n",
       "      <td>0</td>\n",
       "      <td>0</td>\n",
       "      <td>0</td>\n",
       "      <td>0</td>\n",
       "      <td>0</td>\n",
       "      <td>0</td>\n",
       "      <td>0</td>\n",
       "      <td>0</td>\n",
       "      <td>0</td>\n",
       "      <td>1</td>\n",
       "    </tr>\n",
       "  </tbody>\n",
       "</table>\n",
       "</div>"
      ],
      "text/plain": [
       "   anime_id                              name   type  episodes    rating  \\\n",
       "0     32281                    Kimi no Na wa.  Movie       1.0  2.824474   \n",
       "1      5114  Fullmetal Alchemist: Brotherhood     TV      64.0  2.717032   \n",
       "2     28977                          Gintama°     TV      51.0  2.707265   \n",
       "3      9253                       Steins;Gate     TV      24.0  2.629126   \n",
       "4      9969                     Gintama&#039;     TV      51.0  2.619358   \n",
       "\n",
       "     members  Action  Adventure  Cars  Comedy  Dementia  Demons  Drama  Ecchi  \\\n",
       "0   3.292044       0          0     0       0         0       0      1      0   \n",
       "1  14.002410       1          1     0       0         0       0      1      0   \n",
       "2   1.732216       1          0     0       1         0       0      0      0   \n",
       "3  11.833499       0          0     0       0         0       0      0      0   \n",
       "4   2.400518       1          0     0       1         0       0      0      0   \n",
       "\n",
       "   Fantasy  Game  Harem  Hentai  Historical  Horror  Josei  Kids  Magic  \\\n",
       "0        0     0      0       0           0       0      0     0      0   \n",
       "1        1     0      0       0           0       0      0     0      1   \n",
       "2        0     0      0       0           1       0      0     0      0   \n",
       "3        0     0      0       0           0       0      0     0      0   \n",
       "4        0     0      0       0           1       0      0     0      0   \n",
       "\n",
       "   Martial Arts  Mecha  Military  Music  Mystery  Parody  Police  \\\n",
       "0             0      0         0      0        0       0       0   \n",
       "1             0      0         1      0        0       0       0   \n",
       "2             0      0         0      0        0       1       0   \n",
       "3             0      0         0      0        0       0       0   \n",
       "4             0      0         0      0        0       1       0   \n",
       "\n",
       "   Psychological  Romance  Samurai  School  Sci-Fi  Seinen  Shoujo  Shoujo Ai  \\\n",
       "0              0        1        0       1       0       0       0          0   \n",
       "1              0        0        0       0       0       0       0          0   \n",
       "2              0        0        1       0       1       0       0          0   \n",
       "3              0        0        0       0       1       0       0          0   \n",
       "4              0        0        1       0       1       0       0          0   \n",
       "\n",
       "   Shounen  Shounen Ai  Slice of Life  Space  Sports  Super Power  \\\n",
       "0        0           0              0      0       0            0   \n",
       "1        1           0              0      0       0            0   \n",
       "2        1           0              0      0       0            0   \n",
       "3        0           0              0      0       0            0   \n",
       "4        1           0              0      0       0            0   \n",
       "\n",
       "   Supernatural  Thriller  Vampire  Yaoi  Yuri  liked  \n",
       "0             1         0        0     0     0      1  \n",
       "1             0         0        0     0     0      1  \n",
       "2             0         0        0     0     0      1  \n",
       "3             0         1        0     0     0      1  \n",
       "4             0         0        0     0     0      1  "
      ]
     },
     "execution_count": 35,
     "metadata": {},
     "output_type": "execute_result"
    }
   ],
   "source": [
    "df_numerical.head()"
   ]
  },
  {
   "cell_type": "code",
   "execution_count": 36,
   "metadata": {},
   "outputs": [
    {
     "name": "stdout",
     "output_type": "stream",
     "text": [
      "liked\n",
      "0    9684\n",
      "1    2146\n",
      "Name: count, dtype: int64\n"
     ]
    }
   ],
   "source": [
    "print(df_numerical['liked'].value_counts())"
   ]
  },
  {
   "cell_type": "code",
   "execution_count": 37,
   "metadata": {},
   "outputs": [],
   "source": [
    "liked_counts = df_numerical['liked'].value_counts()"
   ]
  },
  {
   "cell_type": "code",
   "execution_count": 38,
   "metadata": {},
   "outputs": [
    {
     "data": {
      "application/vnd.plotly.v1+json": {
       "config": {
        "plotlyServerURL": "https://plot.ly"
       },
       "data": [
        {
         "hovertemplate": "Liked=%{x}<br>Count=%{y}<extra></extra>",
         "legendgroup": "",
         "marker": {
          "color": "#636efa",
          "pattern": {
           "shape": ""
          }
         },
         "name": "",
         "orientation": "v",
         "showlegend": false,
         "textposition": "auto",
         "type": "bar",
         "x": {
          "bdata": "AAE=",
          "dtype": "i1"
         },
         "xaxis": "x",
         "y": {
          "bdata": "1CViCA==",
          "dtype": "i2"
         },
         "yaxis": "y"
        }
       ],
       "layout": {
        "barmode": "relative",
        "legend": {
         "tracegroupgap": 0
        },
        "template": {
         "data": {
          "bar": [
           {
            "error_x": {
             "color": "#2a3f5f"
            },
            "error_y": {
             "color": "#2a3f5f"
            },
            "marker": {
             "line": {
              "color": "#E5ECF6",
              "width": 0.5
             },
             "pattern": {
              "fillmode": "overlay",
              "size": 10,
              "solidity": 0.2
             }
            },
            "type": "bar"
           }
          ],
          "barpolar": [
           {
            "marker": {
             "line": {
              "color": "#E5ECF6",
              "width": 0.5
             },
             "pattern": {
              "fillmode": "overlay",
              "size": 10,
              "solidity": 0.2
             }
            },
            "type": "barpolar"
           }
          ],
          "carpet": [
           {
            "aaxis": {
             "endlinecolor": "#2a3f5f",
             "gridcolor": "white",
             "linecolor": "white",
             "minorgridcolor": "white",
             "startlinecolor": "#2a3f5f"
            },
            "baxis": {
             "endlinecolor": "#2a3f5f",
             "gridcolor": "white",
             "linecolor": "white",
             "minorgridcolor": "white",
             "startlinecolor": "#2a3f5f"
            },
            "type": "carpet"
           }
          ],
          "choropleth": [
           {
            "colorbar": {
             "outlinewidth": 0,
             "ticks": ""
            },
            "type": "choropleth"
           }
          ],
          "contour": [
           {
            "colorbar": {
             "outlinewidth": 0,
             "ticks": ""
            },
            "colorscale": [
             [
              0,
              "#0d0887"
             ],
             [
              0.1111111111111111,
              "#46039f"
             ],
             [
              0.2222222222222222,
              "#7201a8"
             ],
             [
              0.3333333333333333,
              "#9c179e"
             ],
             [
              0.4444444444444444,
              "#bd3786"
             ],
             [
              0.5555555555555556,
              "#d8576b"
             ],
             [
              0.6666666666666666,
              "#ed7953"
             ],
             [
              0.7777777777777778,
              "#fb9f3a"
             ],
             [
              0.8888888888888888,
              "#fdca26"
             ],
             [
              1,
              "#f0f921"
             ]
            ],
            "type": "contour"
           }
          ],
          "contourcarpet": [
           {
            "colorbar": {
             "outlinewidth": 0,
             "ticks": ""
            },
            "type": "contourcarpet"
           }
          ],
          "heatmap": [
           {
            "colorbar": {
             "outlinewidth": 0,
             "ticks": ""
            },
            "colorscale": [
             [
              0,
              "#0d0887"
             ],
             [
              0.1111111111111111,
              "#46039f"
             ],
             [
              0.2222222222222222,
              "#7201a8"
             ],
             [
              0.3333333333333333,
              "#9c179e"
             ],
             [
              0.4444444444444444,
              "#bd3786"
             ],
             [
              0.5555555555555556,
              "#d8576b"
             ],
             [
              0.6666666666666666,
              "#ed7953"
             ],
             [
              0.7777777777777778,
              "#fb9f3a"
             ],
             [
              0.8888888888888888,
              "#fdca26"
             ],
             [
              1,
              "#f0f921"
             ]
            ],
            "type": "heatmap"
           }
          ],
          "histogram": [
           {
            "marker": {
             "pattern": {
              "fillmode": "overlay",
              "size": 10,
              "solidity": 0.2
             }
            },
            "type": "histogram"
           }
          ],
          "histogram2d": [
           {
            "colorbar": {
             "outlinewidth": 0,
             "ticks": ""
            },
            "colorscale": [
             [
              0,
              "#0d0887"
             ],
             [
              0.1111111111111111,
              "#46039f"
             ],
             [
              0.2222222222222222,
              "#7201a8"
             ],
             [
              0.3333333333333333,
              "#9c179e"
             ],
             [
              0.4444444444444444,
              "#bd3786"
             ],
             [
              0.5555555555555556,
              "#d8576b"
             ],
             [
              0.6666666666666666,
              "#ed7953"
             ],
             [
              0.7777777777777778,
              "#fb9f3a"
             ],
             [
              0.8888888888888888,
              "#fdca26"
             ],
             [
              1,
              "#f0f921"
             ]
            ],
            "type": "histogram2d"
           }
          ],
          "histogram2dcontour": [
           {
            "colorbar": {
             "outlinewidth": 0,
             "ticks": ""
            },
            "colorscale": [
             [
              0,
              "#0d0887"
             ],
             [
              0.1111111111111111,
              "#46039f"
             ],
             [
              0.2222222222222222,
              "#7201a8"
             ],
             [
              0.3333333333333333,
              "#9c179e"
             ],
             [
              0.4444444444444444,
              "#bd3786"
             ],
             [
              0.5555555555555556,
              "#d8576b"
             ],
             [
              0.6666666666666666,
              "#ed7953"
             ],
             [
              0.7777777777777778,
              "#fb9f3a"
             ],
             [
              0.8888888888888888,
              "#fdca26"
             ],
             [
              1,
              "#f0f921"
             ]
            ],
            "type": "histogram2dcontour"
           }
          ],
          "mesh3d": [
           {
            "colorbar": {
             "outlinewidth": 0,
             "ticks": ""
            },
            "type": "mesh3d"
           }
          ],
          "parcoords": [
           {
            "line": {
             "colorbar": {
              "outlinewidth": 0,
              "ticks": ""
             }
            },
            "type": "parcoords"
           }
          ],
          "pie": [
           {
            "automargin": true,
            "type": "pie"
           }
          ],
          "scatter": [
           {
            "fillpattern": {
             "fillmode": "overlay",
             "size": 10,
             "solidity": 0.2
            },
            "type": "scatter"
           }
          ],
          "scatter3d": [
           {
            "line": {
             "colorbar": {
              "outlinewidth": 0,
              "ticks": ""
             }
            },
            "marker": {
             "colorbar": {
              "outlinewidth": 0,
              "ticks": ""
             }
            },
            "type": "scatter3d"
           }
          ],
          "scattercarpet": [
           {
            "marker": {
             "colorbar": {
              "outlinewidth": 0,
              "ticks": ""
             }
            },
            "type": "scattercarpet"
           }
          ],
          "scattergeo": [
           {
            "marker": {
             "colorbar": {
              "outlinewidth": 0,
              "ticks": ""
             }
            },
            "type": "scattergeo"
           }
          ],
          "scattergl": [
           {
            "marker": {
             "colorbar": {
              "outlinewidth": 0,
              "ticks": ""
             }
            },
            "type": "scattergl"
           }
          ],
          "scattermap": [
           {
            "marker": {
             "colorbar": {
              "outlinewidth": 0,
              "ticks": ""
             }
            },
            "type": "scattermap"
           }
          ],
          "scattermapbox": [
           {
            "marker": {
             "colorbar": {
              "outlinewidth": 0,
              "ticks": ""
             }
            },
            "type": "scattermapbox"
           }
          ],
          "scatterpolar": [
           {
            "marker": {
             "colorbar": {
              "outlinewidth": 0,
              "ticks": ""
             }
            },
            "type": "scatterpolar"
           }
          ],
          "scatterpolargl": [
           {
            "marker": {
             "colorbar": {
              "outlinewidth": 0,
              "ticks": ""
             }
            },
            "type": "scatterpolargl"
           }
          ],
          "scatterternary": [
           {
            "marker": {
             "colorbar": {
              "outlinewidth": 0,
              "ticks": ""
             }
            },
            "type": "scatterternary"
           }
          ],
          "surface": [
           {
            "colorbar": {
             "outlinewidth": 0,
             "ticks": ""
            },
            "colorscale": [
             [
              0,
              "#0d0887"
             ],
             [
              0.1111111111111111,
              "#46039f"
             ],
             [
              0.2222222222222222,
              "#7201a8"
             ],
             [
              0.3333333333333333,
              "#9c179e"
             ],
             [
              0.4444444444444444,
              "#bd3786"
             ],
             [
              0.5555555555555556,
              "#d8576b"
             ],
             [
              0.6666666666666666,
              "#ed7953"
             ],
             [
              0.7777777777777778,
              "#fb9f3a"
             ],
             [
              0.8888888888888888,
              "#fdca26"
             ],
             [
              1,
              "#f0f921"
             ]
            ],
            "type": "surface"
           }
          ],
          "table": [
           {
            "cells": {
             "fill": {
              "color": "#EBF0F8"
             },
             "line": {
              "color": "white"
             }
            },
            "header": {
             "fill": {
              "color": "#C8D4E3"
             },
             "line": {
              "color": "white"
             }
            },
            "type": "table"
           }
          ]
         },
         "layout": {
          "annotationdefaults": {
           "arrowcolor": "#2a3f5f",
           "arrowhead": 0,
           "arrowwidth": 1
          },
          "autotypenumbers": "strict",
          "coloraxis": {
           "colorbar": {
            "outlinewidth": 0,
            "ticks": ""
           }
          },
          "colorscale": {
           "diverging": [
            [
             0,
             "#8e0152"
            ],
            [
             0.1,
             "#c51b7d"
            ],
            [
             0.2,
             "#de77ae"
            ],
            [
             0.3,
             "#f1b6da"
            ],
            [
             0.4,
             "#fde0ef"
            ],
            [
             0.5,
             "#f7f7f7"
            ],
            [
             0.6,
             "#e6f5d0"
            ],
            [
             0.7,
             "#b8e186"
            ],
            [
             0.8,
             "#7fbc41"
            ],
            [
             0.9,
             "#4d9221"
            ],
            [
             1,
             "#276419"
            ]
           ],
           "sequential": [
            [
             0,
             "#0d0887"
            ],
            [
             0.1111111111111111,
             "#46039f"
            ],
            [
             0.2222222222222222,
             "#7201a8"
            ],
            [
             0.3333333333333333,
             "#9c179e"
            ],
            [
             0.4444444444444444,
             "#bd3786"
            ],
            [
             0.5555555555555556,
             "#d8576b"
            ],
            [
             0.6666666666666666,
             "#ed7953"
            ],
            [
             0.7777777777777778,
             "#fb9f3a"
            ],
            [
             0.8888888888888888,
             "#fdca26"
            ],
            [
             1,
             "#f0f921"
            ]
           ],
           "sequentialminus": [
            [
             0,
             "#0d0887"
            ],
            [
             0.1111111111111111,
             "#46039f"
            ],
            [
             0.2222222222222222,
             "#7201a8"
            ],
            [
             0.3333333333333333,
             "#9c179e"
            ],
            [
             0.4444444444444444,
             "#bd3786"
            ],
            [
             0.5555555555555556,
             "#d8576b"
            ],
            [
             0.6666666666666666,
             "#ed7953"
            ],
            [
             0.7777777777777778,
             "#fb9f3a"
            ],
            [
             0.8888888888888888,
             "#fdca26"
            ],
            [
             1,
             "#f0f921"
            ]
           ]
          },
          "colorway": [
           "#636efa",
           "#EF553B",
           "#00cc96",
           "#ab63fa",
           "#FFA15A",
           "#19d3f3",
           "#FF6692",
           "#B6E880",
           "#FF97FF",
           "#FECB52"
          ],
          "font": {
           "color": "#2a3f5f"
          },
          "geo": {
           "bgcolor": "white",
           "lakecolor": "white",
           "landcolor": "#E5ECF6",
           "showlakes": true,
           "showland": true,
           "subunitcolor": "white"
          },
          "hoverlabel": {
           "align": "left"
          },
          "hovermode": "closest",
          "mapbox": {
           "style": "light"
          },
          "paper_bgcolor": "white",
          "plot_bgcolor": "#E5ECF6",
          "polar": {
           "angularaxis": {
            "gridcolor": "white",
            "linecolor": "white",
            "ticks": ""
           },
           "bgcolor": "#E5ECF6",
           "radialaxis": {
            "gridcolor": "white",
            "linecolor": "white",
            "ticks": ""
           }
          },
          "scene": {
           "xaxis": {
            "backgroundcolor": "#E5ECF6",
            "gridcolor": "white",
            "gridwidth": 2,
            "linecolor": "white",
            "showbackground": true,
            "ticks": "",
            "zerolinecolor": "white"
           },
           "yaxis": {
            "backgroundcolor": "#E5ECF6",
            "gridcolor": "white",
            "gridwidth": 2,
            "linecolor": "white",
            "showbackground": true,
            "ticks": "",
            "zerolinecolor": "white"
           },
           "zaxis": {
            "backgroundcolor": "#E5ECF6",
            "gridcolor": "white",
            "gridwidth": 2,
            "linecolor": "white",
            "showbackground": true,
            "ticks": "",
            "zerolinecolor": "white"
           }
          },
          "shapedefaults": {
           "line": {
            "color": "#2a3f5f"
           }
          },
          "ternary": {
           "aaxis": {
            "gridcolor": "white",
            "linecolor": "white",
            "ticks": ""
           },
           "baxis": {
            "gridcolor": "white",
            "linecolor": "white",
            "ticks": ""
           },
           "bgcolor": "#E5ECF6",
           "caxis": {
            "gridcolor": "white",
            "linecolor": "white",
            "ticks": ""
           }
          },
          "title": {
           "x": 0.05
          },
          "xaxis": {
           "automargin": true,
           "gridcolor": "white",
           "linecolor": "white",
           "ticks": "",
           "title": {
            "standoff": 15
           },
           "zerolinecolor": "white",
           "zerolinewidth": 2
          },
          "yaxis": {
           "automargin": true,
           "gridcolor": "white",
           "linecolor": "white",
           "ticks": "",
           "title": {
            "standoff": 15
           },
           "zerolinecolor": "white",
           "zerolinewidth": 2
          }
         }
        },
        "title": {
         "text": "Distribution of Liked/Not Liked Animes"
        },
        "xaxis": {
         "anchor": "y",
         "categoryorder": "total descending",
         "domain": [
          0,
          1
         ],
         "title": {
          "text": "Liked"
         }
        },
        "yaxis": {
         "anchor": "x",
         "domain": [
          0,
          1
         ],
         "title": {
          "text": "Count"
         }
        }
       }
      }
     },
     "metadata": {},
     "output_type": "display_data"
    }
   ],
   "source": [
    "fig = px.bar(x=liked_counts.index, y=liked_counts.values,\n",
    "             labels={'x': 'Liked', 'y': 'Count'},\n",
    "             title='Distribution of Liked/Not Liked Animes')\n",
    "fig.update_layout(xaxis={'categoryorder':'total descending'},\n",
    "                  xaxis_title='Liked', yaxis_title='Count')\n",
    "fig.show()"
   ]
  },
  {
   "cell_type": "code",
   "execution_count": 39,
   "metadata": {},
   "outputs": [],
   "source": [
    "from sklearn.model_selection import train_test_split\n",
    "X = df_numerical.drop(['name', 'type','anime_id'], axis=1)  # Features\n",
    "y = df_numerical['liked']  # Target variable"
   ]
  },
  {
   "cell_type": "code",
   "execution_count": 40,
   "metadata": {},
   "outputs": [],
   "source": [
    "X_train, X_test, y_train, y_test = train_test_split(X, y, test_size=0.2, random_state=42)"
   ]
  },
  {
   "cell_type": "code",
   "execution_count": 41,
   "metadata": {},
   "outputs": [
    {
     "name": "stdout",
     "output_type": "stream",
     "text": [
      "Shape of X_train: (9464, 47)\n",
      "Shape of X_test: (2366, 47)\n",
      "Shape of y_train: (9464,)\n",
      "Shape of y_test: (2366,)\n"
     ]
    }
   ],
   "source": [
    "print(\"Shape of X_train:\", X_train.shape)\n",
    "print(\"Shape of X_test:\", X_test.shape)\n",
    "print(\"Shape of y_train:\", y_train.shape)\n",
    "print(\"Shape of y_test:\", y_test.shape)"
   ]
  },
  {
   "cell_type": "code",
   "execution_count": 42,
   "metadata": {},
   "outputs": [],
   "source": [
    "from sklearn.linear_model import LogisticRegression\n",
    "from sklearn.preprocessing import StandardScaler\n",
    "from sklearn.metrics import precision_score, recall_score, f1_score    "
   ]
  },
  {
   "cell_type": "code",
   "execution_count": 43,
   "metadata": {},
   "outputs": [],
   "source": [
    "scaler = StandardScaler()\n",
    "X_train_scaled = scaler.fit_transform(X_train)\n",
    "X_test_scaled = scaler.transform(X_test)"
   ]
  },
  {
   "cell_type": "code",
   "execution_count": 45,
   "metadata": {},
   "outputs": [],
   "source": [
    "model = LogisticRegression()\n",
    "model.fit(X_train_scaled, y_train)\n",
    "\n",
    "y_pred = model.predict(X_test_scaled)"
   ]
  },
  {
   "cell_type": "code",
   "execution_count": 46,
   "metadata": {},
   "outputs": [
    {
     "name": "stdout",
     "output_type": "stream",
     "text": [
      "Precision: 1.0\n",
      "Recall: 1.0\n",
      "F1-score: 1.0\n"
     ]
    }
   ],
   "source": [
    "precision = precision_score(y_test, y_pred)\n",
    "recall = recall_score(y_test, y_pred)\n",
    "f1 = f1_score(y_test, y_pred)\n",
    "\n",
    "print(\"Precision:\", precision)\n",
    "print(\"Recall:\", recall)\n",
    "print(\"F1-score:\", f1)"
   ]
  },
  {
   "cell_type": "code",
   "execution_count": 47,
   "metadata": {},
   "outputs": [],
   "source": [
    "from sklearn.metrics import accuracy_score"
   ]
  },
  {
   "cell_type": "code",
   "execution_count": 48,
   "metadata": {},
   "outputs": [
    {
     "name": "stdout",
     "output_type": "stream",
     "text": [
      "Accuracy: 1.0\n"
     ]
    }
   ],
   "source": [
    "y_pred = model.predict(X_test_scaled)\n",
    "\n",
    "accuracy = accuracy_score(y_test, y_pred)\n",
    "print(\"Accuracy:\", accuracy)"
   ]
  },
  {
   "cell_type": "markdown",
   "metadata": {},
   "source": [
    "#### 1. Can you explain the difference between user-based and item-based collaborative filtering?\n",
    "Collaborative filtering is a popular technique used in recommendation systems, where the goal is to recommend items to users based on the preferences of other users or items. There are two main types of collaborative filtering: User-Based and Item-Based.\n",
    "\n",
    "User-Based Collaborative Filtering (UBCF):\n",
    "How it works: In user-based collaborative filtering, the system recommends items to a user based on the preferences of other users who are similar to them.\n",
    "Similarity Measurement: The key idea is to find users who have similar tastes or preferences by comparing their historical ratings or interactions with items. Typically, similarity is measured using metrics like cosine similarity, Pearson correlation, or Euclidean distance.\n",
    "Recommendation Generation: Once similar users (neighbors) are identified, the system recommends items that those neighbors have liked or rated highly but that the target user has not yet interacted with.\n",
    "In item-based collaborative filtering, the system recommends items based on the similarity between the items themselves, rather than between users.\n",
    "Similarity Measurement: The idea is to identify items that are similar to those the user has already interacted with. This can be done by looking at patterns of co-occurrence or similarity in ratings between items (e.g., users who liked item X also liked item Y).\n",
    "Recommendation Generation: Once similar items are identified, the system recommends items that are similar to those the user has liked or interacted with in the past."
   ]
  },
  {
   "cell_type": "markdown",
   "metadata": {},
   "source": [
    "#### 2. What is collaborative filtering, and how does it work\n",
    "Collaborative Filtering (CF) is a technique used in recommendation systems to predict the interests or preferences of a user by collecting preferences or ratings from many users. The assumption is that if users agree in the past, they will agree in the future about which items they like or dislike.\n",
    "\n",
    "How Collaborative Filtering Works:\n",
    "Collaborative filtering relies on the idea of leveraging the preferences of other users (or items) to make recommendations. The process typically involves two main steps:\n",
    "\n",
    "Finding Similar Users or Items:\n",
    "User-Based Collaborative Filtering: In this approach, the system identifies users whose preferences are similar to the target user. The similarity can be calculated using measures like Pearson correlation, cosine similarity, or Jaccard similarity.\n",
    "Item-Based Collaborative Filtering: Here, the system identifies items that are similar to those the user has already interacted with, using similarity measures between items based on users' ratings or interactions.\n",
    "Generating Recommendations:\n",
    "Once the system has identified similar users or items, it generates recommendations based on the preferences of the neighbors (in the case of user-based CF) or the similarity of items (in the case of item-based CF). The system suggests items that the target user has not yet interacted with but that are highly rated or liked by similar users or closely related items\n",
    "Types of Collaborative Filtering:\n",
    "Memory-Based Collaborative Filtering: This approach uses the entire user-item interaction matrix to find similarities and make recommendations. Both user-based and item-based collaborative filtering are considered memory-based methods, as they require large amounts of data to find similarities.\n",
    "Example: In a movie recommendation system, user-based CF might recommend movies that users with similar tastes have enjoyed, while item-based CF might recommend movies that are similar to those the user has liked.\n",
    "Model-Based Collaborative Filtering: This approach uses machine learning algorithms (e.g., matrix factorization, Singular Value Decomposition (SVD), or deep learning) to learn patterns from the user-item interaction matrix and make predictions."
   ]
  },
  {
   "cell_type": "code",
   "execution_count": null,
   "metadata": {},
   "outputs": [],
   "source": []
  }
 ],
 "metadata": {
  "kernelspec": {
   "display_name": "my_assign",
   "language": "python",
   "name": "python3"
  },
  "language_info": {
   "codemirror_mode": {
    "name": "ipython",
    "version": 3
   },
   "file_extension": ".py",
   "mimetype": "text/x-python",
   "name": "python",
   "nbconvert_exporter": "python",
   "pygments_lexer": "ipython3",
   "version": "3.12.3"
  }
 },
 "nbformat": 4,
 "nbformat_minor": 2
}
